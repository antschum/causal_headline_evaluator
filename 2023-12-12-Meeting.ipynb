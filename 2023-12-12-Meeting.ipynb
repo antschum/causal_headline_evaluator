{
 "cells": [
  {
   "cell_type": "markdown",
   "id": "a712caa8",
   "metadata": {},
   "source": [
    "2023-12-12 Meeting\n",
    "\n",
    "- Use click rate everywhere\n",
    "- Implement Causal Model: + Reading\n",
    "    - We divide every click rate by the article mean and the plug it in regression\n",
    "- Make Regplot https://seaborn.pydata.org/generated/seaborn.regplot.html - should expect a clear upwards trend\n",
    "- Taking the predictions of the correlational model and compare the top and least rated"
   ]
  },
  {
   "cell_type": "code",
   "execution_count": 1,
   "id": "a417d79a",
   "metadata": {},
   "outputs": [
    {
     "name": "stdout",
     "output_type": "stream",
     "text": [
      "Intel MKL WARNING: Support of Intel(R) Streaming SIMD Extensions 4.2 (Intel(R) SSE4.2) enabled only processors has been deprecated. Intel oneAPI Math Kernel Library 2025.0 will require Intel(R) Advanced Vector Extensions (Intel(R) AVX) instructions.\n",
      "Intel MKL WARNING: Support of Intel(R) Streaming SIMD Extensions 4.2 (Intel(R) SSE4.2) enabled only processors has been deprecated. Intel oneAPI Math Kernel Library 2025.0 will require Intel(R) Advanced Vector Extensions (Intel(R) AVX) instructions.\n"
     ]
    }
   ],
   "source": [
    "from sentence_transformers import SentenceTransformer\n",
    "import pandas as pd\n",
    "from torch.utils.data import TensorDataset, random_split\n",
    "from torch.utils.data import DataLoader, RandomSampler, SequentialSampler\n",
    "from sklearn.model_selection import train_test_split\n",
    "from sklearn.metrics import mean_squared_error, r2_score, mean_squared_error, mean_absolute_error\n",
    "import numpy as np\n",
    "from sklearn.linear_model import RidgeCV, LogisticRegression, LinearRegression\n",
    "from torch.utils.data import DataLoader, TensorDataset\n",
    "import csv\n",
    "import torch \n",
    "import pickle\n",
    "import random\n",
    "from sklearn.metrics import accuracy_score\n",
    "from scipy.stats import spearmanr\n",
    "import math"
   ]
  },
  {
   "cell_type": "code",
   "execution_count": 2,
   "id": "0395e4a2",
   "metadata": {},
   "outputs": [
    {
     "name": "stdout",
     "output_type": "stream",
     "text": [
      "No GPU available, using the CPU instead.\n"
     ]
    }
   ],
   "source": [
    "#cpu/gpu\n",
    "if torch.cuda.is_available():    \n",
    "\n",
    "    # Tell PyTorch to use the GPU.    \n",
    "    device = torch.device(\"cuda\")\n",
    "\n",
    "    print('There are %d GPU(s) available.' % torch.cuda.device_count())\n",
    "\n",
    "    print('We will use the GPU:', torch.cuda.get_device_name(0))\n",
    "\n",
    "# If not...\n",
    "else:\n",
    "    print('No GPU available, using the CPU instead.')\n",
    "    device = torch.device(\"cpu\")\n",
    "\n",
    "# Set random seed\n",
    "seed = 42\n",
    "torch.manual_seed(seed)\n",
    "np.random.seed(seed)\n",
    "random.seed(seed)"
   ]
  },
  {
   "cell_type": "code",
   "execution_count": 3,
   "id": "26d1539c",
   "metadata": {},
   "outputs": [
    {
     "name": "stdout",
     "output_type": "stream",
     "text": [
      "Unnamed: 0       4.641395\n",
      "excerpt          4.147581\n",
      "headline         4.641395\n",
      "lede             4.638489\n",
      "slug             4.641395\n",
      "eyecatcher_id    4.641395\n",
      "impressions      4.641395\n",
      "clicks           4.641395\n",
      "significance     4.641395\n",
      "first_place      4.641395\n",
      "winner           4.641395\n",
      "test_week        4.641395\n",
      "clickrate        4.641395\n",
      "dtype: float64\n",
      "Unnamed: 0      2.117931\n",
      "excerpt         1.892597\n",
      "headline        2.117931\n",
      "lede            2.116605\n",
      "slug            2.117931\n",
      "impressions     2.117931\n",
      "clicks          2.117931\n",
      "significance    2.117931\n",
      "first_place     2.117931\n",
      "winner          2.117931\n",
      "test_week       2.117931\n",
      "clickrate       2.117931\n",
      "dtype: float64\n"
     ]
    }
   ],
   "source": [
    "#Load data\n",
    "df = pd.read_csv(\"upworthy-archive-confirmatory-packages-03.12.2020.csv\", low_memory=False)\n",
    "#Delete some unnecessary columns\n",
    "delete_cols = [\"created_at\",\"updated_at\",\"share_text\",\"square\"]\n",
    "df = df.drop(columns=delete_cols)\n",
    "#remove rows without eyecatcher_id (about 100)\n",
    "has_eyecatcher_id = df['eyecatcher_id'].notna()\n",
    "df = df.loc[has_eyecatcher_id]\n",
    "#Create a new column for clickrate\n",
    "df[\"clickrate\"] = round((df[\"clicks\"]/ df[\"impressions\"]), ndigits=10)\n",
    "print(df.groupby([\"clickability_test_id\"]).count().mean()) #average of 4.64 packages within one test\n",
    "print(df.groupby([\"clickability_test_id\",\"eyecatcher_id\"]).count().mean()) #average of 2.11 packages with the same eyecatcher id and same clickability_test_id\n",
    "# Make tensor\n",
    "clickrate = torch.tensor(df.clickrate.values)"
   ]
  },
  {
   "cell_type": "code",
   "execution_count": 4,
   "id": "4056d937",
   "metadata": {},
   "outputs": [],
   "source": [
    "#Load prerun embeddings of all-mpnet-base-v2\n",
    "with open('all-mpnet-base-v2_embeddings.pkl', \"rb\") as fIn:\n",
    "    stored_data = pickle.load(fIn)\n",
    "    stored_sentences = stored_data['headlines']\n",
    "    stored_embeddings = stored_data['embeddings']\n",
    "    \n",
    "#remove rows without eyecatcher_id\n",
    "stored_sentences = stored_sentences[has_eyecatcher_id]\n",
    "stored_embeddings = stored_embeddings[has_eyecatcher_id]"
   ]
  },
  {
   "cell_type": "markdown",
   "id": "45f76e17",
   "metadata": {},
   "source": [
    "## 1.1 Predicting clickrate from headline embeddings with Ridge regression\n"
   ]
  },
  {
   "cell_type": "code",
   "execution_count": 5,
   "id": "e082b375",
   "metadata": {},
   "outputs": [],
   "source": [
    "# Model\n",
    "X_train, X_test, y_train, y_test = train_test_split(stored_embeddings, clickrate, test_size=0.2)"
   ]
  },
  {
   "cell_type": "code",
   "execution_count": 6,
   "id": "8912d9b4",
   "metadata": {},
   "outputs": [
    {
     "name": "stdout",
     "output_type": "stream",
     "text": [
      "Ridge Regression MSE for click difference: 0.00012049322728495216\n",
      "Ridge Regression R2 for click difference: 0.23560417568984493\n"
     ]
    }
   ],
   "source": [
    "# Ridge Model\n",
    "ridge_model =RidgeCV(alphas=[0.001,0.002,0.005,0.01,0.05,0.07,0.2,0.4,0.6, 1, 10],store_cv_values=True)\n",
    "ridge_model.fit(X_train, y_train)\n",
    "ridge_model.score(X_train,y_train)\n",
    "predictions = ridge_model.predict(X_test)\n",
    "rmse = mean_squared_error(y_test, predictions)\n",
    "print(\"Ridge Regression MSE for click difference:\", rmse)\n",
    "print(\"Ridge Regression R2 for click difference:\", r2_score(y_true=y_test, y_pred=predictions))\n",
    "df[\"predictions_ridge\"] = ridge_model.predict(stored_embeddings)"
   ]
  },
  {
   "cell_type": "markdown",
   "id": "b9f807f1",
   "metadata": {},
   "source": [
    "## 1.2 Predicting clickrate from headline embeddings with Linear regression"
   ]
  },
  {
   "cell_type": "code",
   "execution_count": 7,
   "id": "7e9503b2",
   "metadata": {},
   "outputs": [
    {
     "name": "stdout",
     "output_type": "stream",
     "text": [
      "Linear Regression MSE for clicks: 0.01097742354495669\n",
      "Linear Regression R2 for clicks: 0.23553692791171166\n"
     ]
    }
   ],
   "source": [
    "# Linear Model\n",
    "linear_model =LinearRegression()\n",
    "linear_model.fit(X_train, y_train)\n",
    "linear_model.score(X_train,y_train)\n",
    "predictions = linear_model.predict(X_test)\n",
    "rmse = mean_squared_error(y_test, predictions, squared=False)\n",
    "print(\"Linear Regression MSE for clicks:\", rmse)\n",
    "print(\"Linear Regression R2 for clicks:\", r2_score(y_true=y_test, y_pred=predictions))\n",
    "df[\"predictions_linear\"] = linear_model.predict(stored_embeddings)"
   ]
  },
  {
   "cell_type": "markdown",
   "id": "021623a7",
   "metadata": {},
   "source": [
    "## 1.3 Visualizing predicted clicks vs actual clicks"
   ]
  },
  {
   "cell_type": "code",
   "execution_count": 8,
   "id": "6a5e5243",
   "metadata": {},
   "outputs": [
    {
     "name": "stdout",
     "output_type": "stream",
     "text": [
      "0.04527606801037844\n"
     ]
    },
    {
     "data": {
      "text/plain": [
       "[Text(0, 0.5, 'true clickrate'), Text(0.5, 0, 'predicted clickrate')]"
      ]
     },
     "execution_count": 8,
     "metadata": {},
     "output_type": "execute_result"
    },
    {
     "data": {
      "image/png": "[encoded data removed]",
      "text/plain": [
       "<Figure size 640x480 with 1 Axes>"
      ]
     },
     "metadata": {},
     "output_type": "display_data"
    }
   ],
   "source": [
    "import seaborn as sns\n",
    "import matplotlib.pyplot as plt\n",
    "import warnings\n",
    "warnings.filterwarnings(\"ignore\", \"is_categorical_dtype\")\n",
    "# print stuff. \n",
    "predictions = ridge_model.predict(stored_embeddings)\n",
    "print(predictions.max())\n",
    "# visualize real and predicted values\n",
    "fig, ax = plt.subplots()\n",
    "sns.regplot(x = predictions, y = df.clickrate, ax=ax)\n",
    "ax.set(ylabel = 'true clickrate', xlabel = 'predicted clickrate')"
   ]
  },
  {
   "cell_type": "markdown",
   "id": "1711e851",
   "metadata": {},
   "source": [
    "## 2.Causal Model \n",
    "\n",
    "Implement Causal Model: + Reading\n",
    "    - We divide every click rate by the article mean and the plug it in regression"
   ]
  },
  {
   "cell_type": "code",
   "execution_count": 9,
   "id": "e73398aa-4ade-4412-ab41-d2e25ea0e1ee",
   "metadata": {
    "scrolled": true
   },
   "outputs": [
    {
     "name": "stdout",
     "output_type": "stream",
     "text": [
      "0\n"
     ]
    }
   ],
   "source": [
    "#calculating mean per clickability_test_id and eyecatcher_id\n",
    "df[\"means\"] = df.groupby([\"clickability_test_id\",\"eyecatcher_id\"])[\"clickrate\"].transform(\"mean\")\n",
    "df.columns\n",
    "df[\"adjusted_clickrate\"] = df[\"clickrate\"]/df[\"means\"]\n",
    "# set rows with 0 clicks -> adjusted clickrates NA - set to zero\n",
    "df[\"adjusted_clickrate\"] = df[\"adjusted_clickrate\"].fillna(0)\n",
    "print(df[\"adjusted_clickrate\"].isna().sum())\n",
    "adjusted_clickrate = torch.tensor(df.adjusted_clickrate.values)"
   ]
  },
  {
   "cell_type": "code",
   "execution_count": 10,
   "id": "67466e88",
   "metadata": {},
   "outputs": [
    {
     "data": {
      "text/html": [
       "<div>\n",
       "<style scoped>\n",
       "    .dataframe tbody tr th:only-of-type {\n",
       "        vertical-align: middle;\n",
       "    }\n",
       "\n",
       "    .dataframe tbody tr th {\n",
       "        vertical-align: top;\n",
       "    }\n",
       "\n",
       "    .dataframe thead th {\n",
       "        text-align: right;\n",
       "    }\n",
       "</style>\n",
       "<table border=\"1\" class=\"dataframe\">\n",
       "  <thead>\n",
       "    <tr style=\"text-align: right;\">\n",
       "      <th></th>\n",
       "      <th>headline</th>\n",
       "      <th>eyecatcher_id</th>\n",
       "      <th>clicks</th>\n",
       "      <th>impressions</th>\n",
       "      <th>means</th>\n",
       "      <th>clickrate</th>\n",
       "    </tr>\n",
       "  </thead>\n",
       "  <tbody>\n",
       "    <tr>\n",
       "      <th>8063</th>\n",
       "      <td>Folks in this city survive on $3 per day. He c...</td>\n",
       "      <td>54f63e1330663500262e0000</td>\n",
       "      <td>0</td>\n",
       "      <td>2433</td>\n",
       "      <td>0.0</td>\n",
       "      <td>0.0</td>\n",
       "    </tr>\n",
       "    <tr>\n",
       "      <th>9152</th>\n",
       "      <td>People all over the world have so many reasons...</td>\n",
       "      <td>550c68ad3862650024510000</td>\n",
       "      <td>0</td>\n",
       "      <td>1971</td>\n",
       "      <td>0.0</td>\n",
       "      <td>0.0</td>\n",
       "    </tr>\n",
       "    <tr>\n",
       "      <th>9155</th>\n",
       "      <td>They made history, but history forgot them. Un...</td>\n",
       "      <td>550b296a3630330018200000</td>\n",
       "      <td>0</td>\n",
       "      <td>2034</td>\n",
       "      <td>0.0</td>\n",
       "      <td>0.0</td>\n",
       "    </tr>\n",
       "    <tr>\n",
       "      <th>11986</th>\n",
       "      <td>Here’s Pete Seeger Doing One Of The Songs He L...</td>\n",
       "      <td>5332fbd6a2fc90ead000245b</td>\n",
       "      <td>0</td>\n",
       "      <td>47</td>\n",
       "      <td>0.0</td>\n",
       "      <td>0.0</td>\n",
       "    </tr>\n",
       "    <tr>\n",
       "      <th>31719</th>\n",
       "      <td>This Unjust War Costs Us Nearly $4 Billion Eve...</td>\n",
       "      <td>5332b6da1fae79f09f0012e4</td>\n",
       "      <td>0</td>\n",
       "      <td>64</td>\n",
       "      <td>0.0</td>\n",
       "      <td>0.0</td>\n",
       "    </tr>\n",
       "    <tr>\n",
       "      <th>31720</th>\n",
       "      <td>This Unjust War Costs Us Nearly $4 Billion Eve...</td>\n",
       "      <td>5332bbcc1fae79f09f0058d7</td>\n",
       "      <td>0</td>\n",
       "      <td>69</td>\n",
       "      <td>0.0</td>\n",
       "      <td>0.0</td>\n",
       "    </tr>\n",
       "    <tr>\n",
       "      <th>31721</th>\n",
       "      <td>Hey Barack, We're Blowing Billions On Busting ...</td>\n",
       "      <td>5332b6da1fae79f09f0012e4</td>\n",
       "      <td>0</td>\n",
       "      <td>66</td>\n",
       "      <td>0.0</td>\n",
       "      <td>0.0</td>\n",
       "    </tr>\n",
       "    <tr>\n",
       "      <th>31722</th>\n",
       "      <td>Hey Barack, We're Blowing Billions On Busting ...</td>\n",
       "      <td>5332bbcc1fae79f09f0058d7</td>\n",
       "      <td>0</td>\n",
       "      <td>53</td>\n",
       "      <td>0.0</td>\n",
       "      <td>0.0</td>\n",
       "    </tr>\n",
       "    <tr>\n",
       "      <th>31724</th>\n",
       "      <td>To Say There Isn't Injustice Here Is Is As Big...</td>\n",
       "      <td>5332bbcd1fae79f09f0058de</td>\n",
       "      <td>0</td>\n",
       "      <td>323</td>\n",
       "      <td>0.0</td>\n",
       "      <td>0.0</td>\n",
       "    </tr>\n",
       "    <tr>\n",
       "      <th>33839</th>\n",
       "      <td>It Only Took Rachel Maddow 48 Seconds To Shut ...</td>\n",
       "      <td>5332bc921fae79f09f006ddc</td>\n",
       "      <td>0</td>\n",
       "      <td>1</td>\n",
       "      <td>0.0</td>\n",
       "      <td>0.0</td>\n",
       "    </tr>\n",
       "    <tr>\n",
       "      <th>33840</th>\n",
       "      <td>It Only Took Rachel Maddow 48 Seconds To Debun...</td>\n",
       "      <td>5332bc921fae79f09f006ddc</td>\n",
       "      <td>0</td>\n",
       "      <td>130</td>\n",
       "      <td>0.0</td>\n",
       "      <td>0.0</td>\n",
       "    </tr>\n",
       "    <tr>\n",
       "      <th>36315</th>\n",
       "      <td>This Is What Happens When A Bunch Of Old Dudes...</td>\n",
       "      <td>5332bcbf1fae79f09f007214</td>\n",
       "      <td>0</td>\n",
       "      <td>11</td>\n",
       "      <td>0.0</td>\n",
       "      <td>0.0</td>\n",
       "    </tr>\n",
       "    <tr>\n",
       "      <th>37206</th>\n",
       "      <td>In Case You Missed It, Here's What The Trayvon...</td>\n",
       "      <td>5332bd1d1fae79f09f007ac7</td>\n",
       "      <td>0</td>\n",
       "      <td>4</td>\n",
       "      <td>0.0</td>\n",
       "      <td>0.0</td>\n",
       "    </tr>\n",
       "    <tr>\n",
       "      <th>37207</th>\n",
       "      <td>Imagine If This Man Had Walked Down The Wrong ...</td>\n",
       "      <td>5332bd1a1fae79f09f007a72</td>\n",
       "      <td>0</td>\n",
       "      <td>25</td>\n",
       "      <td>0.0</td>\n",
       "      <td>0.0</td>\n",
       "    </tr>\n",
       "    <tr>\n",
       "      <th>37208</th>\n",
       "      <td>Imagine If This Man Had Walked Down The Wrong ...</td>\n",
       "      <td>5332bd1c1fae79f09f007ab7</td>\n",
       "      <td>0</td>\n",
       "      <td>19</td>\n",
       "      <td>0.0</td>\n",
       "      <td>0.0</td>\n",
       "    </tr>\n",
       "    <tr>\n",
       "      <th>39516</th>\n",
       "      <td>If This Reality Is So Obvious To Kids, Why Can...</td>\n",
       "      <td>5332be271fae79f09f009211</td>\n",
       "      <td>0</td>\n",
       "      <td>2</td>\n",
       "      <td>0.0</td>\n",
       "      <td>0.0</td>\n",
       "    </tr>\n",
       "    <tr>\n",
       "      <th>39517</th>\n",
       "      <td>If This Reality Is So Obvious To Kids, Why Can...</td>\n",
       "      <td>5332be281fae79f09f009213</td>\n",
       "      <td>0</td>\n",
       "      <td>24</td>\n",
       "      <td>0.0</td>\n",
       "      <td>0.0</td>\n",
       "    </tr>\n",
       "    <tr>\n",
       "      <th>39519</th>\n",
       "      <td>If This Reality Is So Obvious To Kids, Why Can...</td>\n",
       "      <td>5332be281fae79f09f009217</td>\n",
       "      <td>0</td>\n",
       "      <td>1</td>\n",
       "      <td>0.0</td>\n",
       "      <td>0.0</td>\n",
       "    </tr>\n",
       "    <tr>\n",
       "      <th>40503</th>\n",
       "      <td>Alright Parents, Let's Just Acknowledge That W...</td>\n",
       "      <td>5332be9e1fae79f09f009d05</td>\n",
       "      <td>0</td>\n",
       "      <td>1</td>\n",
       "      <td>0.0</td>\n",
       "      <td>0.0</td>\n",
       "    </tr>\n",
       "    <tr>\n",
       "      <th>40504</th>\n",
       "      <td>Alright Parents, Let's Just Acknowledge That W...</td>\n",
       "      <td>5332be9e1fae79f09f009d05</td>\n",
       "      <td>0</td>\n",
       "      <td>18</td>\n",
       "      <td>0.0</td>\n",
       "      <td>0.0</td>\n",
       "    </tr>\n",
       "    <tr>\n",
       "      <th>40506</th>\n",
       "      <td>Alright Parents, Let's Just Acknowledge That W...</td>\n",
       "      <td>5332be9e1fae79f09f009d03</td>\n",
       "      <td>0</td>\n",
       "      <td>23</td>\n",
       "      <td>0.0</td>\n",
       "      <td>0.0</td>\n",
       "    </tr>\n",
       "    <tr>\n",
       "      <th>42300</th>\n",
       "      <td>What Can Happen In A Flash Of A Second? He Stu...</td>\n",
       "      <td>5332bf561fae79f09f00b017</td>\n",
       "      <td>0</td>\n",
       "      <td>2</td>\n",
       "      <td>0.0</td>\n",
       "      <td>0.0</td>\n",
       "    </tr>\n",
       "    <tr>\n",
       "      <th>42301</th>\n",
       "      <td>What Can Happen In A Flash Of A Second? He Stu...</td>\n",
       "      <td>5332bf561fae79f09f00b019</td>\n",
       "      <td>0</td>\n",
       "      <td>39</td>\n",
       "      <td>0.0</td>\n",
       "      <td>0.0</td>\n",
       "    </tr>\n",
       "    <tr>\n",
       "      <th>55413</th>\n",
       "      <td>Here’s Pete Seeger Doing One Of The Songs He L...</td>\n",
       "      <td>5332b6411fae79f09f000cc0</td>\n",
       "      <td>0</td>\n",
       "      <td>39</td>\n",
       "      <td>0.0</td>\n",
       "      <td>0.0</td>\n",
       "    </tr>\n",
       "    <tr>\n",
       "      <th>77447</th>\n",
       "      <td>Meet The Smarty-Pants Kids Who Stopped Going T...</td>\n",
       "      <td>53f74aff2193c5863a000007</td>\n",
       "      <td>0</td>\n",
       "      <td>4639</td>\n",
       "      <td>0.0</td>\n",
       "      <td>0.0</td>\n",
       "    </tr>\n",
       "    <tr>\n",
       "      <th>77448</th>\n",
       "      <td>Meet The Smarty-Pants Kids Who Stopped Going T...</td>\n",
       "      <td>53f74aff029b3462d3000001</td>\n",
       "      <td>0</td>\n",
       "      <td>4575</td>\n",
       "      <td>0.0</td>\n",
       "      <td>0.0</td>\n",
       "    </tr>\n",
       "  </tbody>\n",
       "</table>\n",
       "</div>"
      ],
      "text/plain": [
       "                                                headline  \\\n",
       "8063   Folks in this city survive on $3 per day. He c...   \n",
       "9152   People all over the world have so many reasons...   \n",
       "9155   They made history, but history forgot them. Un...   \n",
       "11986  Here’s Pete Seeger Doing One Of The Songs He L...   \n",
       "31719  This Unjust War Costs Us Nearly $4 Billion Eve...   \n",
       "31720  This Unjust War Costs Us Nearly $4 Billion Eve...   \n",
       "31721  Hey Barack, We're Blowing Billions On Busting ...   \n",
       "31722  Hey Barack, We're Blowing Billions On Busting ...   \n",
       "31724  To Say There Isn't Injustice Here Is Is As Big...   \n",
       "33839  It Only Took Rachel Maddow 48 Seconds To Shut ...   \n",
       "33840  It Only Took Rachel Maddow 48 Seconds To Debun...   \n",
       "36315  This Is What Happens When A Bunch Of Old Dudes...   \n",
       "37206  In Case You Missed It, Here's What The Trayvon...   \n",
       "37207  Imagine If This Man Had Walked Down The Wrong ...   \n",
       "37208  Imagine If This Man Had Walked Down The Wrong ...   \n",
       "39516  If This Reality Is So Obvious To Kids, Why Can...   \n",
       "39517  If This Reality Is So Obvious To Kids, Why Can...   \n",
       "39519  If This Reality Is So Obvious To Kids, Why Can...   \n",
       "40503  Alright Parents, Let's Just Acknowledge That W...   \n",
       "40504  Alright Parents, Let's Just Acknowledge That W...   \n",
       "40506  Alright Parents, Let's Just Acknowledge That W...   \n",
       "42300  What Can Happen In A Flash Of A Second? He Stu...   \n",
       "42301  What Can Happen In A Flash Of A Second? He Stu...   \n",
       "55413  Here’s Pete Seeger Doing One Of The Songs He L...   \n",
       "77447  Meet The Smarty-Pants Kids Who Stopped Going T...   \n",
       "77448  Meet The Smarty-Pants Kids Who Stopped Going T...   \n",
       "\n",
       "                  eyecatcher_id  clicks  impressions  means  clickrate  \n",
       "8063   54f63e1330663500262e0000       0         2433    0.0        0.0  \n",
       "9152   550c68ad3862650024510000       0         1971    0.0        0.0  \n",
       "9155   550b296a3630330018200000       0         2034    0.0        0.0  \n",
       "11986  5332fbd6a2fc90ead000245b       0           47    0.0        0.0  \n",
       "31719  5332b6da1fae79f09f0012e4       0           64    0.0        0.0  \n",
       "31720  5332bbcc1fae79f09f0058d7       0           69    0.0        0.0  \n",
       "31721  5332b6da1fae79f09f0012e4       0           66    0.0        0.0  \n",
       "31722  5332bbcc1fae79f09f0058d7       0           53    0.0        0.0  \n",
       "31724  5332bbcd1fae79f09f0058de       0          323    0.0        0.0  \n",
       "33839  5332bc921fae79f09f006ddc       0            1    0.0        0.0  \n",
       "33840  5332bc921fae79f09f006ddc       0          130    0.0        0.0  \n",
       "36315  5332bcbf1fae79f09f007214       0           11    0.0        0.0  \n",
       "37206  5332bd1d1fae79f09f007ac7       0            4    0.0        0.0  \n",
       "37207  5332bd1a1fae79f09f007a72       0           25    0.0        0.0  \n",
       "37208  5332bd1c1fae79f09f007ab7       0           19    0.0        0.0  \n",
       "39516  5332be271fae79f09f009211       0            2    0.0        0.0  \n",
       "39517  5332be281fae79f09f009213       0           24    0.0        0.0  \n",
       "39519  5332be281fae79f09f009217       0            1    0.0        0.0  \n",
       "40503  5332be9e1fae79f09f009d05       0            1    0.0        0.0  \n",
       "40504  5332be9e1fae79f09f009d05       0           18    0.0        0.0  \n",
       "40506  5332be9e1fae79f09f009d03       0           23    0.0        0.0  \n",
       "42300  5332bf561fae79f09f00b017       0            2    0.0        0.0  \n",
       "42301  5332bf561fae79f09f00b019       0           39    0.0        0.0  \n",
       "55413  5332b6411fae79f09f000cc0       0           39    0.0        0.0  \n",
       "77447  53f74aff2193c5863a000007       0         4639    0.0        0.0  \n",
       "77448  53f74aff029b3462d3000001       0         4575    0.0        0.0  "
      ]
     },
     "execution_count": 10,
     "metadata": {},
     "output_type": "execute_result"
    }
   ],
   "source": [
    "# What do we do with headlines that did not get any clicks? \n",
    "# Will they just have an adjusted clickrate of zero?\n",
    "df.loc[(df[\"clickrate\"]/df[\"means\"]).isna(), ['headline', 'eyecatcher_id', 'clicks', 'impressions', 'means', 'clickrate']]"
   ]
  },
  {
   "cell_type": "markdown",
   "id": "db0254cb-af0d-4d64-93c0-3106c0152430",
   "metadata": {},
   "source": [
    "## 2.1 Causal model with Ridge Regression "
   ]
  },
  {
   "cell_type": "code",
   "execution_count": 11,
   "id": "da4c0990-b442-4b5f-b011-871f731f8194",
   "metadata": {},
   "outputs": [
    {
     "name": "stdout",
     "output_type": "stream",
     "text": [
      "Causal Ridge Regression MSE for click difference: 0.047840957781797595\n",
      "Causal Ridge Regression R2 for click difference: 0.030016315158696405\n"
     ]
    }
   ],
   "source": [
    "X_train, X_test, y_train, y_test = train_test_split(stored_embeddings, adjusted_clickrate, test_size=0.2)\n",
    "causal_ridge_model =RidgeCV(alphas=[0.001,0.002,0.005,0.01,0.05,0.07,0.2,0.4,0.6, 1, 10],store_cv_values=True)\n",
    "causal_ridge_model.fit(X_train, y_train)\n",
    "causal_ridge_model.score(X_train,y_train)\n",
    "causal_predictions_rg = causal_ridge_model.predict(X_test)\n",
    "rmse = mean_squared_error(y_test, causal_predictions_rg)\n",
    "print(\"Causal Ridge Regression MSE for click difference:\", rmse)\n",
    "print(\"Causal Ridge Regression R2 for click difference:\", r2_score(y_true=y_test, y_pred=causal_predictions_rg))\n",
    "df[\"causal_predictions_ridge\"] = causal_ridge_model.predict(stored_embeddings)"
   ]
  },
  {
   "cell_type": "markdown",
   "id": "f17d5407-c759-4ea3-acd3-eb8afae04ee2",
   "metadata": {},
   "source": [
    "## 2.2 Causal model with Linear Regression"
   ]
  },
  {
   "cell_type": "code",
   "execution_count": 12,
   "id": "c7635f29-4864-4141-a142-9026c06ba913",
   "metadata": {},
   "outputs": [
    {
     "name": "stdout",
     "output_type": "stream",
     "text": [
      "Causal Linear Regression MSE for clicks: 0.21960700392856172\n",
      "Causal Linear Regression R2 for clicks: 0.022184454007067145\n"
     ]
    }
   ],
   "source": [
    "causal_linear_model =LinearRegression()\n",
    "causal_linear_model.fit(X_train, y_train)\n",
    "causal_linear_model.score(X_train,y_train)\n",
    "causal_predictions_lm = causal_linear_model.predict(X_test)\n",
    "rmse = mean_squared_error(y_test, causal_predictions_lm, squared=False)\n",
    "print(\"Causal Linear Regression MSE for clicks:\", rmse)\n",
    "print(\"Causal Linear Regression R2 for clicks:\", r2_score(y_true=y_test, y_pred=causal_predictions_lm))\n",
    "df[\"causal_predictions_linear\"] = causal_linear_model.predict(stored_embeddings)"
   ]
  },
  {
   "cell_type": "markdown",
   "id": "759f696b",
   "metadata": {},
   "source": [
    "## 3.1 Compare top / bottom 20 causal model with correlational model - Ridge Regression\n"
   ]
  },
  {
   "cell_type": "code",
   "execution_count": 13,
   "id": "85dd3c29",
   "metadata": {},
   "outputs": [
    {
     "data": {
      "application/vnd.jupyter.widget-view+json": {
       "model_id": "fcc522e5455d428fbcd4592fcaea5794",
       "version_major": 2,
       "version_minor": 0
      },
      "text/plain": [
       "HBox(children=(Output(), Output()), layout=Layout(display='flex', flex_flow='row', justify_content='space-arou…"
      ]
     },
     "execution_count": 13,
     "metadata": {},
     "output_type": "execute_result"
    }
   ],
   "source": [
    "from ipywidgets import widgets, Layout\n",
    "from IPython import display\n",
    "\n",
    "\n",
    "last20_pred = df.sort_values([\"predictions_ridge\"],ascending=True).loc[:,['headline']][:20]\n",
    "last20_pred_causal = df.sort_values([\"causal_predictions_ridge\"],ascending=True).loc[:,['headline']][:20]\n",
    "widget1 = widgets.Output()\n",
    "widget2 = widgets.Output()\n",
    "\n",
    "# render in output widgets\n",
    "with widget1:\n",
    "    display.display(last20_pred.style.set_caption('Last 20 Ridge'))\n",
    "    last20_pred.info()\n",
    "with widget2:\n",
    "    display.display(last20_pred_causal.style.set_caption('Last 20 Causal'))\n",
    "    last20_pred_causal.info()\n",
    "\n",
    "\n",
    "# add some CSS styles to distribute free space\n",
    "box_layout = Layout(display='flex',\n",
    "                    flex_flow='row',\n",
    "                    justify_content='space-around',\n",
    "                    width='auto'\n",
    "                   )\n",
    "    \n",
    "\n",
    "box = widgets.HBox([widget1, widget2], layout=box_layout)\n",
    "box"
   ]
  },
  {
   "cell_type": "code",
   "execution_count": 14,
   "id": "492a61f5",
   "metadata": {},
   "outputs": [
    {
     "data": {
      "text/plain": [
       "array(['You Know What Gets Bi-Partisan Support? Not Being Corrupt And Working Together. By A 2-1 Margin.'],\n",
       "      dtype=object)"
      ]
     },
     "execution_count": 14,
     "metadata": {},
     "output_type": "execute_result"
    }
   ],
   "source": [
    "#Checking for intersection\n",
    "np.intersect1d(last20_pred.values,last20_pred_causal.values)"
   ]
  },
  {
   "cell_type": "code",
   "execution_count": 15,
   "id": "321c94a6-d975-4794-9b97-682f9d6992cd",
   "metadata": {
    "scrolled": false
   },
   "outputs": [
    {
     "data": {
      "application/vnd.jupyter.widget-view+json": {
       "model_id": "1d5c9190fdee4cf58b69aa2a45124cdb",
       "version_major": 2,
       "version_minor": 0
      },
      "text/plain": [
       "HBox(children=(Output(), Output()), layout=Layout(display='flex', flex_flow='row', justify_content='space-arou…"
      ]
     },
     "execution_count": 15,
     "metadata": {},
     "output_type": "execute_result"
    }
   ],
   "source": [
    "first20_pred = df.sort_values([\"predictions_ridge\"],ascending=False).loc[:,['headline']][:20]\n",
    "first20_pred_causal = df.sort_values([\"causal_predictions_ridge\"],ascending=False).loc[:,['headline']][:20]\n",
    "widget1 = widgets.Output()\n",
    "widget2 = widgets.Output()\n",
    "\n",
    "# render in output widgets\n",
    "with widget1:\n",
    "    display.display(first20_pred.style.set_caption('First 20 Ridge'))\n",
    "    first20_pred.info()\n",
    "with widget2:\n",
    "    display.display(first20_pred_causal.style.set_caption('First 20 Causal'))\n",
    "    first20_pred_causal.info()\n",
    "\n",
    "\n",
    "# add some CSS styles to distribute free space\n",
    "box_layout = Layout(display='flex',\n",
    "                    flex_flow='row',\n",
    "                    justify_content='space-around',\n",
    "                    width='auto'\n",
    "                   )\n",
    "    \n",
    "\n",
    "box = widgets.HBox([widget1, widget2], layout=box_layout)\n",
    "box"
   ]
  },
  {
   "cell_type": "code",
   "execution_count": 16,
   "id": "49c60917-7798-4431-9495-fa4257a252f9",
   "metadata": {},
   "outputs": [
    {
     "data": {
      "text/plain": [
       "array([], dtype=object)"
      ]
     },
     "execution_count": 16,
     "metadata": {},
     "output_type": "execute_result"
    }
   ],
   "source": [
    "np.intersect1d(first20_pred.values,first20_pred_causal.values)"
   ]
  },
  {
   "cell_type": "markdown",
   "id": "41a304c6-6c63-44b2-8678-3ff7b28a70cf",
   "metadata": {},
   "source": [
    "## 3.1 Compare top / bottom 20 causal model with correlational model - Linear"
   ]
  },
  {
   "cell_type": "code",
   "execution_count": 17,
   "id": "ac03f733-144e-44d6-b33b-b7ab87c4d8a6",
   "metadata": {},
   "outputs": [
    {
     "data": {
      "application/vnd.jupyter.widget-view+json": {
       "model_id": "f18a528cf4c84fb490cf8477003e3b12",
       "version_major": 2,
       "version_minor": 0
      },
      "text/plain": [
       "HBox(children=(Output(), Output()), layout=Layout(display='flex', flex_flow='row', justify_content='space-arou…"
      ]
     },
     "execution_count": 17,
     "metadata": {},
     "output_type": "execute_result"
    }
   ],
   "source": [
    "last20_pred = df.sort_values([\"predictions_linear\"],ascending=True).loc[:,['headline']][:20]\n",
    "last20_pred_causal = df.sort_values([\"causal_predictions_linear\"],ascending=True).loc[:,['headline']][:20]\n",
    "widget1 = widgets.Output()\n",
    "widget2 = widgets.Output()\n",
    "\n",
    "# render in output widgets\n",
    "with widget1:\n",
    "    display.display(last20_pred.style.set_caption('Last 20 Linear'))\n",
    "    last20_pred.info()\n",
    "with widget2:\n",
    "    display.display(last20_pred_causal.style.set_caption('Last 20 Causal'))\n",
    "    last20_pred_causal.info()\n",
    "\n",
    "\n",
    "# add some CSS styles to distribute free space\n",
    "box_layout = Layout(display='flex',\n",
    "                    flex_flow='row',\n",
    "                    justify_content='space-around',\n",
    "                    width='auto'\n",
    "                   )\n",
    "    \n",
    "\n",
    "box = widgets.HBox([widget1, widget2], layout=box_layout)\n",
    "box"
   ]
  },
  {
   "cell_type": "code",
   "execution_count": 18,
   "id": "38b296bb-cef5-487f-92bf-d0878546b96c",
   "metadata": {},
   "outputs": [
    {
     "data": {
      "text/plain": [
       "array(['You Know What Gets Bi-Partisan Support? Not Being Corrupt And Working Together. By A 2-1 Margin.'],\n",
       "      dtype=object)"
      ]
     },
     "execution_count": 18,
     "metadata": {},
     "output_type": "execute_result"
    }
   ],
   "source": [
    "#Checking for intersection\n",
    "np.intersect1d(last20_pred.values,last20_pred_causal.values)"
   ]
  },
  {
   "cell_type": "code",
   "execution_count": 19,
   "id": "c6a1a6a7-e4ee-47a7-8f24-04fb1d9fe41e",
   "metadata": {
    "scrolled": true
   },
   "outputs": [
    {
     "data": {
      "application/vnd.jupyter.widget-view+json": {
       "model_id": "9dfd08fed6634262a48136529e77e204",
       "version_major": 2,
       "version_minor": 0
      },
      "text/plain": [
       "HBox(children=(Output(), Output()), layout=Layout(display='flex', flex_flow='row', justify_content='space-arou…"
      ]
     },
     "execution_count": 19,
     "metadata": {},
     "output_type": "execute_result"
    }
   ],
   "source": [
    "first20_pred = df.sort_values([\"predictions_linear\"],ascending=False).loc[:,['headline']][:20]\n",
    "first20_pred_causal = df.sort_values([\"causal_predictions_linear\"],ascending=False).loc[:,['headline']][:20]\n",
    "widget1 = widgets.Output()\n",
    "widget2 = widgets.Output()\n",
    "\n",
    "# render in output widgets\n",
    "with widget1:\n",
    "    display.display(first20_pred.style.set_caption('First 20 Linear'))\n",
    "    first20_pred.info()\n",
    "with widget2:\n",
    "    display.display(first20_pred_causal.style.set_caption('First 20 Causal'))\n",
    "    first20_pred_causal.info()\n",
    "\n",
    "\n",
    "# add some CSS styles to distribute free space\n",
    "box_layout = Layout(display='flex',\n",
    "                    flex_flow='row',\n",
    "                    justify_content='space-around',\n",
    "                    width='auto'\n",
    "                   )\n",
    "    \n",
    "\n",
    "box = widgets.HBox([widget1, widget2], layout=box_layout)\n",
    "box"
   ]
  },
  {
   "cell_type": "code",
   "execution_count": 20,
   "id": "fcf376c6-8a59-4949-ad7b-36debe44db3d",
   "metadata": {},
   "outputs": [
    {
     "data": {
      "text/plain": [
       "array([], dtype=object)"
      ]
     },
     "execution_count": 20,
     "metadata": {},
     "output_type": "execute_result"
    }
   ],
   "source": [
    "#Checking for intersection\n",
    "np.intersect1d(first20_pred.values,first20_pred_causal.values)"
   ]
  }
 ],
 "metadata": {
  "kernelspec": {
   "display_name": "Python 3 (ipykernel)",
   "language": "python",
   "name": "python3"
  },
  "language_info": {
   "codemirror_mode": {
    "name": "ipython",
    "version": 3
   },
   "file_extension": ".py",
   "mimetype": "text/x-python",
   "name": "python",
   "nbconvert_exporter": "python",
   "pygments_lexer": "ipython3",
   "version": "3.10.13"
  }
 },
 "nbformat": 4,
 "nbformat_minor": 5
}
