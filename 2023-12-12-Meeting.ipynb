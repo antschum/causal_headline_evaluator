{
 "cells": [
  {
   "cell_type": "markdown",
   "id": "a712caa8",
   "metadata": {},
   "source": [
    "2023-12-12 Meeting\n",
    "\n",
    "- Use click rate everywhere\n",
    "- Implement Causal Model: + Reading\n",
    "    - We divide every click rate by the article mean and the plug it in regression\n",
    "- Make Regplot https://seaborn.pydata.org/generated/seaborn.regplot.html - should expect a clear upwards trend\n",
    "- Taking the predictions of the correlational model and compare the top and least rated"
   ]
  },
  {
   "cell_type": "code",
   "execution_count": 1,
   "id": "a417d79a",
   "metadata": {},
   "outputs": [
    {
     "name": "stdout",
     "output_type": "stream",
     "text": [
      "Intel MKL WARNING: Support of Intel(R) Streaming SIMD Extensions 4.2 (Intel(R) SSE4.2) enabled only processors has been deprecated. Intel oneAPI Math Kernel Library 2025.0 will require Intel(R) Advanced Vector Extensions (Intel(R) AVX) instructions.\n",
      "Intel MKL WARNING: Support of Intel(R) Streaming SIMD Extensions 4.2 (Intel(R) SSE4.2) enabled only processors has been deprecated. Intel oneAPI Math Kernel Library 2025.0 will require Intel(R) Advanced Vector Extensions (Intel(R) AVX) instructions.\n"
     ]
    }
   ],
   "source": [
    "from sentence_transformers import SentenceTransformer\n",
    "from transformers import AutoTokenizer\n",
    "import pandas as pd\n",
    "from torch.utils.data import TensorDataset, random_split\n",
    "from torch.utils.data import DataLoader, RandomSampler, SequentialSampler\n",
    "from sklearn.model_selection import train_test_split\n",
    "from sklearn.metrics import mean_squared_error, r2_score, mean_squared_error, mean_absolute_error\n",
    "import numpy as np\n",
    "from sklearn.linear_model import RidgeCV, LogisticRegression, LinearRegression\n",
    "from torch.utils.data import DataLoader, TensorDataset\n",
    "import csv\n",
    "import torch \n",
    "import pickle\n",
    "import random\n",
    "from sklearn.metrics import accuracy_score\n",
    "from scipy.stats import spearmanr\n",
    "import math\n",
    "import shap"
   ]
  },
  {
   "cell_type": "code",
   "execution_count": 2,
   "id": "0395e4a2",
   "metadata": {},
   "outputs": [
    {
     "name": "stdout",
     "output_type": "stream",
     "text": [
      "No GPU available, using the CPU instead.\n"
     ]
    }
   ],
   "source": [
    "#cpu/gpu\n",
    "if torch.cuda.is_available():    \n",
    "\n",
    "    # Tell PyTorch to use the GPU.    \n",
    "    device = torch.device(\"cuda\")\n",
    "\n",
    "    print('There are %d GPU(s) available.' % torch.cuda.device_count())\n",
    "\n",
    "    print('We will use the GPU:', torch.cuda.get_device_name(0))\n",
    "\n",
    "# If not...\n",
    "else:\n",
    "    print('No GPU available, using the CPU instead.')\n",
    "    device = torch.device(\"cpu\")\n",
    "\n",
    "# Set random seed\n",
    "seed = 42\n",
    "torch.manual_seed(seed)\n",
    "np.random.seed(seed)\n",
    "random.seed(seed)"
   ]
  },
  {
   "cell_type": "code",
   "execution_count": 3,
   "id": "70b7888d",
   "metadata": {},
   "outputs": [
    {
     "name": "stdout",
     "output_type": "stream",
     "text": [
      "Unnamed: 0       4.641395\n",
      "excerpt          4.147581\n",
      "headline         4.641395\n",
      "lede             4.638489\n",
      "slug             4.641395\n",
      "eyecatcher_id    4.641395\n",
      "impressions      4.641395\n",
      "clicks           4.641395\n",
      "significance     4.641395\n",
      "first_place      4.641395\n",
      "winner           4.641395\n",
      "test_week        4.641395\n",
      "clickrate        4.641395\n",
      "dtype: float64\n",
      "Unnamed: 0      2.117931\n",
      "excerpt         1.892597\n",
      "headline        2.117931\n",
      "lede            2.116605\n",
      "slug            2.117931\n",
      "impressions     2.117931\n",
      "clicks          2.117931\n",
      "significance    2.117931\n",
      "first_place     2.117931\n",
      "winner          2.117931\n",
      "test_week       2.117931\n",
      "clickrate       2.117931\n",
      "dtype: float64\n"
     ]
    }
   ],
   "source": [
    "#Load data\n",
    "df = pd.read_csv(\"upworthy-archive-confirmatory-packages-03.12.2020.csv\", low_memory=False)\n",
    "#Delete some unnecessary columns\n",
    "delete_cols = [\"created_at\",\"updated_at\",\"share_text\",\"square\"]\n",
    "df = df.drop(columns=delete_cols)\n",
    "#remove rows without eyecatcher_id (about 100)\n",
    "has_eyecatcher_id = df['eyecatcher_id'].notna()\n",
    "df = df.loc[has_eyecatcher_id]\n",
    "#Create a new column for clickrate\n",
    "df[\"clickrate\"] = round((df[\"clicks\"]/ df[\"impressions\"]), ndigits=10)\n",
    "print(df.groupby([\"clickability_test_id\"]).count().mean()) #average of 4.64 packages within one test\n",
    "print(df.groupby([\"clickability_test_id\",\"eyecatcher_id\"]).count().mean()) #average of 2.11 packages with the same eyecatcher id and same clickability_test_id\n",
    "# Make tensor\n",
    "clickrate = torch.tensor(df.clickrate.values)"
   ]
  },
  {
   "cell_type": "code",
   "execution_count": 4,
   "id": "137ce53e",
   "metadata": {},
   "outputs": [],
   "source": [
    "#Load prerun embeddings of all-mpnet-base-v2\n",
    "with open('all-mpnet-base-v2_embeddings.pkl', \"rb\") as fIn:\n",
    "    stored_data = pickle.load(fIn)\n",
    "    stored_sentences = stored_data['headlines']\n",
    "    stored_embeddings = stored_data['embeddings']\n",
    "    \n",
    "#remove rows without eyecatcher_id\n",
    "stored_sentences = stored_sentences[has_eyecatcher_id]\n",
    "stored_embeddings = stored_embeddings[has_eyecatcher_id]"
   ]
  },
  {
   "cell_type": "markdown",
   "id": "45f76e17",
   "metadata": {},
   "source": [
    "## 1.1 Predicting clickrate from headline embeddings with Ridge regression\n"
   ]
  },
  {
   "cell_type": "code",
   "execution_count": 5,
   "id": "e082b375",
   "metadata": {},
   "outputs": [],
   "source": [
    "# Model\n",
    "X_train, X_test, y_train, y_test = train_test_split(stored_embeddings, clickrate, test_size=0.2)"
   ]
  },
  {
   "cell_type": "code",
   "execution_count": 6,
   "id": "8912d9b4",
   "metadata": {},
   "outputs": [
    {
     "name": "stdout",
     "output_type": "stream",
     "text": [
      "Ridge Regression MSE for click difference: 0.00012049322728495216\n",
      "Ridge Regression R2 for click difference: 0.23560417568984493\n"
     ]
    }
   ],
   "source": [
    "# Ridge Model\n",
    "ridge_model =RidgeCV(alphas=[0.001,0.002,0.005,0.01,0.05,0.07,0.2,0.4,0.6, 1, 10],store_cv_values=True)\n",
    "ridge_model.fit(X_train, y_train)\n",
    "ridge_model.score(X_train,y_train)\n",
    "predictions = ridge_model.predict(X_test)\n",
    "rmse = mean_squared_error(y_test, predictions)\n",
    "print(\"Ridge Regression MSE for click difference:\", rmse)\n",
    "print(\"Ridge Regression R2 for click difference:\", r2_score(y_true=y_test, y_pred=predictions))\n",
    "df[\"predictions_ridge\"] = ridge_model.predict(stored_embeddings)"
   ]
  },
  {
   "cell_type": "markdown",
   "id": "b9f807f1",
   "metadata": {},
   "source": [
    "## 1.2 Predicting clickrate from headline embeddings with Linear regression"
   ]
  },
  {
   "cell_type": "code",
   "execution_count": 7,
   "id": "7e9503b2",
   "metadata": {},
   "outputs": [
    {
     "name": "stdout",
     "output_type": "stream",
     "text": [
      "Linear Regression MSE for clicks: 0.01097742354495669\n",
      "Linear Regression R2 for clicks: 0.23553692791171166\n"
     ]
    }
   ],
   "source": [
    "# Linear Model\n",
    "linear_model =LinearRegression()\n",
    "linear_model.fit(X_train, y_train)\n",
    "linear_model.score(X_train,y_train)\n",
    "predictions = linear_model.predict(X_test)\n",
    "rmse = mean_squared_error(y_test, predictions, squared=False)\n",
    "print(\"Linear Regression MSE for clicks:\", rmse)\n",
    "print(\"Linear Regression R2 for clicks:\", r2_score(y_true=y_test, y_pred=predictions))\n",
    "df[\"predictions_linear\"] = linear_model.predict(stored_embeddings)"
   ]
  },
  {
   "cell_type": "markdown",
   "id": "021623a7",
   "metadata": {},
   "source": [
    "## 1.3 Visualizing predicted clicks vs actual clicks"
   ]
  },
  {
   "cell_type": "code",
   "execution_count": 8,
   "id": "6a5e5243",
   "metadata": {},
   "outputs": [
    {
     "name": "stdout",
     "output_type": "stream",
     "text": [
      "0.04527606801037844\n"
     ]
    },
    {
     "data": {
      "text/plain": [
       "[Text(0, 0.5, 'true clickrate'), Text(0.5, 0, 'predicted clickrate')]"
      ]
     },
     "execution_count": 8,
     "metadata": {},
     "output_type": "execute_result"
    },
    {
     "data": {
      "image/png": "[encoded data removed]",
      "text/plain": [
       "<Figure size 640x480 with 1 Axes>"
      ]
     },
     "metadata": {},
     "output_type": "display_data"
    }
   ],
   "source": [
    "import seaborn as sns\n",
    "import matplotlib.pyplot as plt\n",
    "import warnings\n",
    "warnings.filterwarnings(\"ignore\", \"is_categorical_dtype\")\n",
    "# print stuff. \n",
    "predictions = ridge_model.predict(stored_embeddings)\n",
    "print(predictions.max())\n",
    "# visualize real and predicted values\n",
    "fig, ax = plt.subplots()\n",
    "sns.regplot(x = predictions, y = df.clickrate, ax=ax)\n",
    "ax.set(ylabel = 'true clickrate', xlabel = 'predicted clickrate')"
   ]
  },
  {
   "cell_type": "markdown",
   "id": "1711e851",
   "metadata": {},
   "source": [
    "## 2.Causal Model \n",
    "\n",
    "Implement Causal Model: + Reading\n",
    "    - We divide every click rate by the article mean and the plug it in regression"
   ]
  },
  {
   "cell_type": "code",
   "execution_count": 9,
   "id": "e73398aa-4ade-4412-ab41-d2e25ea0e1ee",
   "metadata": {
    "scrolled": true
   },
   "outputs": [
    {
     "name": "stdout",
     "output_type": "stream",
     "text": [
      "0\n"
     ]
    }
   ],
   "source": [
    "#calculating mean per clickability_test_id and eyecatcher_id\n",
    "df[\"means\"] = df.groupby([\"clickability_test_id\",\"eyecatcher_id\"])[\"clickrate\"].transform(\"mean\")\n",
    "df.columns\n",
    "df[\"adjusted_clickrate\"] = df[\"clickrate\"]/df[\"means\"]\n",
    "# set rows with 0 clicks -> adjusted clickrates NA - set to zero\n",
    "df[\"adjusted_clickrate\"] = df[\"adjusted_clickrate\"].fillna(0)\n",
    "print(df[\"adjusted_clickrate\"].isna().sum())\n",
    "adjusted_clickrate = torch.tensor(df.adjusted_clickrate.values)"
   ]
  },
  {
   "cell_type": "code",
   "execution_count": 10,
   "id": "67466e88",
   "metadata": {},
   "outputs": [
    {
     "data": {
      "text/html": [
       "<div>\n",
       "<style scoped>\n",
       "    .dataframe tbody tr th:only-of-type {\n",
       "        vertical-align: middle;\n",
       "    }\n",
       "\n",
       "    .dataframe tbody tr th {\n",
       "        vertical-align: top;\n",
       "    }\n",
       "\n",
       "    .dataframe thead th {\n",
       "        text-align: right;\n",
       "    }\n",
       "</style>\n",
       "<table border=\"1\" class=\"dataframe\">\n",
       "  <thead>\n",
       "    <tr style=\"text-align: right;\">\n",
       "      <th></th>\n",
       "      <th>headline</th>\n",
       "      <th>eyecatcher_id</th>\n",
       "      <th>clicks</th>\n",
       "      <th>impressions</th>\n",
       "      <th>means</th>\n",
       "      <th>clickrate</th>\n",
       "    </tr>\n",
       "  </thead>\n",
       "  <tbody>\n",
       "    <tr>\n",
       "      <th>8063</th>\n",
       "      <td>Folks in this city survive on $3 per day. He c...</td>\n",
       "      <td>54f63e1330663500262e0000</td>\n",
       "      <td>0</td>\n",
       "      <td>2433</td>\n",
       "      <td>0.0</td>\n",
       "      <td>0.0</td>\n",
       "    </tr>\n",
       "    <tr>\n",
       "      <th>9152</th>\n",
       "      <td>People all over the world have so many reasons...</td>\n",
       "      <td>550c68ad3862650024510000</td>\n",
       "      <td>0</td>\n",
       "      <td>1971</td>\n",
       "      <td>0.0</td>\n",
       "      <td>0.0</td>\n",
       "    </tr>\n",
       "    <tr>\n",
       "      <th>9155</th>\n",
       "      <td>They made history, but history forgot them. Un...</td>\n",
       "      <td>550b296a3630330018200000</td>\n",
       "      <td>0</td>\n",
       "      <td>2034</td>\n",
       "      <td>0.0</td>\n",
       "      <td>0.0</td>\n",
       "    </tr>\n",
       "    <tr>\n",
       "      <th>11986</th>\n",
       "      <td>Here’s Pete Seeger Doing One Of The Songs He L...</td>\n",
       "      <td>5332fbd6a2fc90ead000245b</td>\n",
       "      <td>0</td>\n",
       "      <td>47</td>\n",
       "      <td>0.0</td>\n",
       "      <td>0.0</td>\n",
       "    </tr>\n",
       "    <tr>\n",
       "      <th>31719</th>\n",
       "      <td>This Unjust War Costs Us Nearly $4 Billion Eve...</td>\n",
       "      <td>5332b6da1fae79f09f0012e4</td>\n",
       "      <td>0</td>\n",
       "      <td>64</td>\n",
       "      <td>0.0</td>\n",
       "      <td>0.0</td>\n",
       "    </tr>\n",
       "    <tr>\n",
       "      <th>31720</th>\n",
       "      <td>This Unjust War Costs Us Nearly $4 Billion Eve...</td>\n",
       "      <td>5332bbcc1fae79f09f0058d7</td>\n",
       "      <td>0</td>\n",
       "      <td>69</td>\n",
       "      <td>0.0</td>\n",
       "      <td>0.0</td>\n",
       "    </tr>\n",
       "    <tr>\n",
       "      <th>31721</th>\n",
       "      <td>Hey Barack, We're Blowing Billions On Busting ...</td>\n",
       "      <td>5332b6da1fae79f09f0012e4</td>\n",
       "      <td>0</td>\n",
       "      <td>66</td>\n",
       "      <td>0.0</td>\n",
       "      <td>0.0</td>\n",
       "    </tr>\n",
       "    <tr>\n",
       "      <th>31722</th>\n",
       "      <td>Hey Barack, We're Blowing Billions On Busting ...</td>\n",
       "      <td>5332bbcc1fae79f09f0058d7</td>\n",
       "      <td>0</td>\n",
       "      <td>53</td>\n",
       "      <td>0.0</td>\n",
       "      <td>0.0</td>\n",
       "    </tr>\n",
       "    <tr>\n",
       "      <th>31724</th>\n",
       "      <td>To Say There Isn't Injustice Here Is Is As Big...</td>\n",
       "      <td>5332bbcd1fae79f09f0058de</td>\n",
       "      <td>0</td>\n",
       "      <td>323</td>\n",
       "      <td>0.0</td>\n",
       "      <td>0.0</td>\n",
       "    </tr>\n",
       "    <tr>\n",
       "      <th>33839</th>\n",
       "      <td>It Only Took Rachel Maddow 48 Seconds To Shut ...</td>\n",
       "      <td>5332bc921fae79f09f006ddc</td>\n",
       "      <td>0</td>\n",
       "      <td>1</td>\n",
       "      <td>0.0</td>\n",
       "      <td>0.0</td>\n",
       "    </tr>\n",
       "    <tr>\n",
       "      <th>33840</th>\n",
       "      <td>It Only Took Rachel Maddow 48 Seconds To Debun...</td>\n",
       "      <td>5332bc921fae79f09f006ddc</td>\n",
       "      <td>0</td>\n",
       "      <td>130</td>\n",
       "      <td>0.0</td>\n",
       "      <td>0.0</td>\n",
       "    </tr>\n",
       "    <tr>\n",
       "      <th>36315</th>\n",
       "      <td>This Is What Happens When A Bunch Of Old Dudes...</td>\n",
       "      <td>5332bcbf1fae79f09f007214</td>\n",
       "      <td>0</td>\n",
       "      <td>11</td>\n",
       "      <td>0.0</td>\n",
       "      <td>0.0</td>\n",
       "    </tr>\n",
       "    <tr>\n",
       "      <th>37206</th>\n",
       "      <td>In Case You Missed It, Here's What The Trayvon...</td>\n",
       "      <td>5332bd1d1fae79f09f007ac7</td>\n",
       "      <td>0</td>\n",
       "      <td>4</td>\n",
       "      <td>0.0</td>\n",
       "      <td>0.0</td>\n",
       "    </tr>\n",
       "    <tr>\n",
       "      <th>37207</th>\n",
       "      <td>Imagine If This Man Had Walked Down The Wrong ...</td>\n",
       "      <td>5332bd1a1fae79f09f007a72</td>\n",
       "      <td>0</td>\n",
       "      <td>25</td>\n",
       "      <td>0.0</td>\n",
       "      <td>0.0</td>\n",
       "    </tr>\n",
       "    <tr>\n",
       "      <th>37208</th>\n",
       "      <td>Imagine If This Man Had Walked Down The Wrong ...</td>\n",
       "      <td>5332bd1c1fae79f09f007ab7</td>\n",
       "      <td>0</td>\n",
       "      <td>19</td>\n",
       "      <td>0.0</td>\n",
       "      <td>0.0</td>\n",
       "    </tr>\n",
       "    <tr>\n",
       "      <th>39516</th>\n",
       "      <td>If This Reality Is So Obvious To Kids, Why Can...</td>\n",
       "      <td>5332be271fae79f09f009211</td>\n",
       "      <td>0</td>\n",
       "      <td>2</td>\n",
       "      <td>0.0</td>\n",
       "      <td>0.0</td>\n",
       "    </tr>\n",
       "    <tr>\n",
       "      <th>39517</th>\n",
       "      <td>If This Reality Is So Obvious To Kids, Why Can...</td>\n",
       "      <td>5332be281fae79f09f009213</td>\n",
       "      <td>0</td>\n",
       "      <td>24</td>\n",
       "      <td>0.0</td>\n",
       "      <td>0.0</td>\n",
       "    </tr>\n",
       "    <tr>\n",
       "      <th>39519</th>\n",
       "      <td>If This Reality Is So Obvious To Kids, Why Can...</td>\n",
       "      <td>5332be281fae79f09f009217</td>\n",
       "      <td>0</td>\n",
       "      <td>1</td>\n",
       "      <td>0.0</td>\n",
       "      <td>0.0</td>\n",
       "    </tr>\n",
       "    <tr>\n",
       "      <th>40503</th>\n",
       "      <td>Alright Parents, Let's Just Acknowledge That W...</td>\n",
       "      <td>5332be9e1fae79f09f009d05</td>\n",
       "      <td>0</td>\n",
       "      <td>1</td>\n",
       "      <td>0.0</td>\n",
       "      <td>0.0</td>\n",
       "    </tr>\n",
       "    <tr>\n",
       "      <th>40504</th>\n",
       "      <td>Alright Parents, Let's Just Acknowledge That W...</td>\n",
       "      <td>5332be9e1fae79f09f009d05</td>\n",
       "      <td>0</td>\n",
       "      <td>18</td>\n",
       "      <td>0.0</td>\n",
       "      <td>0.0</td>\n",
       "    </tr>\n",
       "    <tr>\n",
       "      <th>40506</th>\n",
       "      <td>Alright Parents, Let's Just Acknowledge That W...</td>\n",
       "      <td>5332be9e1fae79f09f009d03</td>\n",
       "      <td>0</td>\n",
       "      <td>23</td>\n",
       "      <td>0.0</td>\n",
       "      <td>0.0</td>\n",
       "    </tr>\n",
       "    <tr>\n",
       "      <th>42300</th>\n",
       "      <td>What Can Happen In A Flash Of A Second? He Stu...</td>\n",
       "      <td>5332bf561fae79f09f00b017</td>\n",
       "      <td>0</td>\n",
       "      <td>2</td>\n",
       "      <td>0.0</td>\n",
       "      <td>0.0</td>\n",
       "    </tr>\n",
       "    <tr>\n",
       "      <th>42301</th>\n",
       "      <td>What Can Happen In A Flash Of A Second? He Stu...</td>\n",
       "      <td>5332bf561fae79f09f00b019</td>\n",
       "      <td>0</td>\n",
       "      <td>39</td>\n",
       "      <td>0.0</td>\n",
       "      <td>0.0</td>\n",
       "    </tr>\n",
       "    <tr>\n",
       "      <th>55413</th>\n",
       "      <td>Here’s Pete Seeger Doing One Of The Songs He L...</td>\n",
       "      <td>5332b6411fae79f09f000cc0</td>\n",
       "      <td>0</td>\n",
       "      <td>39</td>\n",
       "      <td>0.0</td>\n",
       "      <td>0.0</td>\n",
       "    </tr>\n",
       "    <tr>\n",
       "      <th>77447</th>\n",
       "      <td>Meet The Smarty-Pants Kids Who Stopped Going T...</td>\n",
       "      <td>53f74aff2193c5863a000007</td>\n",
       "      <td>0</td>\n",
       "      <td>4639</td>\n",
       "      <td>0.0</td>\n",
       "      <td>0.0</td>\n",
       "    </tr>\n",
       "    <tr>\n",
       "      <th>77448</th>\n",
       "      <td>Meet The Smarty-Pants Kids Who Stopped Going T...</td>\n",
       "      <td>53f74aff029b3462d3000001</td>\n",
       "      <td>0</td>\n",
       "      <td>4575</td>\n",
       "      <td>0.0</td>\n",
       "      <td>0.0</td>\n",
       "    </tr>\n",
       "  </tbody>\n",
       "</table>\n",
       "</div>"
      ],
      "text/plain": [
       "                                                headline  \\\n",
       "8063   Folks in this city survive on $3 per day. He c...   \n",
       "9152   People all over the world have so many reasons...   \n",
       "9155   They made history, but history forgot them. Un...   \n",
       "11986  Here’s Pete Seeger Doing One Of The Songs He L...   \n",
       "31719  This Unjust War Costs Us Nearly $4 Billion Eve...   \n",
       "31720  This Unjust War Costs Us Nearly $4 Billion Eve...   \n",
       "31721  Hey Barack, We're Blowing Billions On Busting ...   \n",
       "31722  Hey Barack, We're Blowing Billions On Busting ...   \n",
       "31724  To Say There Isn't Injustice Here Is Is As Big...   \n",
       "33839  It Only Took Rachel Maddow 48 Seconds To Shut ...   \n",
       "33840  It Only Took Rachel Maddow 48 Seconds To Debun...   \n",
       "36315  This Is What Happens When A Bunch Of Old Dudes...   \n",
       "37206  In Case You Missed It, Here's What The Trayvon...   \n",
       "37207  Imagine If This Man Had Walked Down The Wrong ...   \n",
       "37208  Imagine If This Man Had Walked Down The Wrong ...   \n",
       "39516  If This Reality Is So Obvious To Kids, Why Can...   \n",
       "39517  If This Reality Is So Obvious To Kids, Why Can...   \n",
       "39519  If This Reality Is So Obvious To Kids, Why Can...   \n",
       "40503  Alright Parents, Let's Just Acknowledge That W...   \n",
       "40504  Alright Parents, Let's Just Acknowledge That W...   \n",
       "40506  Alright Parents, Let's Just Acknowledge That W...   \n",
       "42300  What Can Happen In A Flash Of A Second? He Stu...   \n",
       "42301  What Can Happen In A Flash Of A Second? He Stu...   \n",
       "55413  Here’s Pete Seeger Doing One Of The Songs He L...   \n",
       "77447  Meet The Smarty-Pants Kids Who Stopped Going T...   \n",
       "77448  Meet The Smarty-Pants Kids Who Stopped Going T...   \n",
       "\n",
       "                  eyecatcher_id  clicks  impressions  means  clickrate  \n",
       "8063   54f63e1330663500262e0000       0         2433    0.0        0.0  \n",
       "9152   550c68ad3862650024510000       0         1971    0.0        0.0  \n",
       "9155   550b296a3630330018200000       0         2034    0.0        0.0  \n",
       "11986  5332fbd6a2fc90ead000245b       0           47    0.0        0.0  \n",
       "31719  5332b6da1fae79f09f0012e4       0           64    0.0        0.0  \n",
       "31720  5332bbcc1fae79f09f0058d7       0           69    0.0        0.0  \n",
       "31721  5332b6da1fae79f09f0012e4       0           66    0.0        0.0  \n",
       "31722  5332bbcc1fae79f09f0058d7       0           53    0.0        0.0  \n",
       "31724  5332bbcd1fae79f09f0058de       0          323    0.0        0.0  \n",
       "33839  5332bc921fae79f09f006ddc       0            1    0.0        0.0  \n",
       "33840  5332bc921fae79f09f006ddc       0          130    0.0        0.0  \n",
       "36315  5332bcbf1fae79f09f007214       0           11    0.0        0.0  \n",
       "37206  5332bd1d1fae79f09f007ac7       0            4    0.0        0.0  \n",
       "37207  5332bd1a1fae79f09f007a72       0           25    0.0        0.0  \n",
       "37208  5332bd1c1fae79f09f007ab7       0           19    0.0        0.0  \n",
       "39516  5332be271fae79f09f009211       0            2    0.0        0.0  \n",
       "39517  5332be281fae79f09f009213       0           24    0.0        0.0  \n",
       "39519  5332be281fae79f09f009217       0            1    0.0        0.0  \n",
       "40503  5332be9e1fae79f09f009d05       0            1    0.0        0.0  \n",
       "40504  5332be9e1fae79f09f009d05       0           18    0.0        0.0  \n",
       "40506  5332be9e1fae79f09f009d03       0           23    0.0        0.0  \n",
       "42300  5332bf561fae79f09f00b017       0            2    0.0        0.0  \n",
       "42301  5332bf561fae79f09f00b019       0           39    0.0        0.0  \n",
       "55413  5332b6411fae79f09f000cc0       0           39    0.0        0.0  \n",
       "77447  53f74aff2193c5863a000007       0         4639    0.0        0.0  \n",
       "77448  53f74aff029b3462d3000001       0         4575    0.0        0.0  "
      ]
     },
     "execution_count": 10,
     "metadata": {},
     "output_type": "execute_result"
    }
   ],
   "source": [
    "# What do we do with headlines that did not get any clicks? \n",
    "# Will they just have an adjusted clickrate of zero?\n",
    "df.loc[(df[\"clickrate\"]/df[\"means\"]).isna(), ['headline', 'eyecatcher_id', 'clicks', 'impressions', 'means', 'clickrate']]"
   ]
  },
  {
   "cell_type": "markdown",
   "id": "db0254cb-af0d-4d64-93c0-3106c0152430",
   "metadata": {},
   "source": [
    "## 2.1 Causal model with Ridge Regression "
   ]
  },
  {
   "cell_type": "code",
   "execution_count": 11,
   "id": "da4c0990-b442-4b5f-b011-871f731f8194",
   "metadata": {},
   "outputs": [
    {
     "name": "stdout",
     "output_type": "stream",
     "text": [
      "Causal Ridge Regression MSE for click difference: 0.047840957781797595\n",
      "Causal Ridge Regression R2 for click difference: 0.030016315158696405\n"
     ]
    }
   ],
   "source": [
    "X_train, X_test, y_train, y_test = train_test_split(stored_embeddings, adjusted_clickrate, test_size=0.2)\n",
    "causal_ridge_model =RidgeCV(alphas=[0.001,0.002,0.005,0.01,0.05,0.07,0.2,0.4,0.6, 1, 10],store_cv_values=True)\n",
    "causal_ridge_model.fit(X_train, y_train)\n",
    "causal_ridge_model.score(X_train,y_train)\n",
    "causal_predictions_rg = causal_ridge_model.predict(X_test)\n",
    "rmse = mean_squared_error(y_test, causal_predictions_rg)\n",
    "print(\"Causal Ridge Regression MSE for click difference:\", rmse)\n",
    "print(\"Causal Ridge Regression R2 for click difference:\", r2_score(y_true=y_test, y_pred=causal_predictions_rg))\n",
    "df[\"causal_predictions_ridge\"] = causal_ridge_model.predict(stored_embeddings)"
   ]
  },
  {
   "cell_type": "markdown",
   "id": "f17d5407-c759-4ea3-acd3-eb8afae04ee2",
   "metadata": {},
   "source": [
    "## 2.2 Causal model with Linear Regression"
   ]
  },
  {
   "cell_type": "code",
   "execution_count": 12,
   "id": "c7635f29-4864-4141-a142-9026c06ba913",
   "metadata": {},
   "outputs": [
    {
     "name": "stdout",
     "output_type": "stream",
     "text": [
      "Causal Linear Regression MSE for clicks: 0.21960700392856172\n",
      "Causal Linear Regression R2 for clicks: 0.022184454007067145\n"
     ]
    }
   ],
   "source": [
    "causal_linear_model =LinearRegression()\n",
    "causal_linear_model.fit(X_train, y_train)\n",
    "causal_linear_model.score(X_train,y_train)\n",
    "causal_predictions_lm = causal_linear_model.predict(X_test)\n",
    "rmse = mean_squared_error(y_test, causal_predictions_lm, squared=False)\n",
    "print(\"Causal Linear Regression MSE for clicks:\", rmse)\n",
    "print(\"Causal Linear Regression R2 for clicks:\", r2_score(y_true=y_test, y_pred=causal_predictions_lm))\n",
    "df[\"causal_predictions_linear\"] = causal_linear_model.predict(stored_embeddings)"
   ]
  },
  {
   "cell_type": "markdown",
   "id": "759f696b",
   "metadata": {},
   "source": [
    "## 3.1 Compare top / bottom 20 causal model with correlational model - Ridge Regression\n"
   ]
  },
  {
   "cell_type": "code",
   "execution_count": 13,
   "id": "85dd3c29",
   "metadata": {},
   "outputs": [
    {
     "data": {
      "application/vnd.jupyter.widget-view+json": {
       "model_id": "620b583f17da433290d092dc8bb4705b",
       "version_major": 2,
       "version_minor": 0
      },
      "text/plain": [
       "HBox(children=(Output(), Output()), layout=Layout(display='flex', flex_flow='row', justify_content='space-arou…"
      ]
     },
     "execution_count": 13,
     "metadata": {},
     "output_type": "execute_result"
    }
   ],
   "source": [
    "from ipywidgets import widgets, Layout\n",
    "from IPython import display\n",
    "\n",
    "\n",
    "last20_pred = df.sort_values([\"predictions_ridge\"],ascending=True).loc[:,['headline']][:20]\n",
    "last20_pred_causal = df.sort_values([\"causal_predictions_ridge\"],ascending=True).loc[:,['headline']][:20]\n",
    "widget1 = widgets.Output()\n",
    "widget2 = widgets.Output()\n",
    "\n",
    "# render in output widgets\n",
    "with widget1:\n",
    "    display.display(last20_pred.style.set_caption('Last 20 Ridge'))\n",
    "    last20_pred.info()\n",
    "with widget2:\n",
    "    display.display(last20_pred_causal.style.set_caption('Last 20 Causal'))\n",
    "    last20_pred_causal.info()\n",
    "\n",
    "\n",
    "# add some CSS styles to distribute free space\n",
    "box_layout = Layout(display='flex',\n",
    "                    flex_flow='row',\n",
    "                    justify_content='space-around',\n",
    "                    width='auto'\n",
    "                   )\n",
    "    \n",
    "\n",
    "box = widgets.HBox([widget1, widget2], layout=box_layout)\n",
    "box"
   ]
  },
  {
   "cell_type": "code",
   "execution_count": 14,
   "id": "492a61f5",
   "metadata": {},
   "outputs": [
    {
     "data": {
      "text/plain": [
       "array(['You Know What Gets Bi-Partisan Support? Not Being Corrupt And Working Together. By A 2-1 Margin.'],\n",
       "      dtype=object)"
      ]
     },
     "execution_count": 14,
     "metadata": {},
     "output_type": "execute_result"
    }
   ],
   "source": [
    "#Checking for intersection\n",
    "np.intersect1d(last20_pred.values,last20_pred_causal.values)"
   ]
  },
  {
   "cell_type": "code",
   "execution_count": 15,
   "id": "321c94a6-d975-4794-9b97-682f9d6992cd",
   "metadata": {
    "scrolled": false
   },
   "outputs": [
    {
     "data": {
      "application/vnd.jupyter.widget-view+json": {
       "model_id": "e94cba052b9d407fa29294b080f2bdae",
       "version_major": 2,
       "version_minor": 0
      },
      "text/plain": [
       "HBox(children=(Output(), Output()), layout=Layout(display='flex', flex_flow='row', justify_content='space-arou…"
      ]
     },
     "execution_count": 15,
     "metadata": {},
     "output_type": "execute_result"
    }
   ],
   "source": [
    "first20_pred = df.sort_values([\"predictions_ridge\"],ascending=False).loc[:,['headline']][:20]\n",
    "first20_pred_causal = df.sort_values([\"causal_predictions_ridge\"],ascending=False).loc[:,['headline']][:20]\n",
    "widget1 = widgets.Output()\n",
    "widget2 = widgets.Output()\n",
    "\n",
    "# render in output widgets\n",
    "with widget1:\n",
    "    display.display(first20_pred.style.set_caption('First 20 Ridge'))\n",
    "    first20_pred.info()\n",
    "with widget2:\n",
    "    display.display(first20_pred_causal.style.set_caption('First 20 Causal'))\n",
    "    first20_pred_causal.info()\n",
    "\n",
    "\n",
    "# add some CSS styles to distribute free space\n",
    "box_layout = Layout(display='flex',\n",
    "                    flex_flow='row',\n",
    "                    justify_content='space-around',\n",
    "                    width='auto'\n",
    "                   )\n",
    "    \n",
    "\n",
    "box = widgets.HBox([widget1, widget2], layout=box_layout)\n",
    "box"
   ]
  },
  {
   "cell_type": "code",
   "execution_count": 16,
   "id": "49c60917-7798-4431-9495-fa4257a252f9",
   "metadata": {},
   "outputs": [
    {
     "data": {
      "text/plain": [
       "array([], dtype=object)"
      ]
     },
     "execution_count": 16,
     "metadata": {},
     "output_type": "execute_result"
    }
   ],
   "source": [
    "np.intersect1d(first20_pred.values,first20_pred_causal.values)"
   ]
  },
  {
   "cell_type": "markdown",
   "id": "41a304c6-6c63-44b2-8678-3ff7b28a70cf",
   "metadata": {},
   "source": [
    "## 3.1 Compare top / bottom 20 causal model with correlational model - Linear"
   ]
  },
  {
   "cell_type": "code",
   "execution_count": 17,
   "id": "ac03f733-144e-44d6-b33b-b7ab87c4d8a6",
   "metadata": {},
   "outputs": [
    {
     "data": {
      "application/vnd.jupyter.widget-view+json": {
       "model_id": "1bfe2c9f17fe46f19f30ec742936eaf1",
       "version_major": 2,
       "version_minor": 0
      },
      "text/plain": [
       "HBox(children=(Output(), Output()), layout=Layout(display='flex', flex_flow='row', justify_content='space-arou…"
      ]
     },
     "execution_count": 17,
     "metadata": {},
     "output_type": "execute_result"
    }
   ],
   "source": [
    "last20_pred = df.sort_values([\"predictions_linear\"],ascending=True).loc[:,['headline']][:20]\n",
    "last20_pred_causal = df.sort_values([\"causal_predictions_linear\"],ascending=True).loc[:,['headline']][:20]\n",
    "widget1 = widgets.Output()\n",
    "widget2 = widgets.Output()\n",
    "\n",
    "# render in output widgets\n",
    "with widget1:\n",
    "    display.display(last20_pred.style.set_caption('Last 20 Linear'))\n",
    "    last20_pred.info()\n",
    "with widget2:\n",
    "    display.display(last20_pred_causal.style.set_caption('Last 20 Causal'))\n",
    "    last20_pred_causal.info()\n",
    "\n",
    "\n",
    "# add some CSS styles to distribute free space\n",
    "box_layout = Layout(display='flex',\n",
    "                    flex_flow='row',\n",
    "                    justify_content='space-around',\n",
    "                    width='auto'\n",
    "                   )\n",
    "    \n",
    "\n",
    "box = widgets.HBox([widget1, widget2], layout=box_layout)\n",
    "box"
   ]
  },
  {
   "cell_type": "code",
   "execution_count": 18,
   "id": "38b296bb-cef5-487f-92bf-d0878546b96c",
   "metadata": {},
   "outputs": [
    {
     "data": {
      "text/plain": [
       "array(['You Know What Gets Bi-Partisan Support? Not Being Corrupt And Working Together. By A 2-1 Margin.'],\n",
       "      dtype=object)"
      ]
     },
     "execution_count": 18,
     "metadata": {},
     "output_type": "execute_result"
    }
   ],
   "source": [
    "#Checking for intersection\n",
    "np.intersect1d(last20_pred.values,last20_pred_causal.values)"
   ]
  },
  {
   "cell_type": "code",
   "execution_count": 19,
   "id": "c6a1a6a7-e4ee-47a7-8f24-04fb1d9fe41e",
   "metadata": {
    "scrolled": false
   },
   "outputs": [
    {
     "data": {
      "application/vnd.jupyter.widget-view+json": {
       "model_id": "da2b984672e74353a03d6be86dbb6dc8",
       "version_major": 2,
       "version_minor": 0
      },
      "text/plain": [
       "HBox(children=(Output(), Output()), layout=Layout(display='flex', flex_flow='row', justify_content='space-arou…"
      ]
     },
     "execution_count": 19,
     "metadata": {},
     "output_type": "execute_result"
    }
   ],
   "source": [
    "first20_pred = df.sort_values([\"predictions_linear\"],ascending=False).loc[:,['headline']][:20]\n",
    "first20_pred_causal = df.sort_values([\"causal_predictions_linear\"],ascending=False).loc[:,['headline']][:20]\n",
    "widget1 = widgets.Output()\n",
    "widget2 = widgets.Output()\n",
    "\n",
    "# render in output widgets\n",
    "with widget1:\n",
    "    display.display(first20_pred.style.set_caption('First 20 Linear'))\n",
    "    first20_pred.info()\n",
    "with widget2:\n",
    "    display.display(first20_pred_causal.style.set_caption('First 20 Causal'))\n",
    "    first20_pred_causal.info()\n",
    "\n",
    "\n",
    "# add some CSS styles to distribute free space\n",
    "box_layout = Layout(display='flex',\n",
    "                    flex_flow='row',\n",
    "                    justify_content='space-around',\n",
    "                    width='auto'\n",
    "                   )\n",
    "    \n",
    "\n",
    "box = widgets.HBox([widget1, widget2], layout=box_layout)\n",
    "box"
   ]
  },
  {
   "cell_type": "code",
   "execution_count": 20,
   "id": "fcf376c6-8a59-4949-ad7b-36debe44db3d",
   "metadata": {},
   "outputs": [
    {
     "data": {
      "text/plain": [
       "array([], dtype=object)"
      ]
     },
     "execution_count": 20,
     "metadata": {},
     "output_type": "execute_result"
    }
   ],
   "source": [
    "#Checking for intersection\n",
    "np.intersect1d(first20_pred.values,first20_pred_causal.values)"
   ]
  },
  {
   "cell_type": "markdown",
   "id": "b248dfc3",
   "metadata": {},
   "source": [
    "## 4.1 Shapley Values Ridge Regression predicting Clickrate"
   ]
  },
  {
   "cell_type": "code",
   "execution_count": 21,
   "id": "c529ef78",
   "metadata": {},
   "outputs": [],
   "source": [
    "# load the model\n",
    "\n",
    "# here we also need embeddings - the whole thing is our model\n",
    "model = SentenceTransformer(\n",
    "    \"sentence-transformers/all-mpnet-base-v2\")\n",
    "\n",
    "# this defines an explicit python function that takes a list of strings and outputs scores for each class\n",
    "def f(x):\n",
    "    embedding = model.encode(x)\n",
    "    return ridge_model.predict(embedding)"
   ]
  },
  {
   "cell_type": "code",
   "execution_count": 22,
   "id": "9c7d40bb",
   "metadata": {},
   "outputs": [],
   "source": [
    "method = \"custom tokenizer\"\n",
    "\n",
    "# build an explainer by passing a transformers tokenizer\n",
    "if method == \"transformers tokenizer\":\n",
    "    explainer = shap.Explainer(f)\n",
    "\n",
    "# build an explainer by explicitly creating a masker\n",
    "elif method == \"default masker\":\n",
    "    masker = shap.maskers.Text(r\"\\W\")  # this will create a basic whitespace tokenizer\n",
    "    explainer = shap.Explainer(f, masker)\n",
    "\n",
    "# build a fully custom tokenizer\n",
    "elif method == \"custom tokenizer\":\n",
    "    import re\n",
    "\n",
    "    def custom_tokenizer(s, return_offsets_mapping=True):\n",
    "        \"\"\"Custom tokenizers conform to a subset of the transformers API.\"\"\"\n",
    "        pos = 0\n",
    "        offset_ranges = []\n",
    "        input_ids = []\n",
    "        for m in re.finditer(r\"\\W\", s):\n",
    "            start, end = m.span(0)\n",
    "            offset_ranges.append((pos, start))\n",
    "            input_ids.append(s[pos:start])\n",
    "            pos = end\n",
    "        if pos != len(s):\n",
    "            offset_ranges.append((pos, len(s)))\n",
    "            input_ids.append(s[pos:])\n",
    "        out = {}\n",
    "        out[\"input_ids\"] = input_ids\n",
    "        if return_offsets_mapping:\n",
    "            out[\"offset_mapping\"] = offset_ranges\n",
    "        return out\n",
    "\n",
    "    masker = shap.maskers.Text(custom_tokenizer)\n",
    "    explainer = shap.Explainer(f, masker)"
   ]
  },
  {
   "cell_type": "code",
   "execution_count": 23,
   "id": "40266b3f",
   "metadata": {
    "scrolled": true
   },
   "outputs": [
    {
     "data": {
      "application/vnd.jupyter.widget-view+json": {
       "model_id": "0056b791d4f146e489b235b35d99958d",
       "version_major": 2,
       "version_minor": 0
      },
      "text/plain": [
       "  0%|          | 0/498 [00:00<?, ?it/s]"
      ]
     },
     "metadata": {},
     "output_type": "display_data"
    },
    {
     "name": "stderr",
     "output_type": "stream",
     "text": [
      "Partition explainer: 2it [00:20, 20.96s/it]                                     \n"
     ]
    }
   ],
   "source": [
    "shap_values = explainer(df[\"headline\"][:1])"
   ]
  },
  {
   "cell_type": "code",
   "execution_count": 24,
   "id": "ac73286e",
   "metadata": {
    "scrolled": true
   },
   "outputs": [
    {
     "data": {
      "text/plain": [
       "array([0.01435928])"
      ]
     },
     "execution_count": 24,
     "metadata": {},
     "output_type": "execute_result"
    }
   ],
   "source": [
    "ridge_model.predict(stored_embeddings[0].reshape(1,-1))"
   ]
  },
  {
   "cell_type": "code",
   "execution_count": 25,
   "id": "3fcd0857",
   "metadata": {
    "scrolled": false
   },
   "outputs": [
    {
     "data": {
      "text/html": [
       "\n",
       "    <br>\n",
       "    <hr style=\"height: 1px; background-color: #fff; border: none; margin-top: 18px; margin-bottom: 18px; border-top: 1px dashed #ccc;\"\">\n",
       "    <div align=\"center\" style=\"margin-top: -35px;\"><div style=\"display: inline-block; background: #fff; padding: 5px; color: #999; font-family: monospace\">[0]</div>\n",
       "    </div>\n",
       "                <svg width=\"100%\" height=\"80px\"><line x1=\"0\" y1=\"33\" x2=\"100%\" y2=\"33\" style=\"stroke:rgb(150,150,150);stroke-width:1\" /><line x1=\"48.75479383566492%\" y1=\"33\" x2=\"48.75479383566492%\" y2=\"37\" style=\"stroke:rgb(150,150,150);stroke-width:1\" /><text x=\"48.75479383566492%\" y=\"27\" font-size=\"12px\" fill=\"rgb(120,120,120)\" dominant-baseline=\"bottom\" text-anchor=\"middle\">0</text><line x1=\"27.252934014035414%\" y1=\"33\" x2=\"27.252934014035414%\" y2=\"37\" style=\"stroke:rgb(150,150,150);stroke-width:1\" /><text x=\"27.252934014035414%\" y=\"27\" font-size=\"12px\" fill=\"rgb(120,120,120)\" dominant-baseline=\"bottom\" text-anchor=\"middle\">-0.01</text><line x1=\"70.25665365729444%\" y1=\"33\" x2=\"70.25665365729444%\" y2=\"37\" style=\"stroke:rgb(150,150,150);stroke-width:1\" /><text x=\"70.25665365729444%\" y=\"27\" font-size=\"12px\" fill=\"rgb(120,120,120)\" dominant-baseline=\"bottom\" text-anchor=\"middle\">0.01</text><line x1=\"91.75851347892394%\" y1=\"33\" x2=\"91.75851347892394%\" y2=\"37\" style=\"stroke:rgb(150,150,150);stroke-width:1\" /><text x=\"91.75851347892394%\" y=\"27\" font-size=\"12px\" fill=\"rgb(120,120,120)\" dominant-baseline=\"bottom\" text-anchor=\"middle\">0.02</text><line x1=\"20.296491680842387%\" y1=\"33\" x2=\"20.296491680842387%\" y2=\"37\" style=\"stroke:rgb(150,150,150);stroke-width:1\" /><text x=\"20.296491680842387%\" y=\"27\" font-size=\"13px\" style=\"stroke:#ffffff;stroke-width:8px;\" fill=\"rgb(255,255,255)\" dominant-baseline=\"bottom\" text-anchor=\"middle\">-0.0132353</text><text x=\"20.296491680842387%\" y=\"27\" font-size=\"12px\" fill=\"rgb(120,120,120)\" dominant-baseline=\"bottom\" text-anchor=\"middle\">-0.0132353</text><text x=\"20.296491680842387%\" y=\"10\" font-size=\"12px\" fill=\"rgb(120,120,120)\" dominant-baseline=\"bottom\" text-anchor=\"middle\">base value</text><line x1=\"79.70348681729779%\" y1=\"33\" x2=\"79.70348681729779%\" y2=\"37\" style=\"stroke:rgb(150,150,150);stroke-width:1\" /><text x=\"79.70348681729779%\" y=\"27\" font-size=\"13px\" style=\"stroke:#ffffff;stroke-width:8px;\" font-weight=\"bold\" fill=\"rgb(255,255,255)\" dominant-baseline=\"bottom\" text-anchor=\"middle\">0.0143935</text><text x=\"79.70348681729779%\" y=\"27\" font-size=\"13px\" font-weight=\"bold\" fill=\"rgb(0,0,0)\" dominant-baseline=\"bottom\" text-anchor=\"middle\">0.0143935</text><text x=\"79.70348681729779%\" y=\"10\" font-size=\"12px\" fill=\"rgb(120,120,120)\" dominant-baseline=\"bottom\" text-anchor=\"middle\">f<tspan baseline-shift=\"sub\" font-size=\"8px\"></tspan>(inputs)</text><rect x=\"8.333331541511681%\" width=\"71.3701552757861%\" y=\"40\" height=\"18\" style=\"fill:rgb(255.0, 0.0, 81.08083606031792); stroke-width:0; stroke:rgb(0,0,0)\" /><line x1=\"64.29984798868004%\" x2=\"79.70348681729779%\" y1=\"60\" y2=\"60\" id=\"_fb_usieyiccwpusnzjovqwp_ind_17\" style=\"stroke:rgb(255.0, 0.0, 81.08083606031792);stroke-width:2; opacity: 0\"/><text x=\"72.00166740298891%\" y=\"71\" font-size=\"12px\" id=\"_fs_usieyiccwpusnzjovqwp_ind_17\" fill=\"rgb(255.0, 0.0, 81.08083606031792)\" style=\"opacity: 0\" dominant-baseline=\"middle\" text-anchor=\"middle\">0.007</text><svg x=\"64.29984798868004%\" y=\"40\" height=\"20\" width=\"15.403638828617744%\">  <svg x=\"0\" y=\"0\" width=\"100%\" height=\"100%\">    <text x=\"50%\" y=\"9\" font-size=\"12px\" fill=\"rgb(255,255,255)\" dominant-baseline=\"middle\" text-anchor=\"middle\">Kill</text>  </svg></svg><line x1=\"54.10974328800964%\" x2=\"64.29984798868004%\" y1=\"60\" y2=\"60\" id=\"_fb_usieyiccwpusnzjovqwp_ind_20\" style=\"stroke:rgb(255.0, 0.0, 81.08083606031792);stroke-width:2; opacity: 0\"/><text x=\"59.20479563834484%\" y=\"71\" font-size=\"12px\" id=\"_fs_usieyiccwpusnzjovqwp_ind_20\" fill=\"rgb(255.0, 0.0, 81.08083606031792)\" style=\"opacity: 0\" dominant-baseline=\"middle\" text-anchor=\"middle\">0.005</text><svg x=\"54.10974328800964%\" y=\"40\" height=\"20\" width=\"10.190104700670403%\">  <svg x=\"0\" y=\"0\" width=\"100%\" height=\"100%\">    <text x=\"50%\" y=\"9\" font-size=\"12px\" fill=\"rgb(255,255,255)\" dominant-baseline=\"middle\" text-anchor=\"middle\">Hard</text>  </svg></svg><line x1=\"45.110598313616904%\" x2=\"54.10974328800964%\" y1=\"60\" y2=\"60\" id=\"_fb_usieyiccwpusnzjovqwp_ind_21\" style=\"stroke:rgb(255.0, 0.0, 81.08083606031792);stroke-width:2; opacity: 0\"/><text x=\"49.61017080081327%\" y=\"71\" font-size=\"12px\" id=\"_fs_usieyiccwpusnzjovqwp_ind_21\" fill=\"rgb(255.0, 0.0, 81.08083606031792)\" style=\"opacity: 0\" dominant-baseline=\"middle\" text-anchor=\"middle\">0.004</text><svg x=\"45.110598313616904%\" y=\"40\" height=\"20\" width=\"8.999144974392735%\">  <svg x=\"0\" y=\"0\" width=\"100%\" height=\"100%\">    <text x=\"50%\" y=\"9\" font-size=\"12px\" fill=\"rgb(255,255,255)\" dominant-baseline=\"middle\" text-anchor=\"middle\">Choice,</text>  </svg></svg><line x1=\"40.037262157988245%\" x2=\"45.110598313616904%\" y1=\"60\" y2=\"60\" id=\"_fb_usieyiccwpusnzjovqwp_ind_2\" style=\"stroke:rgb(255.0, 0.0, 81.08083606031792);stroke-width:2; opacity: 0\"/><text x=\"42.57393023580258%\" y=\"71\" font-size=\"12px\" id=\"_fs_usieyiccwpusnzjovqwp_ind_2\" fill=\"rgb(255.0, 0.0, 81.08083606031792)\" style=\"opacity: 0\" dominant-baseline=\"middle\" text-anchor=\"middle\">0.002</text><svg x=\"40.037262157988245%\" y=\"40\" height=\"20\" width=\"5.07333615562866%\">  <svg x=\"0\" y=\"0\" width=\"100%\" height=\"100%\">    <text x=\"50%\" y=\"9\" font-size=\"12px\" fill=\"rgb(255,255,255)\" dominant-baseline=\"middle\" text-anchor=\"middle\">See</text>  </svg></svg><line x1=\"35.11801190496595%\" x2=\"40.037262157988245%\" y1=\"60\" y2=\"60\" id=\"_fb_usieyiccwpusnzjovqwp_ind_23\" style=\"stroke:rgb(255.0, 0.0, 81.08083606031792);stroke-width:2; opacity: 0\"/><text x=\"37.577637031477096%\" y=\"71\" font-size=\"12px\" id=\"_fs_usieyiccwpusnzjovqwp_ind_23\" fill=\"rgb(255.0, 0.0, 81.08083606031792)\" style=\"opacity: 0\" dominant-baseline=\"middle\" text-anchor=\"middle\">0.002</text><svg x=\"35.11801190496595%\" y=\"40\" height=\"20\" width=\"4.919250253022298%\">  <svg x=\"0\" y=\"0\" width=\"100%\" height=\"100%\">    <text x=\"50%\" y=\"9\" font-size=\"12px\" fill=\"rgb(255,255,255)\" dominant-baseline=\"middle\" text-anchor=\"middle\">Right</text>  </svg></svg><line x1=\"30.47341135478138%\" x2=\"35.11801190496595%\" y1=\"60\" y2=\"60\" id=\"_fb_usieyiccwpusnzjovqwp_ind_12\" style=\"stroke:rgb(255.0, 0.0, 81.08083606031792);stroke-width:2; opacity: 0\"/><text x=\"32.795711629873665%\" y=\"71\" font-size=\"12px\" id=\"_fs_usieyiccwpusnzjovqwp_ind_12\" fill=\"rgb(255.0, 0.0, 81.08083606031792)\" style=\"opacity: 0\" dominant-baseline=\"middle\" text-anchor=\"middle\">0.002</text><svg x=\"30.47341135478138%\" y=\"40\" height=\"20\" width=\"4.644600550184567%\">  <svg x=\"0\" y=\"0\" width=\"100%\" height=\"100%\">    <text x=\"50%\" y=\"9\" font-size=\"12px\" fill=\"rgb(255,255,255)\" dominant-baseline=\"middle\" text-anchor=\"middle\">Books</text>  </svg></svg><line x1=\"26.143697925881416%\" x2=\"30.47341135478138%\" y1=\"60\" y2=\"60\" id=\"_fb_usieyiccwpusnzjovqwp_ind_14\" style=\"stroke:rgb(255.0, 0.0, 81.08083606031792);stroke-width:2; opacity: 0\"/><text x=\"28.308554640331398%\" y=\"71\" font-size=\"12px\" id=\"_fs_usieyiccwpusnzjovqwp_ind_14\" fill=\"rgb(255.0, 0.0, 81.08083606031792)\" style=\"opacity: 0\" dominant-baseline=\"middle\" text-anchor=\"middle\">0.002</text><svg x=\"26.143697925881416%\" y=\"40\" height=\"20\" width=\"4.329713428899964%\">  <svg x=\"0\" y=\"0\" width=\"100%\" height=\"100%\">    <text x=\"50%\" y=\"9\" font-size=\"12px\" fill=\"rgb(255,255,255)\" dominant-baseline=\"middle\" text-anchor=\"middle\">Schools.</text>  </svg></svg><line x1=\"23.067886625843702%\" x2=\"26.143697925881416%\" y1=\"60\" y2=\"60\" id=\"_fb_usieyiccwpusnzjovqwp_ind_22\" style=\"stroke:rgb(255.0, 0.0, 81.08083606031792);stroke-width:2; opacity: 0\"/><text x=\"24.60579227586256%\" y=\"71\" font-size=\"12px\" id=\"_fs_usieyiccwpusnzjovqwp_ind_22\" fill=\"rgb(255.0, 0.0, 81.08083606031792)\" style=\"opacity: 0\" dominant-baseline=\"middle\" text-anchor=\"middle\">0.001</text><svg x=\"23.067886625843702%\" y=\"40\" height=\"20\" width=\"3.0758113000377136%\">  <svg x=\"0\" y=\"0\" width=\"100%\" height=\"100%\">    <text x=\"50%\" y=\"9\" font-size=\"12px\" fill=\"rgb(255,255,255)\" dominant-baseline=\"middle\" text-anchor=\"middle\"></text>  </svg></svg><line x1=\"20.403732883398934%\" x2=\"23.067886625843702%\" y1=\"60\" y2=\"60\" id=\"_fb_usieyiccwpusnzjovqwp_ind_19\" style=\"stroke:rgb(255.0, 0.0, 81.08083606031792);stroke-width:2; opacity: 0\"/><text x=\"21.735809754621318%\" y=\"71\" font-size=\"12px\" id=\"_fs_usieyiccwpusnzjovqwp_ind_19\" fill=\"rgb(255.0, 0.0, 81.08083606031792)\" style=\"opacity: 0\" dominant-baseline=\"middle\" text-anchor=\"middle\">0.001</text><svg x=\"20.403732883398934%\" y=\"40\" height=\"20\" width=\"2.6641537424447677%\">  <svg x=\"0\" y=\"0\" width=\"100%\" height=\"100%\">    <text x=\"50%\" y=\"9\" font-size=\"12px\" fill=\"rgb(255,255,255)\" dominant-baseline=\"middle\" text-anchor=\"middle\"></text>  </svg></svg><line x1=\"18.493297432078403%\" x2=\"20.403732883398934%\" y1=\"60\" y2=\"60\" id=\"_fb_usieyiccwpusnzjovqwp_ind_15\" style=\"stroke:rgb(255.0, 0.0, 81.08083606031792);stroke-width:2; opacity: 0\"/><text x=\"19.44851515773867%\" y=\"71\" font-size=\"12px\" id=\"_fs_usieyiccwpusnzjovqwp_ind_15\" fill=\"rgb(255.0, 0.0, 81.08083606031792)\" style=\"opacity: 0\" dominant-baseline=\"middle\" text-anchor=\"middle\">0.001</text><svg x=\"18.493297432078403%\" y=\"40\" height=\"20\" width=\"1.9104354513205308%\">  <svg x=\"0\" y=\"0\" width=\"100%\" height=\"100%\">    <text x=\"50%\" y=\"9\" font-size=\"12px\" fill=\"rgb(255,255,255)\" dominant-baseline=\"middle\" text-anchor=\"middle\"></text>  </svg></svg><line x1=\"16.703910958787%\" x2=\"18.493297432078403%\" y1=\"60\" y2=\"60\" id=\"_fb_usieyiccwpusnzjovqwp_ind_9\" style=\"stroke:rgb(255.0, 0.0, 81.08083606031792);stroke-width:2; opacity: 0\"/><text x=\"17.5986041954327%\" y=\"71\" font-size=\"12px\" id=\"_fs_usieyiccwpusnzjovqwp_ind_9\" fill=\"rgb(255.0, 0.0, 81.08083606031792)\" style=\"opacity: 0\" dominant-baseline=\"middle\" text-anchor=\"middle\">0.001</text><svg x=\"16.703910958787%\" y=\"40\" height=\"20\" width=\"1.7893864732914047%\">  <svg x=\"0\" y=\"0\" width=\"100%\" height=\"100%\">    <text x=\"50%\" y=\"9\" font-size=\"12px\" fill=\"rgb(255,255,255)\" dominant-baseline=\"middle\" text-anchor=\"middle\">Teachers,</text>  </svg></svg><line x1=\"15.230881613475015%\" x2=\"16.703910958787%\" y1=\"60\" y2=\"60\" id=\"_fb_usieyiccwpusnzjovqwp_ind_11\" style=\"stroke:rgb(255.0, 0.0, 81.08083606031792);stroke-width:2; opacity: 0\"/><text x=\"15.967396286131006%\" y=\"71\" font-size=\"12px\" id=\"_fs_usieyiccwpusnzjovqwp_ind_11\" fill=\"rgb(255.0, 0.0, 81.08083606031792)\" style=\"opacity: 0\" dominant-baseline=\"middle\" text-anchor=\"middle\">0.001</text><svg x=\"15.230881613475015%\" y=\"40\" height=\"20\" width=\"1.4730293453119838%\">  <svg x=\"0\" y=\"0\" width=\"100%\" height=\"100%\">    <text x=\"50%\" y=\"9\" font-size=\"12px\" fill=\"rgb(255,255,255)\" dominant-baseline=\"middle\" text-anchor=\"middle\">Buy</text>  </svg></svg><line x1=\"13.944382050609619%\" x2=\"15.230881613475015%\" y1=\"60\" y2=\"60\" id=\"_fb_usieyiccwpusnzjovqwp_ind_8\" style=\"stroke:rgb(255.0, 0.0, 81.08083606031792);stroke-width:2; opacity: 0\"/><text x=\"14.587631832042316%\" y=\"71\" font-size=\"12px\" id=\"_fs_usieyiccwpusnzjovqwp_ind_8\" fill=\"rgb(255.0, 0.0, 81.08083606031792)\" style=\"opacity: 0\" dominant-baseline=\"middle\" text-anchor=\"middle\">0.001</text><svg x=\"13.944382050609619%\" y=\"40\" height=\"20\" width=\"1.2864995628653961%\">  <svg x=\"0\" y=\"0\" width=\"100%\" height=\"100%\">    <text x=\"50%\" y=\"9\" font-size=\"12px\" fill=\"rgb(255,255,255)\" dominant-baseline=\"middle\" text-anchor=\"middle\">Pay</text>  </svg></svg><line x1=\"12.766698360033338%\" x2=\"13.944382050609619%\" y1=\"60\" y2=\"60\" id=\"_fb_usieyiccwpusnzjovqwp_ind_7\" style=\"stroke:rgb(255.0, 0.0, 81.08083606031792);stroke-width:2; opacity: 0\"/><text x=\"13.355540205321478%\" y=\"71\" font-size=\"12px\" id=\"_fs_usieyiccwpusnzjovqwp_ind_7\" fill=\"rgb(255.0, 0.0, 81.08083606031792)\" style=\"opacity: 0\" dominant-baseline=\"middle\" text-anchor=\"middle\">0.001</text><svg x=\"12.766698360033338%\" y=\"40\" height=\"20\" width=\"1.1776836905762806%\">  <svg x=\"0\" y=\"0\" width=\"100%\" height=\"100%\">    <text x=\"50%\" y=\"9\" font-size=\"12px\" fill=\"rgb(255,255,255)\" dominant-baseline=\"middle\" text-anchor=\"middle\"></text>  </svg></svg><line x1=\"11.615843163274503%\" x2=\"12.766698360033338%\" y1=\"60\" y2=\"60\" id=\"_fb_usieyiccwpusnzjovqwp_ind_5\" style=\"stroke:rgb(255.0, 0.0, 81.08083606031792);stroke-width:2; opacity: 0\"/><text x=\"12.191270761653922%\" y=\"71\" font-size=\"12px\" id=\"_fs_usieyiccwpusnzjovqwp_ind_5\" fill=\"rgb(255.0, 0.0, 81.08083606031792)\" style=\"opacity: 0\" dominant-baseline=\"middle\" text-anchor=\"middle\">0.001</text><svg x=\"11.615843163274503%\" y=\"40\" height=\"20\" width=\"1.150855196758835%\">  <svg x=\"0\" y=\"0\" width=\"100%\" height=\"100%\">    <text x=\"50%\" y=\"9\" font-size=\"12px\" fill=\"rgb(255,255,255)\" dominant-baseline=\"middle\" text-anchor=\"middle\">Hire</text>  </svg></svg><line x1=\"10.477433032202475%\" x2=\"11.615843163274503%\" y1=\"60\" y2=\"60\" id=\"_fb_usieyiccwpusnzjovqwp_ind_10\" style=\"stroke:rgb(255.0, 0.0, 81.08083606031792);stroke-width:2; opacity: 0\"/><text x=\"11.046638097738489%\" y=\"71\" font-size=\"12px\" id=\"_fs_usieyiccwpusnzjovqwp_ind_10\" fill=\"rgb(255.0, 0.0, 81.08083606031792)\" style=\"opacity: 0\" dominant-baseline=\"middle\" text-anchor=\"middle\">0.001</text><svg x=\"10.477433032202475%\" y=\"40\" height=\"20\" width=\"1.1384101310720283%\">  <svg x=\"0\" y=\"0\" width=\"100%\" height=\"100%\">    <text x=\"50%\" y=\"9\" font-size=\"12px\" fill=\"rgb(255,255,255)\" dominant-baseline=\"middle\" text-anchor=\"middle\"></text>  </svg></svg><line x1=\"9.371240106083293%\" x2=\"10.477433032202475%\" y1=\"60\" y2=\"60\" id=\"_fb_usieyiccwpusnzjovqwp_ind_4\" style=\"stroke:rgb(255.0, 0.0, 81.08083606031792);stroke-width:2; opacity: 0\"/><text x=\"9.924336569142884%\" y=\"71\" font-size=\"12px\" id=\"_fs_usieyiccwpusnzjovqwp_ind_4\" fill=\"rgb(255.0, 0.0, 81.08083606031792)\" style=\"opacity: 0\" dominant-baseline=\"middle\" text-anchor=\"middle\">0.001</text><svg x=\"9.371240106083293%\" y=\"40\" height=\"20\" width=\"1.1061929261191814%\">  <svg x=\"0\" y=\"0\" width=\"100%\" height=\"100%\">    <text x=\"50%\" y=\"9\" font-size=\"12px\" fill=\"rgb(255,255,255)\" dominant-baseline=\"middle\" text-anchor=\"middle\"></text>  </svg></svg><line x1=\"8.432144545460492%\" x2=\"9.371240106083293%\" y1=\"60\" y2=\"60\" id=\"_fb_usieyiccwpusnzjovqwp_ind_16\" style=\"stroke:rgb(255.0, 0.0, 81.08083606031792);stroke-width:2; opacity: 0\"/><text x=\"8.901692325771894%\" y=\"71\" font-size=\"12px\" id=\"_fs_usieyiccwpusnzjovqwp_ind_16\" fill=\"rgb(255.0, 0.0, 81.08083606031792)\" style=\"opacity: 0\" dominant-baseline=\"middle\" text-anchor=\"middle\">0.0</text><svg x=\"8.432144545460492%\" y=\"40\" height=\"20\" width=\"0.9390955606228015%\">  <svg x=\"0\" y=\"0\" width=\"100%\" height=\"100%\">    <text x=\"50%\" y=\"9\" font-size=\"12px\" fill=\"rgb(255,255,255)\" dominant-baseline=\"middle\" text-anchor=\"middle\">Or</text>  </svg></svg><line x1=\"8.341784634478627%\" x2=\"8.432144545460492%\" y1=\"60\" y2=\"60\" id=\"_fb_usieyiccwpusnzjovqwp_ind_0\" style=\"stroke:rgb(255.0, 0.0, 81.08083606031792);stroke-width:2; opacity: 0\"/><text x=\"8.386964589969558%\" y=\"71\" font-size=\"12px\" id=\"_fs_usieyiccwpusnzjovqwp_ind_0\" fill=\"rgb(255.0, 0.0, 81.08083606031792)\" style=\"opacity: 0\" dominant-baseline=\"middle\" text-anchor=\"middle\">0.0</text><svg x=\"8.341784634478627%\" y=\"40\" height=\"20\" width=\"0.09035991098186535%\">  <svg x=\"0\" y=\"0\" width=\"100%\" height=\"100%\">    <text x=\"50%\" y=\"9\" font-size=\"12px\" fill=\"rgb(255,255,255)\" dominant-baseline=\"middle\" text-anchor=\"middle\">Let’</text>  </svg></svg><line x1=\"8.333331541511674%\" x2=\"8.341784634478627%\" y1=\"60\" y2=\"60\" id=\"_fb_usieyiccwpusnzjovqwp_ind_3\" style=\"stroke:rgb(255.0, 0.0, 81.08083606031792);stroke-width:2; opacity: 0\"/><text x=\"8.33755808799515%\" y=\"71\" font-size=\"12px\" id=\"_fs_usieyiccwpusnzjovqwp_ind_3\" fill=\"rgb(255.0, 0.0, 81.08083606031792)\" style=\"opacity: 0\" dominant-baseline=\"middle\" text-anchor=\"middle\">0.0</text><svg x=\"8.333331541511674%\" y=\"40\" height=\"20\" width=\"0.008453092966952624%\">  <svg x=\"0\" y=\"0\" width=\"100%\" height=\"100%\">    <text x=\"50%\" y=\"9\" font-size=\"12px\" fill=\"rgb(255,255,255)\" dominant-baseline=\"middle\" text-anchor=\"middle\">…</text>  </svg></svg><g transform=\"translate(0,0)\">  <svg x=\"64.29984798868004%\" y=\"40\" height=\"18\" overflow=\"visible\" width=\"30\">    <path d=\"M 0 -9 l 6 18 L 0 25\" fill=\"none\" style=\"stroke:rgb(255.0, 0.0, 81.08083606031792);stroke-width:2\" />  </svg></g><g transform=\"translate(2,0)\">  <svg x=\"64.29984798868004%\" y=\"40\" height=\"18\" overflow=\"visible\" width=\"30\">    <path d=\"M 0 -9 l 6 18 L 0 25\" fill=\"none\" style=\"stroke:rgb(255.0, 0.0, 81.08083606031792);stroke-width:2\" />  </svg></g><g transform=\"translate(4,0)\">  <svg x=\"64.29984798868004%\" y=\"40\" height=\"18\" overflow=\"visible\" width=\"30\">    <path d=\"M 0 -9 l 6 18 L 0 25\" fill=\"none\" style=\"stroke:rgb(255.0, 0.0, 81.08083606031792);stroke-width:2\" />  </svg></g><g transform=\"translate(6,0)\">  <svg x=\"64.29984798868004%\" y=\"40\" height=\"18\" overflow=\"visible\" width=\"30\">    <path d=\"M 0 -9 l 6 18 L 0 25\" fill=\"none\" style=\"stroke:rgb(255.0, 0.0, 81.08083606031792);stroke-width:2\" />  </svg></g><g transform=\"translate(-8,0)\">  <svg x=\"64.29984798868004%\" y=\"40\" height=\"18\" overflow=\"visible\" width=\"30\">    <path d=\"M 0 -9 l 6 18 L 0 25\" fill=\"none\" style=\"stroke:rgb(255.0, 0.0, 81.08083606031792);stroke-width:2\" />  </svg></g><g transform=\"translate(-6,0)\">  <svg x=\"64.29984798868004%\" y=\"40\" height=\"18\" overflow=\"visible\" width=\"30\">    <path d=\"M 0 -9 l 6 18 L 0 25\" fill=\"none\" style=\"stroke:rgb(255.0, 0.0, 81.08083606031792);stroke-width:2\" />  </svg></g><g transform=\"translate(-4,0)\">  <svg x=\"64.29984798868004%\" y=\"40\" height=\"18\" overflow=\"visible\" width=\"30\">    <path d=\"M 0 -9 l 6 18 L 0 25\" fill=\"none\" style=\"stroke:rgb(255.0, 0.0, 81.08083606031792);stroke-width:2\" />  </svg></g><g transform=\"translate(-2,0)\">  <svg x=\"64.29984798868004%\" y=\"40\" height=\"18\" overflow=\"visible\" width=\"30\">    <path d=\"M 0 -9 l 6 18 L 0 25\" fill=\"none\" style=\"stroke:rgb(255.0, 0.0, 81.08083606031792);stroke-width:2\" />  </svg></g><g transform=\"translate(0,0)\">  <svg x=\"54.10974328800964%\" y=\"40\" height=\"18\" overflow=\"visible\" width=\"30\">    <path d=\"M 0 -9 l 6 18 L 0 25\" fill=\"none\" style=\"stroke:rgb(255.0, 0.0, 81.08083606031792);stroke-width:2\" />  </svg></g><g transform=\"translate(2,0)\">  <svg x=\"54.10974328800964%\" y=\"40\" height=\"18\" overflow=\"visible\" width=\"30\">    <path d=\"M 0 -9 l 6 18 L 0 25\" fill=\"none\" style=\"stroke:rgb(255.0, 0.0, 81.08083606031792);stroke-width:2\" />  </svg></g><g transform=\"translate(4,0)\">  <svg x=\"54.10974328800964%\" y=\"40\" height=\"18\" overflow=\"visible\" width=\"30\">    <path d=\"M 0 -9 l 6 18 L 0 25\" fill=\"none\" style=\"stroke:rgb(255.0, 0.0, 81.08083606031792);stroke-width:2\" />  </svg></g><g transform=\"translate(6,0)\">  <svg x=\"54.10974328800964%\" y=\"40\" height=\"18\" overflow=\"visible\" width=\"30\">    <path d=\"M 0 -9 l 6 18 L 0 25\" fill=\"none\" style=\"stroke:rgb(255.0, 0.0, 81.08083606031792);stroke-width:2\" />  </svg></g><g transform=\"translate(-8,0)\">  <svg x=\"54.10974328800964%\" y=\"40\" height=\"18\" overflow=\"visible\" width=\"30\">    <path d=\"M 0 -9 l 6 18 L 0 25\" fill=\"none\" style=\"stroke:rgb(255.0, 0.0, 81.08083606031792);stroke-width:2\" />  </svg></g><g transform=\"translate(-6,0)\">  <svg x=\"54.10974328800964%\" y=\"40\" height=\"18\" overflow=\"visible\" width=\"30\">    <path d=\"M 0 -9 l 6 18 L 0 25\" fill=\"none\" style=\"stroke:rgb(255.0, 0.0, 81.08083606031792);stroke-width:2\" />  </svg></g><g transform=\"translate(-4,0)\">  <svg x=\"54.10974328800964%\" y=\"40\" height=\"18\" overflow=\"visible\" width=\"30\">    <path d=\"M 0 -9 l 6 18 L 0 25\" fill=\"none\" style=\"stroke:rgb(255.0, 0.0, 81.08083606031792);stroke-width:2\" />  </svg></g><g transform=\"translate(-2,0)\">  <svg x=\"54.10974328800964%\" y=\"40\" height=\"18\" overflow=\"visible\" width=\"30\">    <path d=\"M 0 -9 l 6 18 L 0 25\" fill=\"none\" style=\"stroke:rgb(255.0, 0.0, 81.08083606031792);stroke-width:2\" />  </svg></g><g transform=\"translate(0,0)\">  <svg x=\"45.110598313616904%\" y=\"40\" height=\"18\" overflow=\"visible\" width=\"30\">    <path d=\"M 0 -9 l 6 18 L 0 25\" fill=\"none\" style=\"stroke:rgb(255.0, 0.0, 81.08083606031792);stroke-width:2\" />  </svg></g><g transform=\"translate(2,0)\">  <svg x=\"45.110598313616904%\" y=\"40\" height=\"18\" overflow=\"visible\" width=\"30\">    <path d=\"M 0 -9 l 6 18 L 0 25\" fill=\"none\" style=\"stroke:rgb(255.0, 0.0, 81.08083606031792);stroke-width:2\" />  </svg></g><g transform=\"translate(4,0)\">  <svg x=\"45.110598313616904%\" y=\"40\" height=\"18\" overflow=\"visible\" width=\"30\">    <path d=\"M 0 -9 l 6 18 L 0 25\" fill=\"none\" style=\"stroke:rgb(255.0, 0.0, 81.08083606031792);stroke-width:2\" />  </svg></g><g transform=\"translate(6,0)\">  <svg x=\"45.110598313616904%\" y=\"40\" height=\"18\" overflow=\"visible\" width=\"30\">    <path d=\"M 0 -9 l 6 18 L 0 25\" fill=\"none\" style=\"stroke:rgb(255.0, 0.0, 81.08083606031792);stroke-width:2\" />  </svg></g><g transform=\"translate(-8,0)\">  <svg x=\"45.110598313616904%\" y=\"40\" height=\"18\" overflow=\"visible\" width=\"30\">    <path d=\"M 0 -9 l 6 18 L 0 25\" fill=\"none\" style=\"stroke:rgb(255.0, 0.0, 81.08083606031792);stroke-width:2\" />  </svg></g><g transform=\"translate(-6,0)\">  <svg x=\"45.110598313616904%\" y=\"40\" height=\"18\" overflow=\"visible\" width=\"30\">    <path d=\"M 0 -9 l 6 18 L 0 25\" fill=\"none\" style=\"stroke:rgb(255.0, 0.0, 81.08083606031792);stroke-width:2\" />  </svg></g><g transform=\"translate(-4,0)\">  <svg x=\"45.110598313616904%\" y=\"40\" height=\"18\" overflow=\"visible\" width=\"30\">    <path d=\"M 0 -9 l 6 18 L 0 25\" fill=\"none\" style=\"stroke:rgb(255.0, 0.0, 81.08083606031792);stroke-width:2\" />  </svg></g><g transform=\"translate(-2,0)\">  <svg x=\"45.110598313616904%\" y=\"40\" height=\"18\" overflow=\"visible\" width=\"30\">    <path d=\"M 0 -9 l 6 18 L 0 25\" fill=\"none\" style=\"stroke:rgb(255.0, 0.0, 81.08083606031792);stroke-width:2\" />  </svg></g><g transform=\"translate(0,0)\">  <svg x=\"40.037262157988245%\" y=\"40\" height=\"18\" overflow=\"visible\" width=\"30\">    <path d=\"M 0 -9 l 6 18 L 0 25\" fill=\"none\" style=\"stroke:rgb(255.0, 0.0, 81.08083606031792);stroke-width:2\" />  </svg></g><g transform=\"translate(2,0)\">  <svg x=\"40.037262157988245%\" y=\"40\" height=\"18\" overflow=\"visible\" width=\"30\">    <path d=\"M 0 -9 l 6 18 L 0 25\" fill=\"none\" style=\"stroke:rgb(255.0, 0.0, 81.08083606031792);stroke-width:2\" />  </svg></g><g transform=\"translate(4,0)\">  <svg x=\"40.037262157988245%\" y=\"40\" height=\"18\" overflow=\"visible\" width=\"30\">    <path d=\"M 0 -9 l 6 18 L 0 25\" fill=\"none\" style=\"stroke:rgb(255.0, 0.0, 81.08083606031792);stroke-width:2\" />  </svg></g><g transform=\"translate(6,0)\">  <svg x=\"40.037262157988245%\" y=\"40\" height=\"18\" overflow=\"visible\" width=\"30\">    <path d=\"M 0 -9 l 6 18 L 0 25\" fill=\"none\" style=\"stroke:rgb(255.0, 0.0, 81.08083606031792);stroke-width:2\" />  </svg></g><g transform=\"translate(-8,0)\">  <svg x=\"40.037262157988245%\" y=\"40\" height=\"18\" overflow=\"visible\" width=\"30\">    <path d=\"M 0 -9 l 6 18 L 0 25\" fill=\"none\" style=\"stroke:rgb(255.0, 0.0, 81.08083606031792);stroke-width:2\" />  </svg></g><g transform=\"translate(-6,0)\">  <svg x=\"40.037262157988245%\" y=\"40\" height=\"18\" overflow=\"visible\" width=\"30\">    <path d=\"M 0 -9 l 6 18 L 0 25\" fill=\"none\" style=\"stroke:rgb(255.0, 0.0, 81.08083606031792);stroke-width:2\" />  </svg></g><g transform=\"translate(-4,0)\">  <svg x=\"40.037262157988245%\" y=\"40\" height=\"18\" overflow=\"visible\" width=\"30\">    <path d=\"M 0 -9 l 6 18 L 0 25\" fill=\"none\" style=\"stroke:rgb(255.0, 0.0, 81.08083606031792);stroke-width:2\" />  </svg></g><g transform=\"translate(-2,0)\">  <svg x=\"40.037262157988245%\" y=\"40\" height=\"18\" overflow=\"visible\" width=\"30\">    <path d=\"M 0 -9 l 6 18 L 0 25\" fill=\"none\" style=\"stroke:rgb(255.0, 0.0, 81.08083606031792);stroke-width:2\" />  </svg></g><g transform=\"translate(0,0)\">  <svg x=\"35.11801190496595%\" y=\"40\" height=\"18\" overflow=\"visible\" width=\"30\">    <path d=\"M 0 -9 l 6 18 L 0 25\" fill=\"none\" style=\"stroke:rgb(255.0, 0.0, 81.08083606031792);stroke-width:2\" />  </svg></g><g transform=\"translate(2,0)\">  <svg x=\"35.11801190496595%\" y=\"40\" height=\"18\" overflow=\"visible\" width=\"30\">    <path d=\"M 0 -9 l 6 18 L 0 25\" fill=\"none\" style=\"stroke:rgb(255.0, 0.0, 81.08083606031792);stroke-width:2\" />  </svg></g><g transform=\"translate(4,0)\">  <svg x=\"35.11801190496595%\" y=\"40\" height=\"18\" overflow=\"visible\" width=\"30\">    <path d=\"M 0 -9 l 6 18 L 0 25\" fill=\"none\" style=\"stroke:rgb(255.0, 0.0, 81.08083606031792);stroke-width:2\" />  </svg></g><g transform=\"translate(6,0)\">  <svg x=\"35.11801190496595%\" y=\"40\" height=\"18\" overflow=\"visible\" width=\"30\">    <path d=\"M 0 -9 l 6 18 L 0 25\" fill=\"none\" style=\"stroke:rgb(255.0, 0.0, 81.08083606031792);stroke-width:2\" />  </svg></g><g transform=\"translate(-8,0)\">  <svg x=\"35.11801190496595%\" y=\"40\" height=\"18\" overflow=\"visible\" width=\"30\">    <path d=\"M 0 -9 l 6 18 L 0 25\" fill=\"none\" style=\"stroke:rgb(255.0, 0.0, 81.08083606031792);stroke-width:2\" />  </svg></g><g transform=\"translate(-6,0)\">  <svg x=\"35.11801190496595%\" y=\"40\" height=\"18\" overflow=\"visible\" width=\"30\">    <path d=\"M 0 -9 l 6 18 L 0 25\" fill=\"none\" style=\"stroke:rgb(255.0, 0.0, 81.08083606031792);stroke-width:2\" />  </svg></g><g transform=\"translate(-4,0)\">  <svg x=\"35.11801190496595%\" y=\"40\" height=\"18\" overflow=\"visible\" width=\"30\">    <path d=\"M 0 -9 l 6 18 L 0 25\" fill=\"none\" style=\"stroke:rgb(255.0, 0.0, 81.08083606031792);stroke-width:2\" />  </svg></g><g transform=\"translate(-2,0)\">  <svg x=\"35.11801190496595%\" y=\"40\" height=\"18\" overflow=\"visible\" width=\"30\">    <path d=\"M 0 -9 l 6 18 L 0 25\" fill=\"none\" style=\"stroke:rgb(255.0, 0.0, 81.08083606031792);stroke-width:2\" />  </svg></g><g transform=\"translate(0,0)\">  <svg x=\"30.47341135478138%\" y=\"40\" height=\"18\" overflow=\"visible\" width=\"30\">    <path d=\"M 0 -9 l 6 18 L 0 25\" fill=\"none\" style=\"stroke:rgb(255.0, 0.0, 81.08083606031792);stroke-width:2\" />  </svg></g><g transform=\"translate(2,0)\">  <svg x=\"30.47341135478138%\" y=\"40\" height=\"18\" overflow=\"visible\" width=\"30\">    <path d=\"M 0 -9 l 6 18 L 0 25\" fill=\"none\" style=\"stroke:rgb(255.0, 0.0, 81.08083606031792);stroke-width:2\" />  </svg></g><g transform=\"translate(4,0)\">  <svg x=\"30.47341135478138%\" y=\"40\" height=\"18\" overflow=\"visible\" width=\"30\">    <path d=\"M 0 -9 l 6 18 L 0 25\" fill=\"none\" style=\"stroke:rgb(255.0, 0.0, 81.08083606031792);stroke-width:2\" />  </svg></g><g transform=\"translate(6,0)\">  <svg x=\"30.47341135478138%\" y=\"40\" height=\"18\" overflow=\"visible\" width=\"30\">    <path d=\"M 0 -9 l 6 18 L 0 25\" fill=\"none\" style=\"stroke:rgb(255.0, 0.0, 81.08083606031792);stroke-width:2\" />  </svg></g><g transform=\"translate(-8,0)\">  <svg x=\"30.47341135478138%\" y=\"40\" height=\"18\" overflow=\"visible\" width=\"30\">    <path d=\"M 0 -9 l 6 18 L 0 25\" fill=\"none\" style=\"stroke:rgb(255.0, 0.0, 81.08083606031792);stroke-width:2\" />  </svg></g><g transform=\"translate(-6,0)\">  <svg x=\"30.47341135478138%\" y=\"40\" height=\"18\" overflow=\"visible\" width=\"30\">    <path d=\"M 0 -9 l 6 18 L 0 25\" fill=\"none\" style=\"stroke:rgb(255.0, 0.0, 81.08083606031792);stroke-width:2\" />  </svg></g><g transform=\"translate(-4,0)\">  <svg x=\"30.47341135478138%\" y=\"40\" height=\"18\" overflow=\"visible\" width=\"30\">    <path d=\"M 0 -9 l 6 18 L 0 25\" fill=\"none\" style=\"stroke:rgb(255.0, 0.0, 81.08083606031792);stroke-width:2\" />  </svg></g><g transform=\"translate(-2,0)\">  <svg x=\"30.47341135478138%\" y=\"40\" height=\"18\" overflow=\"visible\" width=\"30\">    <path d=\"M 0 -9 l 6 18 L 0 25\" fill=\"none\" style=\"stroke:rgb(255.0, 0.0, 81.08083606031792);stroke-width:2\" />  </svg></g><g transform=\"translate(0,0)\">  <svg x=\"26.143697925881416%\" y=\"40\" height=\"18\" overflow=\"visible\" width=\"30\">    <path d=\"M 0 -9 l 6 18 L 0 25\" fill=\"none\" style=\"stroke:rgb(255.0, 0.0, 81.08083606031792);stroke-width:2\" />  </svg></g><g transform=\"translate(2,0)\">  <svg x=\"26.143697925881416%\" y=\"40\" height=\"18\" overflow=\"visible\" width=\"30\">    <path d=\"M 0 -9 l 6 18 L 0 25\" fill=\"none\" style=\"stroke:rgb(255.0, 0.0, 81.08083606031792);stroke-width:2\" />  </svg></g><g transform=\"translate(4,0)\">  <svg x=\"26.143697925881416%\" y=\"40\" height=\"18\" overflow=\"visible\" width=\"30\">    <path d=\"M 0 -9 l 6 18 L 0 25\" fill=\"none\" style=\"stroke:rgb(255.0, 0.0, 81.08083606031792);stroke-width:2\" />  </svg></g><g transform=\"translate(6,0)\">  <svg x=\"26.143697925881416%\" y=\"40\" height=\"18\" overflow=\"visible\" width=\"30\">    <path d=\"M 0 -9 l 6 18 L 0 25\" fill=\"none\" style=\"stroke:rgb(255.0, 0.0, 81.08083606031792);stroke-width:2\" />  </svg></g><g transform=\"translate(-8,0)\">  <svg x=\"26.143697925881416%\" y=\"40\" height=\"18\" overflow=\"visible\" width=\"30\">    <path d=\"M 0 -9 l 6 18 L 0 25\" fill=\"none\" style=\"stroke:rgb(255.0, 0.0, 81.08083606031792);stroke-width:2\" />  </svg></g><g transform=\"translate(-6,0)\">  <svg x=\"26.143697925881416%\" y=\"40\" height=\"18\" overflow=\"visible\" width=\"30\">    <path d=\"M 0 -9 l 6 18 L 0 25\" fill=\"none\" style=\"stroke:rgb(255.0, 0.0, 81.08083606031792);stroke-width:2\" />  </svg></g><g transform=\"translate(-4,0)\">  <svg x=\"26.143697925881416%\" y=\"40\" height=\"18\" overflow=\"visible\" width=\"30\">    <path d=\"M 0 -9 l 6 18 L 0 25\" fill=\"none\" style=\"stroke:rgb(255.0, 0.0, 81.08083606031792);stroke-width:2\" />  </svg></g><g transform=\"translate(-2,0)\">  <svg x=\"26.143697925881416%\" y=\"40\" height=\"18\" overflow=\"visible\" width=\"30\">    <path d=\"M 0 -9 l 6 18 L 0 25\" fill=\"none\" style=\"stroke:rgb(255.0, 0.0, 81.08083606031792);stroke-width:2\" />  </svg></g><g transform=\"translate(0,0)\">  <svg x=\"23.067886625843702%\" y=\"40\" height=\"18\" overflow=\"visible\" width=\"30\">    <path d=\"M 0 -9 l 6 18 L 0 25\" fill=\"none\" style=\"stroke:rgb(255.0, 0.0, 81.08083606031792);stroke-width:2\" />  </svg></g><g transform=\"translate(2,0)\">  <svg x=\"23.067886625843702%\" y=\"40\" height=\"18\" overflow=\"visible\" width=\"30\">    <path d=\"M 0 -9 l 6 18 L 0 25\" fill=\"none\" style=\"stroke:rgb(255.0, 0.0, 81.08083606031792);stroke-width:2\" />  </svg></g><g transform=\"translate(4,0)\">  <svg x=\"23.067886625843702%\" y=\"40\" height=\"18\" overflow=\"visible\" width=\"30\">    <path d=\"M 0 -9 l 6 18 L 0 25\" fill=\"none\" style=\"stroke:rgb(255.0, 0.0, 81.08083606031792);stroke-width:2\" />  </svg></g><g transform=\"translate(6,0)\">  <svg x=\"23.067886625843702%\" y=\"40\" height=\"18\" overflow=\"visible\" width=\"30\">    <path d=\"M 0 -9 l 6 18 L 0 25\" fill=\"none\" style=\"stroke:rgb(255.0, 0.0, 81.08083606031792);stroke-width:2\" />  </svg></g><g transform=\"translate(-8,0)\">  <svg x=\"23.067886625843702%\" y=\"40\" height=\"18\" overflow=\"visible\" width=\"30\">    <path d=\"M 0 -9 l 6 18 L 0 25\" fill=\"none\" style=\"stroke:rgb(255.0, 0.0, 81.08083606031792);stroke-width:2\" />  </svg></g><g transform=\"translate(-6,0)\">  <svg x=\"23.067886625843702%\" y=\"40\" height=\"18\" overflow=\"visible\" width=\"30\">    <path d=\"M 0 -9 l 6 18 L 0 25\" fill=\"none\" style=\"stroke:rgb(255.0, 0.0, 81.08083606031792);stroke-width:2\" />  </svg></g><g transform=\"translate(-4,0)\">  <svg x=\"23.067886625843702%\" y=\"40\" height=\"18\" overflow=\"visible\" width=\"30\">    <path d=\"M 0 -9 l 6 18 L 0 25\" fill=\"none\" style=\"stroke:rgb(255.0, 0.0, 81.08083606031792);stroke-width:2\" />  </svg></g><g transform=\"translate(-2,0)\">  <svg x=\"23.067886625843702%\" y=\"40\" height=\"18\" overflow=\"visible\" width=\"30\">    <path d=\"M 0 -9 l 6 18 L 0 25\" fill=\"none\" style=\"stroke:rgb(255.0, 0.0, 81.08083606031792);stroke-width:2\" />  </svg></g><g transform=\"translate(0,0)\">  <svg x=\"20.403732883398934%\" y=\"40\" height=\"18\" overflow=\"visible\" width=\"30\">    <path d=\"M 0 -9 l 6 18 L 0 25\" fill=\"none\" style=\"stroke:rgb(255.0, 0.0, 81.08083606031792);stroke-width:2\" />  </svg></g><g transform=\"translate(2,0)\">  <svg x=\"20.403732883398934%\" y=\"40\" height=\"18\" overflow=\"visible\" width=\"30\">    <path d=\"M 0 -9 l 6 18 L 0 25\" fill=\"none\" style=\"stroke:rgb(255.0, 0.0, 81.08083606031792);stroke-width:2\" />  </svg></g><g transform=\"translate(4,0)\">  <svg x=\"20.403732883398934%\" y=\"40\" height=\"18\" overflow=\"visible\" width=\"30\">    <path d=\"M 0 -9 l 6 18 L 0 25\" fill=\"none\" style=\"stroke:rgb(255.0, 0.0, 81.08083606031792);stroke-width:2\" />  </svg></g><g transform=\"translate(6,0)\">  <svg x=\"20.403732883398934%\" y=\"40\" height=\"18\" overflow=\"visible\" width=\"30\">    <path d=\"M 0 -9 l 6 18 L 0 25\" fill=\"none\" style=\"stroke:rgb(255.0, 0.0, 81.08083606031792);stroke-width:2\" />  </svg></g><g transform=\"translate(-8,0)\">  <svg x=\"20.403732883398934%\" y=\"40\" height=\"18\" overflow=\"visible\" width=\"30\">    <path d=\"M 0 -9 l 6 18 L 0 25\" fill=\"none\" style=\"stroke:rgb(255.0, 0.0, 81.08083606031792);stroke-width:2\" />  </svg></g><g transform=\"translate(-6,0)\">  <svg x=\"20.403732883398934%\" y=\"40\" height=\"18\" overflow=\"visible\" width=\"30\">    <path d=\"M 0 -9 l 6 18 L 0 25\" fill=\"none\" style=\"stroke:rgb(255.0, 0.0, 81.08083606031792);stroke-width:2\" />  </svg></g><g transform=\"translate(-4,0)\">  <svg x=\"20.403732883398934%\" y=\"40\" height=\"18\" overflow=\"visible\" width=\"30\">    <path d=\"M 0 -9 l 6 18 L 0 25\" fill=\"none\" style=\"stroke:rgb(255.0, 0.0, 81.08083606031792);stroke-width:2\" />  </svg></g><g transform=\"translate(-2,0)\">  <svg x=\"20.403732883398934%\" y=\"40\" height=\"18\" overflow=\"visible\" width=\"30\">    <path d=\"M 0 -9 l 6 18 L 0 25\" fill=\"none\" style=\"stroke:rgb(255.0, 0.0, 81.08083606031792);stroke-width:2\" />  </svg></g><g transform=\"translate(0,0)\">  <svg x=\"18.493297432078403%\" y=\"40\" height=\"18\" overflow=\"visible\" width=\"30\">    <path d=\"M 0 -9 l 6 18 L 0 25\" fill=\"none\" style=\"stroke:rgb(255.0, 0.0, 81.08083606031792);stroke-width:2\" />  </svg></g><g transform=\"translate(2,0)\">  <svg x=\"18.493297432078403%\" y=\"40\" height=\"18\" overflow=\"visible\" width=\"30\">    <path d=\"M 0 -9 l 6 18 L 0 25\" fill=\"none\" style=\"stroke:rgb(255.0, 0.0, 81.08083606031792);stroke-width:2\" />  </svg></g><g transform=\"translate(4,0)\">  <svg x=\"18.493297432078403%\" y=\"40\" height=\"18\" overflow=\"visible\" width=\"30\">    <path d=\"M 0 -9 l 6 18 L 0 25\" fill=\"none\" style=\"stroke:rgb(255.0, 0.0, 81.08083606031792);stroke-width:2\" />  </svg></g><g transform=\"translate(6,0)\">  <svg x=\"18.493297432078403%\" y=\"40\" height=\"18\" overflow=\"visible\" width=\"30\">    <path d=\"M 0 -9 l 6 18 L 0 25\" fill=\"none\" style=\"stroke:rgb(255.0, 0.0, 81.08083606031792);stroke-width:2\" />  </svg></g><g transform=\"translate(-8,0)\">  <svg x=\"18.493297432078403%\" y=\"40\" height=\"18\" overflow=\"visible\" width=\"30\">    <path d=\"M 0 -9 l 6 18 L 0 25\" fill=\"none\" style=\"stroke:rgb(255.0, 0.0, 81.08083606031792);stroke-width:2\" />  </svg></g><g transform=\"translate(-6,0)\">  <svg x=\"18.493297432078403%\" y=\"40\" height=\"18\" overflow=\"visible\" width=\"30\">    <path d=\"M 0 -9 l 6 18 L 0 25\" fill=\"none\" style=\"stroke:rgb(255.0, 0.0, 81.08083606031792);stroke-width:2\" />  </svg></g><g transform=\"translate(-4,0)\">  <svg x=\"18.493297432078403%\" y=\"40\" height=\"18\" overflow=\"visible\" width=\"30\">    <path d=\"M 0 -9 l 6 18 L 0 25\" fill=\"none\" style=\"stroke:rgb(255.0, 0.0, 81.08083606031792);stroke-width:2\" />  </svg></g><g transform=\"translate(-2,0)\">  <svg x=\"18.493297432078403%\" y=\"40\" height=\"18\" overflow=\"visible\" width=\"30\">    <path d=\"M 0 -9 l 6 18 L 0 25\" fill=\"none\" style=\"stroke:rgb(255.0, 0.0, 81.08083606031792);stroke-width:2\" />  </svg></g><g transform=\"translate(0,0)\">  <svg x=\"16.703910958787%\" y=\"40\" height=\"18\" overflow=\"visible\" width=\"30\">    <path d=\"M 0 -9 l 6 18 L 0 25\" fill=\"none\" style=\"stroke:rgb(255.0, 0.0, 81.08083606031792);stroke-width:2\" />  </svg></g><g transform=\"translate(2,0)\">  <svg x=\"16.703910958787%\" y=\"40\" height=\"18\" overflow=\"visible\" width=\"30\">    <path d=\"M 0 -9 l 6 18 L 0 25\" fill=\"none\" style=\"stroke:rgb(255.0, 0.0, 81.08083606031792);stroke-width:2\" />  </svg></g><g transform=\"translate(4,0)\">  <svg x=\"16.703910958787%\" y=\"40\" height=\"18\" overflow=\"visible\" width=\"30\">    <path d=\"M 0 -9 l 6 18 L 0 25\" fill=\"none\" style=\"stroke:rgb(255.0, 0.0, 81.08083606031792);stroke-width:2\" />  </svg></g><g transform=\"translate(6,0)\">  <svg x=\"16.703910958787%\" y=\"40\" height=\"18\" overflow=\"visible\" width=\"30\">    <path d=\"M 0 -9 l 6 18 L 0 25\" fill=\"none\" style=\"stroke:rgb(255.0, 0.0, 81.08083606031792);stroke-width:2\" />  </svg></g><g transform=\"translate(-8,0)\">  <svg x=\"16.703910958787%\" y=\"40\" height=\"18\" overflow=\"visible\" width=\"30\">    <path d=\"M 0 -9 l 6 18 L 0 25\" fill=\"none\" style=\"stroke:rgb(255.0, 0.0, 81.08083606031792);stroke-width:2\" />  </svg></g><g transform=\"translate(-6,0)\">  <svg x=\"16.703910958787%\" y=\"40\" height=\"18\" overflow=\"visible\" width=\"30\">    <path d=\"M 0 -9 l 6 18 L 0 25\" fill=\"none\" style=\"stroke:rgb(255.0, 0.0, 81.08083606031792);stroke-width:2\" />  </svg></g><g transform=\"translate(-4,0)\">  <svg x=\"16.703910958787%\" y=\"40\" height=\"18\" overflow=\"visible\" width=\"30\">    <path d=\"M 0 -9 l 6 18 L 0 25\" fill=\"none\" style=\"stroke:rgb(255.0, 0.0, 81.08083606031792);stroke-width:2\" />  </svg></g><g transform=\"translate(-2,0)\">  <svg x=\"16.703910958787%\" y=\"40\" height=\"18\" overflow=\"visible\" width=\"30\">    <path d=\"M 0 -9 l 6 18 L 0 25\" fill=\"none\" style=\"stroke:rgb(255.0, 0.0, 81.08083606031792);stroke-width:2\" />  </svg></g><g transform=\"translate(0,0)\">  <svg x=\"15.230881613475015%\" y=\"40\" height=\"18\" overflow=\"visible\" width=\"30\">    <path d=\"M 0 -9 l 6 18 L 0 25\" fill=\"none\" style=\"stroke:rgb(255.0, 0.0, 81.08083606031792);stroke-width:2\" />  </svg></g><g transform=\"translate(2,0)\">  <svg x=\"15.230881613475015%\" y=\"40\" height=\"18\" overflow=\"visible\" width=\"30\">    <path d=\"M 0 -9 l 6 18 L 0 25\" fill=\"none\" style=\"stroke:rgb(255.0, 0.0, 81.08083606031792);stroke-width:2\" />  </svg></g><g transform=\"translate(4,0)\">  <svg x=\"15.230881613475015%\" y=\"40\" height=\"18\" overflow=\"visible\" width=\"30\">    <path d=\"M 0 -9 l 6 18 L 0 25\" fill=\"none\" style=\"stroke:rgb(255.0, 0.0, 81.08083606031792);stroke-width:2\" />  </svg></g><g transform=\"translate(6,0)\">  <svg x=\"15.230881613475015%\" y=\"40\" height=\"18\" overflow=\"visible\" width=\"30\">    <path d=\"M 0 -9 l 6 18 L 0 25\" fill=\"none\" style=\"stroke:rgb(255.0, 0.0, 81.08083606031792);stroke-width:2\" />  </svg></g><g transform=\"translate(-8,0)\">  <svg x=\"15.230881613475015%\" y=\"40\" height=\"18\" overflow=\"visible\" width=\"30\">    <path d=\"M 0 -9 l 6 18 L 0 25\" fill=\"none\" style=\"stroke:rgb(255.0, 0.0, 81.08083606031792);stroke-width:2\" />  </svg></g><g transform=\"translate(-6,0)\">  <svg x=\"15.230881613475015%\" y=\"40\" height=\"18\" overflow=\"visible\" width=\"30\">    <path d=\"M 0 -9 l 6 18 L 0 25\" fill=\"none\" style=\"stroke:rgb(255.0, 0.0, 81.08083606031792);stroke-width:2\" />  </svg></g><g transform=\"translate(-4,0)\">  <svg x=\"15.230881613475015%\" y=\"40\" height=\"18\" overflow=\"visible\" width=\"30\">    <path d=\"M 0 -9 l 6 18 L 0 25\" fill=\"none\" style=\"stroke:rgb(255.0, 0.0, 81.08083606031792);stroke-width:2\" />  </svg></g><g transform=\"translate(-2,0)\">  <svg x=\"15.230881613475015%\" y=\"40\" height=\"18\" overflow=\"visible\" width=\"30\">    <path d=\"M 0 -9 l 6 18 L 0 25\" fill=\"none\" style=\"stroke:rgb(255.0, 0.0, 81.08083606031792);stroke-width:2\" />  </svg></g><g transform=\"translate(0,0)\">  <svg x=\"13.944382050609619%\" y=\"40\" height=\"18\" overflow=\"visible\" width=\"30\">    <path d=\"M 0 -9 l 6 18 L 0 25\" fill=\"none\" style=\"stroke:rgb(255.0, 0.0, 81.08083606031792);stroke-width:2\" />  </svg></g><g transform=\"translate(2,0)\">  <svg x=\"13.944382050609619%\" y=\"40\" height=\"18\" overflow=\"visible\" width=\"30\">    <path d=\"M 0 -9 l 6 18 L 0 25\" fill=\"none\" style=\"stroke:rgb(255.0, 0.0, 81.08083606031792);stroke-width:2\" />  </svg></g><g transform=\"translate(4,0)\">  <svg x=\"13.944382050609619%\" y=\"40\" height=\"18\" overflow=\"visible\" width=\"30\">    <path d=\"M 0 -9 l 6 18 L 0 25\" fill=\"none\" style=\"stroke:rgb(255.0, 0.0, 81.08083606031792);stroke-width:2\" />  </svg></g><g transform=\"translate(6,0)\">  <svg x=\"13.944382050609619%\" y=\"40\" height=\"18\" overflow=\"visible\" width=\"30\">    <path d=\"M 0 -9 l 6 18 L 0 25\" fill=\"none\" style=\"stroke:rgb(255.0, 0.0, 81.08083606031792);stroke-width:2\" />  </svg></g><g transform=\"translate(-8,0)\">  <svg x=\"13.944382050609619%\" y=\"40\" height=\"18\" overflow=\"visible\" width=\"30\">    <path d=\"M 0 -9 l 6 18 L 0 25\" fill=\"none\" style=\"stroke:rgb(255.0, 0.0, 81.08083606031792);stroke-width:2\" />  </svg></g><g transform=\"translate(-6,0)\">  <svg x=\"13.944382050609619%\" y=\"40\" height=\"18\" overflow=\"visible\" width=\"30\">    <path d=\"M 0 -9 l 6 18 L 0 25\" fill=\"none\" style=\"stroke:rgb(255.0, 0.0, 81.08083606031792);stroke-width:2\" />  </svg></g><g transform=\"translate(-4,0)\">  <svg x=\"13.944382050609619%\" y=\"40\" height=\"18\" overflow=\"visible\" width=\"30\">    <path d=\"M 0 -9 l 6 18 L 0 25\" fill=\"none\" style=\"stroke:rgb(255.0, 0.0, 81.08083606031792);stroke-width:2\" />  </svg></g><g transform=\"translate(-2,0)\">  <svg x=\"13.944382050609619%\" y=\"40\" height=\"18\" overflow=\"visible\" width=\"30\">    <path d=\"M 0 -9 l 6 18 L 0 25\" fill=\"none\" style=\"stroke:rgb(255.0, 0.0, 81.08083606031792);stroke-width:2\" />  </svg></g><g transform=\"translate(0,0)\">  <svg x=\"12.766698360033338%\" y=\"40\" height=\"18\" overflow=\"visible\" width=\"30\">    <path d=\"M 0 -9 l 6 18 L 0 25\" fill=\"none\" style=\"stroke:rgb(255.0, 0.0, 81.08083606031792);stroke-width:2\" />  </svg></g><g transform=\"translate(2,0)\">  <svg x=\"12.766698360033338%\" y=\"40\" height=\"18\" overflow=\"visible\" width=\"30\">    <path d=\"M 0 -9 l 6 18 L 0 25\" fill=\"none\" style=\"stroke:rgb(255.0, 0.0, 81.08083606031792);stroke-width:2\" />  </svg></g><g transform=\"translate(4,0)\">  <svg x=\"12.766698360033338%\" y=\"40\" height=\"18\" overflow=\"visible\" width=\"30\">    <path d=\"M 0 -9 l 6 18 L 0 25\" fill=\"none\" style=\"stroke:rgb(255.0, 0.0, 81.08083606031792);stroke-width:2\" />  </svg></g><g transform=\"translate(6,0)\">  <svg x=\"12.766698360033338%\" y=\"40\" height=\"18\" overflow=\"visible\" width=\"30\">    <path d=\"M 0 -9 l 6 18 L 0 25\" fill=\"none\" style=\"stroke:rgb(255.0, 0.0, 81.08083606031792);stroke-width:2\" />  </svg></g><g transform=\"translate(-8,0)\">  <svg x=\"12.766698360033338%\" y=\"40\" height=\"18\" overflow=\"visible\" width=\"30\">    <path d=\"M 0 -9 l 6 18 L 0 25\" fill=\"none\" style=\"stroke:rgb(255.0, 0.0, 81.08083606031792);stroke-width:2\" />  </svg></g><g transform=\"translate(-6,0)\">  <svg x=\"12.766698360033338%\" y=\"40\" height=\"18\" overflow=\"visible\" width=\"30\">    <path d=\"M 0 -9 l 6 18 L 0 25\" fill=\"none\" style=\"stroke:rgb(255.0, 0.0, 81.08083606031792);stroke-width:2\" />  </svg></g><g transform=\"translate(-4,0)\">  <svg x=\"12.766698360033338%\" y=\"40\" height=\"18\" overflow=\"visible\" width=\"30\">    <path d=\"M 0 -9 l 6 18 L 0 25\" fill=\"none\" style=\"stroke:rgb(255.0, 0.0, 81.08083606031792);stroke-width:2\" />  </svg></g><g transform=\"translate(-2,0)\">  <svg x=\"12.766698360033338%\" y=\"40\" height=\"18\" overflow=\"visible\" width=\"30\">    <path d=\"M 0 -9 l 6 18 L 0 25\" fill=\"none\" style=\"stroke:rgb(255.0, 0.0, 81.08083606031792);stroke-width:2\" />  </svg></g><g transform=\"translate(0,0)\">  <svg x=\"11.615843163274503%\" y=\"40\" height=\"18\" overflow=\"visible\" width=\"30\">    <path d=\"M 0 -9 l 6 18 L 0 25\" fill=\"none\" style=\"stroke:rgb(255.0, 0.0, 81.08083606031792);stroke-width:2\" />  </svg></g><g transform=\"translate(2,0)\">  <svg x=\"11.615843163274503%\" y=\"40\" height=\"18\" overflow=\"visible\" width=\"30\">    <path d=\"M 0 -9 l 6 18 L 0 25\" fill=\"none\" style=\"stroke:rgb(255.0, 0.0, 81.08083606031792);stroke-width:2\" />  </svg></g><g transform=\"translate(4,0)\">  <svg x=\"11.615843163274503%\" y=\"40\" height=\"18\" overflow=\"visible\" width=\"30\">    <path d=\"M 0 -9 l 6 18 L 0 25\" fill=\"none\" style=\"stroke:rgb(255.0, 0.0, 81.08083606031792);stroke-width:2\" />  </svg></g><g transform=\"translate(6,0)\">  <svg x=\"11.615843163274503%\" y=\"40\" height=\"18\" overflow=\"visible\" width=\"30\">    <path d=\"M 0 -9 l 6 18 L 0 25\" fill=\"none\" style=\"stroke:rgb(255.0, 0.0, 81.08083606031792);stroke-width:2\" />  </svg></g><g transform=\"translate(-8,0)\">  <svg x=\"11.615843163274503%\" y=\"40\" height=\"18\" overflow=\"visible\" width=\"30\">    <path d=\"M 0 -9 l 6 18 L 0 25\" fill=\"none\" style=\"stroke:rgb(255.0, 0.0, 81.08083606031792);stroke-width:2\" />  </svg></g><g transform=\"translate(-6,0)\">  <svg x=\"11.615843163274503%\" y=\"40\" height=\"18\" overflow=\"visible\" width=\"30\">    <path d=\"M 0 -9 l 6 18 L 0 25\" fill=\"none\" style=\"stroke:rgb(255.0, 0.0, 81.08083606031792);stroke-width:2\" />  </svg></g><g transform=\"translate(-4,0)\">  <svg x=\"11.615843163274503%\" y=\"40\" height=\"18\" overflow=\"visible\" width=\"30\">    <path d=\"M 0 -9 l 6 18 L 0 25\" fill=\"none\" style=\"stroke:rgb(255.0, 0.0, 81.08083606031792);stroke-width:2\" />  </svg></g><g transform=\"translate(-2,0)\">  <svg x=\"11.615843163274503%\" y=\"40\" height=\"18\" overflow=\"visible\" width=\"30\">    <path d=\"M 0 -9 l 6 18 L 0 25\" fill=\"none\" style=\"stroke:rgb(255.0, 0.0, 81.08083606031792);stroke-width:2\" />  </svg></g><g transform=\"translate(0,0)\">  <svg x=\"10.477433032202475%\" y=\"40\" height=\"18\" overflow=\"visible\" width=\"30\">    <path d=\"M 0 -9 l 6 18 L 0 25\" fill=\"none\" style=\"stroke:rgb(255.0, 0.0, 81.08083606031792);stroke-width:2\" />  </svg></g><g transform=\"translate(2,0)\">  <svg x=\"10.477433032202475%\" y=\"40\" height=\"18\" overflow=\"visible\" width=\"30\">    <path d=\"M 0 -9 l 6 18 L 0 25\" fill=\"none\" style=\"stroke:rgb(255.0, 0.0, 81.08083606031792);stroke-width:2\" />  </svg></g><g transform=\"translate(4,0)\">  <svg x=\"10.477433032202475%\" y=\"40\" height=\"18\" overflow=\"visible\" width=\"30\">    <path d=\"M 0 -9 l 6 18 L 0 25\" fill=\"none\" style=\"stroke:rgb(255.0, 0.0, 81.08083606031792);stroke-width:2\" />  </svg></g><g transform=\"translate(6,0)\">  <svg x=\"10.477433032202475%\" y=\"40\" height=\"18\" overflow=\"visible\" width=\"30\">    <path d=\"M 0 -9 l 6 18 L 0 25\" fill=\"none\" style=\"stroke:rgb(255.0, 0.0, 81.08083606031792);stroke-width:2\" />  </svg></g><g transform=\"translate(-8,0)\">  <svg x=\"10.477433032202475%\" y=\"40\" height=\"18\" overflow=\"visible\" width=\"30\">    <path d=\"M 0 -9 l 6 18 L 0 25\" fill=\"none\" style=\"stroke:rgb(255.0, 0.0, 81.08083606031792);stroke-width:2\" />  </svg></g><g transform=\"translate(-6,0)\">  <svg x=\"10.477433032202475%\" y=\"40\" height=\"18\" overflow=\"visible\" width=\"30\">    <path d=\"M 0 -9 l 6 18 L 0 25\" fill=\"none\" style=\"stroke:rgb(255.0, 0.0, 81.08083606031792);stroke-width:2\" />  </svg></g><g transform=\"translate(-4,0)\">  <svg x=\"10.477433032202475%\" y=\"40\" height=\"18\" overflow=\"visible\" width=\"30\">    <path d=\"M 0 -9 l 6 18 L 0 25\" fill=\"none\" style=\"stroke:rgb(255.0, 0.0, 81.08083606031792);stroke-width:2\" />  </svg></g><g transform=\"translate(-2,0)\">  <svg x=\"10.477433032202475%\" y=\"40\" height=\"18\" overflow=\"visible\" width=\"30\">    <path d=\"M 0 -9 l 6 18 L 0 25\" fill=\"none\" style=\"stroke:rgb(255.0, 0.0, 81.08083606031792);stroke-width:2\" />  </svg></g><g transform=\"translate(0,0)\">  <svg x=\"9.371240106083293%\" y=\"40\" height=\"18\" overflow=\"visible\" width=\"30\">    <path d=\"M 0 -9 l 6 18 L 0 25\" fill=\"none\" style=\"stroke:rgb(255.0, 0.0, 81.08083606031792);stroke-width:2\" />  </svg></g><g transform=\"translate(2,0)\">  <svg x=\"9.371240106083293%\" y=\"40\" height=\"18\" overflow=\"visible\" width=\"30\">    <path d=\"M 0 -9 l 6 18 L 0 25\" fill=\"none\" style=\"stroke:rgb(255.0, 0.0, 81.08083606031792);stroke-width:2\" />  </svg></g><g transform=\"translate(4,0)\">  <svg x=\"9.371240106083293%\" y=\"40\" height=\"18\" overflow=\"visible\" width=\"30\">    <path d=\"M 0 -9 l 6 18 L 0 25\" fill=\"none\" style=\"stroke:rgb(255.0, 0.0, 81.08083606031792);stroke-width:2\" />  </svg></g><g transform=\"translate(6,0)\">  <svg x=\"9.371240106083293%\" y=\"40\" height=\"18\" overflow=\"visible\" width=\"30\">    <path d=\"M 0 -9 l 6 18 L 0 25\" fill=\"none\" style=\"stroke:rgb(255.0, 0.0, 81.08083606031792);stroke-width:2\" />  </svg></g><g transform=\"translate(-8,0)\">  <svg x=\"9.371240106083293%\" y=\"40\" height=\"18\" overflow=\"visible\" width=\"30\">    <path d=\"M 0 -9 l 6 18 L 0 25\" fill=\"none\" style=\"stroke:rgb(255.0, 0.0, 81.08083606031792);stroke-width:2\" />  </svg></g><g transform=\"translate(-6,0)\">  <svg x=\"9.371240106083293%\" y=\"40\" height=\"18\" overflow=\"visible\" width=\"30\">    <path d=\"M 0 -9 l 6 18 L 0 25\" fill=\"none\" style=\"stroke:rgb(255.0, 0.0, 81.08083606031792);stroke-width:2\" />  </svg></g><g transform=\"translate(-4,0)\">  <svg x=\"9.371240106083293%\" y=\"40\" height=\"18\" overflow=\"visible\" width=\"30\">    <path d=\"M 0 -9 l 6 18 L 0 25\" fill=\"none\" style=\"stroke:rgb(255.0, 0.0, 81.08083606031792);stroke-width:2\" />  </svg></g><g transform=\"translate(-2,0)\">  <svg x=\"9.371240106083293%\" y=\"40\" height=\"18\" overflow=\"visible\" width=\"30\">    <path d=\"M 0 -9 l 6 18 L 0 25\" fill=\"none\" style=\"stroke:rgb(255.0, 0.0, 81.08083606031792);stroke-width:2\" />  </svg></g><g transform=\"translate(0,0)\">  <svg x=\"8.432144545460492%\" y=\"40\" height=\"18\" overflow=\"visible\" width=\"30\">    <path d=\"M 0 -9 l 6 18 L 0 25\" fill=\"none\" style=\"stroke:rgb(255.0, 0.0, 81.08083606031792);stroke-width:2\" />  </svg></g><g transform=\"translate(2,0)\">  <svg x=\"8.432144545460492%\" y=\"40\" height=\"18\" overflow=\"visible\" width=\"30\">    <path d=\"M 0 -9 l 6 18 L 0 25\" fill=\"none\" style=\"stroke:rgb(255.0, 0.0, 81.08083606031792);stroke-width:2\" />  </svg></g><g transform=\"translate(4,0)\">  <svg x=\"8.432144545460492%\" y=\"40\" height=\"18\" overflow=\"visible\" width=\"30\">    <path d=\"M 0 -9 l 6 18 L 0 25\" fill=\"none\" style=\"stroke:rgb(255.0, 0.0, 81.08083606031792);stroke-width:2\" />  </svg></g><g transform=\"translate(6,0)\">  <svg x=\"8.432144545460492%\" y=\"40\" height=\"18\" overflow=\"visible\" width=\"30\">    <path d=\"M 0 -9 l 6 18 L 0 25\" fill=\"none\" style=\"stroke:rgb(255.0, 0.0, 81.08083606031792);stroke-width:2\" />  </svg></g><g transform=\"translate(-8,0)\">  <svg x=\"8.432144545460492%\" y=\"40\" height=\"18\" overflow=\"visible\" width=\"30\">    <path d=\"M 0 -9 l 6 18 L 0 25\" fill=\"none\" style=\"stroke:rgb(255.0, 0.0, 81.08083606031792);stroke-width:2\" />  </svg></g><g transform=\"translate(-6,0)\">  <svg x=\"8.432144545460492%\" y=\"40\" height=\"18\" overflow=\"visible\" width=\"30\">    <path d=\"M 0 -9 l 6 18 L 0 25\" fill=\"none\" style=\"stroke:rgb(255.0, 0.0, 81.08083606031792);stroke-width:2\" />  </svg></g><g transform=\"translate(-4,0)\">  <svg x=\"8.432144545460492%\" y=\"40\" height=\"18\" overflow=\"visible\" width=\"30\">    <path d=\"M 0 -9 l 6 18 L 0 25\" fill=\"none\" style=\"stroke:rgb(255.0, 0.0, 81.08083606031792);stroke-width:2\" />  </svg></g><g transform=\"translate(-2,0)\">  <svg x=\"8.432144545460492%\" y=\"40\" height=\"18\" overflow=\"visible\" width=\"30\">    <path d=\"M 0 -9 l 6 18 L 0 25\" fill=\"none\" style=\"stroke:rgb(255.0, 0.0, 81.08083606031792);stroke-width:2\" />  </svg></g><g transform=\"translate(0,0)\">  <svg x=\"8.341784634478627%\" y=\"40\" height=\"18\" overflow=\"visible\" width=\"30\">    <path d=\"M 0 -9 l 6 18 L 0 25\" fill=\"none\" style=\"stroke:rgb(255.0, 0.0, 81.08083606031792);stroke-width:2\" />  </svg></g><g transform=\"translate(2,0)\">  <svg x=\"8.341784634478627%\" y=\"40\" height=\"18\" overflow=\"visible\" width=\"30\">    <path d=\"M 0 -9 l 6 18 L 0 25\" fill=\"none\" style=\"stroke:rgb(255.0, 0.0, 81.08083606031792);stroke-width:2\" />  </svg></g><g transform=\"translate(4,0)\">  <svg x=\"8.341784634478627%\" y=\"40\" height=\"18\" overflow=\"visible\" width=\"30\">    <path d=\"M 0 -9 l 6 18 L 0 25\" fill=\"none\" style=\"stroke:rgb(255.0, 0.0, 81.08083606031792);stroke-width:2\" />  </svg></g><g transform=\"translate(6,0)\">  <svg x=\"8.341784634478627%\" y=\"40\" height=\"18\" overflow=\"visible\" width=\"30\">    <path d=\"M 0 -9 l 6 18 L 0 25\" fill=\"none\" style=\"stroke:rgb(255.0, 0.0, 81.08083606031792);stroke-width:2\" />  </svg></g><g transform=\"translate(-8,0)\">  <svg x=\"8.341784634478627%\" y=\"40\" height=\"18\" overflow=\"visible\" width=\"30\">    <path d=\"M 0 -9 l 6 18 L 0 25\" fill=\"none\" style=\"stroke:rgb(255.0, 0.0, 81.08083606031792);stroke-width:2\" />  </svg></g><g transform=\"translate(-6,0)\">  <svg x=\"8.341784634478627%\" y=\"40\" height=\"18\" overflow=\"visible\" width=\"30\">    <path d=\"M 0 -9 l 6 18 L 0 25\" fill=\"none\" style=\"stroke:rgb(255.0, 0.0, 81.08083606031792);stroke-width:2\" />  </svg></g><g transform=\"translate(-4,0)\">  <svg x=\"8.341784634478627%\" y=\"40\" height=\"18\" overflow=\"visible\" width=\"30\">    <path d=\"M 0 -9 l 6 18 L 0 25\" fill=\"none\" style=\"stroke:rgb(255.0, 0.0, 81.08083606031792);stroke-width:2\" />  </svg></g><g transform=\"translate(-2,0)\">  <svg x=\"8.341784634478627%\" y=\"40\" height=\"18\" overflow=\"visible\" width=\"30\">    <path d=\"M 0 -9 l 6 18 L 0 25\" fill=\"none\" style=\"stroke:rgb(255.0, 0.0, 81.08083606031792);stroke-width:2\" />  </svg></g><rect transform=\"translate(-8,0)\" x=\"79.70348681729779%\" y=\"40\" width=\"8\" height=\"18\" style=\"fill:rgb(255.0, 0.0, 81.08083606031792)\"/><g transform=\"translate(-11.5,0)\">  <svg x=\"8.333331541511681%\" y=\"40\" height=\"18\" overflow=\"visible\" width=\"30\">    <path d=\"M 10 -9 l 6 18 L 10 25 L 0 25 L 0 -9\" fill=\"#ffffff\" style=\"stroke:rgb(255,255,255);stroke-width:2\" />  </svg></g><g transform=\"translate(-1.5,0)\">  <svg x=\"79.70348681729779%\" y=\"40\" height=\"18\" overflow=\"visible\" width=\"30\">    <path d=\"M 0 -9 l 6 18 L 0 25\" fill=\"none\" style=\"stroke:rgb(255, 195, 213);stroke-width:2\" />  </svg></g><rect x=\"64.29984798868004%\" y=\"40\" height=\"20\" width=\"15.403638828617744%\"      onmouseover=\"document.getElementById('_tp_usieyiccwpusnzjovqwp_ind_17').style.textDecoration = 'underline';document.getElementById('_fs_usieyiccwpusnzjovqwp_ind_17').style.opacity = 1;document.getElementById('_fb_usieyiccwpusnzjovqwp_ind_17').style.opacity = 1;\"      onmouseout=\"document.getElementById('_tp_usieyiccwpusnzjovqwp_ind_17').style.textDecoration = 'none';document.getElementById('_fs_usieyiccwpusnzjovqwp_ind_17').style.opacity = 0;document.getElementById('_fb_usieyiccwpusnzjovqwp_ind_17').style.opacity = 0;\" style=\"fill:rgb(0,0,0,0)\" /><g transform=\"translate(-1.5,0)\">  <svg x=\"64.29984798868004%\" y=\"40\" height=\"18\" overflow=\"visible\" width=\"30\">    <path d=\"M 0 -9 l 6 18 L 0 25\" fill=\"none\" style=\"stroke:rgb(255, 195, 213);stroke-width:2\" />  </svg></g><rect x=\"54.10974328800964%\" y=\"40\" height=\"20\" width=\"10.190104700670403%\"      onmouseover=\"document.getElementById('_tp_usieyiccwpusnzjovqwp_ind_20').style.textDecoration = 'underline';document.getElementById('_fs_usieyiccwpusnzjovqwp_ind_20').style.opacity = 1;document.getElementById('_fb_usieyiccwpusnzjovqwp_ind_20').style.opacity = 1;\"      onmouseout=\"document.getElementById('_tp_usieyiccwpusnzjovqwp_ind_20').style.textDecoration = 'none';document.getElementById('_fs_usieyiccwpusnzjovqwp_ind_20').style.opacity = 0;document.getElementById('_fb_usieyiccwpusnzjovqwp_ind_20').style.opacity = 0;\" style=\"fill:rgb(0,0,0,0)\" /><g transform=\"translate(-1.5,0)\">  <svg x=\"54.10974328800964%\" y=\"40\" height=\"18\" overflow=\"visible\" width=\"30\">    <path d=\"M 0 -9 l 6 18 L 0 25\" fill=\"none\" style=\"stroke:rgb(255, 195, 213);stroke-width:2\" />  </svg></g><rect x=\"45.110598313616904%\" y=\"40\" height=\"20\" width=\"8.999144974392735%\"      onmouseover=\"document.getElementById('_tp_usieyiccwpusnzjovqwp_ind_21').style.textDecoration = 'underline';document.getElementById('_fs_usieyiccwpusnzjovqwp_ind_21').style.opacity = 1;document.getElementById('_fb_usieyiccwpusnzjovqwp_ind_21').style.opacity = 1;\"      onmouseout=\"document.getElementById('_tp_usieyiccwpusnzjovqwp_ind_21').style.textDecoration = 'none';document.getElementById('_fs_usieyiccwpusnzjovqwp_ind_21').style.opacity = 0;document.getElementById('_fb_usieyiccwpusnzjovqwp_ind_21').style.opacity = 0;\" style=\"fill:rgb(0,0,0,0)\" /><g transform=\"translate(-1.5,0)\">  <svg x=\"45.110598313616904%\" y=\"40\" height=\"18\" overflow=\"visible\" width=\"30\">    <path d=\"M 0 -9 l 6 18 L 0 25\" fill=\"none\" style=\"stroke:rgb(255, 195, 213);stroke-width:2\" />  </svg></g><rect x=\"40.037262157988245%\" y=\"40\" height=\"20\" width=\"5.07333615562866%\"      onmouseover=\"document.getElementById('_tp_usieyiccwpusnzjovqwp_ind_2').style.textDecoration = 'underline';document.getElementById('_fs_usieyiccwpusnzjovqwp_ind_2').style.opacity = 1;document.getElementById('_fb_usieyiccwpusnzjovqwp_ind_2').style.opacity = 1;\"      onmouseout=\"document.getElementById('_tp_usieyiccwpusnzjovqwp_ind_2').style.textDecoration = 'none';document.getElementById('_fs_usieyiccwpusnzjovqwp_ind_2').style.opacity = 0;document.getElementById('_fb_usieyiccwpusnzjovqwp_ind_2').style.opacity = 0;\" style=\"fill:rgb(0,0,0,0)\" /><g transform=\"translate(-1.5,0)\">  <svg x=\"40.037262157988245%\" y=\"40\" height=\"18\" overflow=\"visible\" width=\"30\">    <path d=\"M 0 -9 l 6 18 L 0 25\" fill=\"none\" style=\"stroke:rgb(255, 195, 213);stroke-width:2\" />  </svg></g><rect x=\"35.11801190496595%\" y=\"40\" height=\"20\" width=\"4.919250253022298%\"      onmouseover=\"document.getElementById('_tp_usieyiccwpusnzjovqwp_ind_23').style.textDecoration = 'underline';document.getElementById('_fs_usieyiccwpusnzjovqwp_ind_23').style.opacity = 1;document.getElementById('_fb_usieyiccwpusnzjovqwp_ind_23').style.opacity = 1;\"      onmouseout=\"document.getElementById('_tp_usieyiccwpusnzjovqwp_ind_23').style.textDecoration = 'none';document.getElementById('_fs_usieyiccwpusnzjovqwp_ind_23').style.opacity = 0;document.getElementById('_fb_usieyiccwpusnzjovqwp_ind_23').style.opacity = 0;\" style=\"fill:rgb(0,0,0,0)\" /><g transform=\"translate(-1.5,0)\">  <svg x=\"35.11801190496595%\" y=\"40\" height=\"18\" overflow=\"visible\" width=\"30\">    <path d=\"M 0 -9 l 6 18 L 0 25\" fill=\"none\" style=\"stroke:rgb(255, 195, 213);stroke-width:2\" />  </svg></g><rect x=\"30.47341135478138%\" y=\"40\" height=\"20\" width=\"4.644600550184567%\"      onmouseover=\"document.getElementById('_tp_usieyiccwpusnzjovqwp_ind_12').style.textDecoration = 'underline';document.getElementById('_fs_usieyiccwpusnzjovqwp_ind_12').style.opacity = 1;document.getElementById('_fb_usieyiccwpusnzjovqwp_ind_12').style.opacity = 1;\"      onmouseout=\"document.getElementById('_tp_usieyiccwpusnzjovqwp_ind_12').style.textDecoration = 'none';document.getElementById('_fs_usieyiccwpusnzjovqwp_ind_12').style.opacity = 0;document.getElementById('_fb_usieyiccwpusnzjovqwp_ind_12').style.opacity = 0;\" style=\"fill:rgb(0,0,0,0)\" /><g transform=\"translate(-1.5,0)\">  <svg x=\"30.47341135478138%\" y=\"40\" height=\"18\" overflow=\"visible\" width=\"30\">    <path d=\"M 0 -9 l 6 18 L 0 25\" fill=\"none\" style=\"stroke:rgb(255, 195, 213);stroke-width:2\" />  </svg></g><rect x=\"26.143697925881416%\" y=\"40\" height=\"20\" width=\"4.329713428899964%\"      onmouseover=\"document.getElementById('_tp_usieyiccwpusnzjovqwp_ind_14').style.textDecoration = 'underline';document.getElementById('_fs_usieyiccwpusnzjovqwp_ind_14').style.opacity = 1;document.getElementById('_fb_usieyiccwpusnzjovqwp_ind_14').style.opacity = 1;\"      onmouseout=\"document.getElementById('_tp_usieyiccwpusnzjovqwp_ind_14').style.textDecoration = 'none';document.getElementById('_fs_usieyiccwpusnzjovqwp_ind_14').style.opacity = 0;document.getElementById('_fb_usieyiccwpusnzjovqwp_ind_14').style.opacity = 0;\" style=\"fill:rgb(0,0,0,0)\" /><g transform=\"translate(-1.5,0)\">  <svg x=\"26.143697925881416%\" y=\"40\" height=\"18\" overflow=\"visible\" width=\"30\">    <path d=\"M 0 -9 l 6 18 L 0 25\" fill=\"none\" style=\"stroke:rgb(255, 195, 213);stroke-width:2\" />  </svg></g><rect x=\"23.067886625843702%\" y=\"40\" height=\"20\" width=\"3.0758113000377136%\"      onmouseover=\"document.getElementById('_tp_usieyiccwpusnzjovqwp_ind_22').style.textDecoration = 'underline';document.getElementById('_fs_usieyiccwpusnzjovqwp_ind_22').style.opacity = 1;document.getElementById('_fb_usieyiccwpusnzjovqwp_ind_22').style.opacity = 1;\"      onmouseout=\"document.getElementById('_tp_usieyiccwpusnzjovqwp_ind_22').style.textDecoration = 'none';document.getElementById('_fs_usieyiccwpusnzjovqwp_ind_22').style.opacity = 0;document.getElementById('_fb_usieyiccwpusnzjovqwp_ind_22').style.opacity = 0;\" style=\"fill:rgb(0,0,0,0)\" /><g transform=\"translate(-1.5,0)\">  <svg x=\"23.067886625843702%\" y=\"40\" height=\"18\" overflow=\"visible\" width=\"30\">    <path d=\"M 0 -9 l 6 18 L 0 25\" fill=\"none\" style=\"stroke:rgb(255, 195, 213);stroke-width:2\" />  </svg></g><rect x=\"20.403732883398934%\" y=\"40\" height=\"20\" width=\"2.6641537424447677%\"      onmouseover=\"document.getElementById('_tp_usieyiccwpusnzjovqwp_ind_19').style.textDecoration = 'underline';document.getElementById('_fs_usieyiccwpusnzjovqwp_ind_19').style.opacity = 1;document.getElementById('_fb_usieyiccwpusnzjovqwp_ind_19').style.opacity = 1;\"      onmouseout=\"document.getElementById('_tp_usieyiccwpusnzjovqwp_ind_19').style.textDecoration = 'none';document.getElementById('_fs_usieyiccwpusnzjovqwp_ind_19').style.opacity = 0;document.getElementById('_fb_usieyiccwpusnzjovqwp_ind_19').style.opacity = 0;\" style=\"fill:rgb(0,0,0,0)\" /><g transform=\"translate(-1.5,0)\">  <svg x=\"20.403732883398934%\" y=\"40\" height=\"18\" overflow=\"visible\" width=\"30\">    <path d=\"M 0 -9 l 6 18 L 0 25\" fill=\"none\" style=\"stroke:rgb(255, 195, 213);stroke-width:2\" />  </svg></g><rect x=\"18.493297432078403%\" y=\"40\" height=\"20\" width=\"1.9104354513205308%\"      onmouseover=\"document.getElementById('_tp_usieyiccwpusnzjovqwp_ind_15').style.textDecoration = 'underline';document.getElementById('_fs_usieyiccwpusnzjovqwp_ind_15').style.opacity = 1;document.getElementById('_fb_usieyiccwpusnzjovqwp_ind_15').style.opacity = 1;\"      onmouseout=\"document.getElementById('_tp_usieyiccwpusnzjovqwp_ind_15').style.textDecoration = 'none';document.getElementById('_fs_usieyiccwpusnzjovqwp_ind_15').style.opacity = 0;document.getElementById('_fb_usieyiccwpusnzjovqwp_ind_15').style.opacity = 0;\" style=\"fill:rgb(0,0,0,0)\" /><g transform=\"translate(-1.5,0)\">  <svg x=\"18.493297432078403%\" y=\"40\" height=\"18\" overflow=\"visible\" width=\"30\">    <path d=\"M 0 -9 l 6 18 L 0 25\" fill=\"none\" style=\"stroke:rgb(255, 195, 213);stroke-width:2\" />  </svg></g><rect x=\"16.703910958787%\" y=\"40\" height=\"20\" width=\"1.7893864732914047%\"      onmouseover=\"document.getElementById('_tp_usieyiccwpusnzjovqwp_ind_9').style.textDecoration = 'underline';document.getElementById('_fs_usieyiccwpusnzjovqwp_ind_9').style.opacity = 1;document.getElementById('_fb_usieyiccwpusnzjovqwp_ind_9').style.opacity = 1;\"      onmouseout=\"document.getElementById('_tp_usieyiccwpusnzjovqwp_ind_9').style.textDecoration = 'none';document.getElementById('_fs_usieyiccwpusnzjovqwp_ind_9').style.opacity = 0;document.getElementById('_fb_usieyiccwpusnzjovqwp_ind_9').style.opacity = 0;\" style=\"fill:rgb(0,0,0,0)\" /><g transform=\"translate(-1.5,0)\">  <svg x=\"16.703910958787%\" y=\"40\" height=\"18\" overflow=\"visible\" width=\"30\">    <path d=\"M 0 -9 l 6 18 L 0 25\" fill=\"none\" style=\"stroke:rgb(255, 195, 213);stroke-width:2\" />  </svg></g><rect x=\"15.230881613475015%\" y=\"40\" height=\"20\" width=\"1.4730293453119838%\"      onmouseover=\"document.getElementById('_tp_usieyiccwpusnzjovqwp_ind_11').style.textDecoration = 'underline';document.getElementById('_fs_usieyiccwpusnzjovqwp_ind_11').style.opacity = 1;document.getElementById('_fb_usieyiccwpusnzjovqwp_ind_11').style.opacity = 1;\"      onmouseout=\"document.getElementById('_tp_usieyiccwpusnzjovqwp_ind_11').style.textDecoration = 'none';document.getElementById('_fs_usieyiccwpusnzjovqwp_ind_11').style.opacity = 0;document.getElementById('_fb_usieyiccwpusnzjovqwp_ind_11').style.opacity = 0;\" style=\"fill:rgb(0,0,0,0)\" /><g transform=\"translate(-1.5,0)\">  <svg x=\"15.230881613475015%\" y=\"40\" height=\"18\" overflow=\"visible\" width=\"30\">    <path d=\"M 0 -9 l 6 18 L 0 25\" fill=\"none\" style=\"stroke:rgb(255, 195, 213);stroke-width:2\" />  </svg></g><rect x=\"13.944382050609619%\" y=\"40\" height=\"20\" width=\"1.2864995628653961%\"      onmouseover=\"document.getElementById('_tp_usieyiccwpusnzjovqwp_ind_8').style.textDecoration = 'underline';document.getElementById('_fs_usieyiccwpusnzjovqwp_ind_8').style.opacity = 1;document.getElementById('_fb_usieyiccwpusnzjovqwp_ind_8').style.opacity = 1;\"      onmouseout=\"document.getElementById('_tp_usieyiccwpusnzjovqwp_ind_8').style.textDecoration = 'none';document.getElementById('_fs_usieyiccwpusnzjovqwp_ind_8').style.opacity = 0;document.getElementById('_fb_usieyiccwpusnzjovqwp_ind_8').style.opacity = 0;\" style=\"fill:rgb(0,0,0,0)\" /><g transform=\"translate(-1.5,0)\">  <svg x=\"13.944382050609619%\" y=\"40\" height=\"18\" overflow=\"visible\" width=\"30\">    <path d=\"M 0 -9 l 6 18 L 0 25\" fill=\"none\" style=\"stroke:rgb(255, 195, 213);stroke-width:2\" />  </svg></g><rect x=\"12.766698360033338%\" y=\"40\" height=\"20\" width=\"1.1776836905762806%\"      onmouseover=\"document.getElementById('_tp_usieyiccwpusnzjovqwp_ind_7').style.textDecoration = 'underline';document.getElementById('_fs_usieyiccwpusnzjovqwp_ind_7').style.opacity = 1;document.getElementById('_fb_usieyiccwpusnzjovqwp_ind_7').style.opacity = 1;\"      onmouseout=\"document.getElementById('_tp_usieyiccwpusnzjovqwp_ind_7').style.textDecoration = 'none';document.getElementById('_fs_usieyiccwpusnzjovqwp_ind_7').style.opacity = 0;document.getElementById('_fb_usieyiccwpusnzjovqwp_ind_7').style.opacity = 0;\" style=\"fill:rgb(0,0,0,0)\" /><g transform=\"translate(-1.5,0)\">  <svg x=\"12.766698360033338%\" y=\"40\" height=\"18\" overflow=\"visible\" width=\"30\">    <path d=\"M 0 -9 l 6 18 L 0 25\" fill=\"none\" style=\"stroke:rgb(255, 195, 213);stroke-width:2\" />  </svg></g><rect x=\"11.615843163274503%\" y=\"40\" height=\"20\" width=\"1.150855196758835%\"      onmouseover=\"document.getElementById('_tp_usieyiccwpusnzjovqwp_ind_5').style.textDecoration = 'underline';document.getElementById('_fs_usieyiccwpusnzjovqwp_ind_5').style.opacity = 1;document.getElementById('_fb_usieyiccwpusnzjovqwp_ind_5').style.opacity = 1;\"      onmouseout=\"document.getElementById('_tp_usieyiccwpusnzjovqwp_ind_5').style.textDecoration = 'none';document.getElementById('_fs_usieyiccwpusnzjovqwp_ind_5').style.opacity = 0;document.getElementById('_fb_usieyiccwpusnzjovqwp_ind_5').style.opacity = 0;\" style=\"fill:rgb(0,0,0,0)\" /><g transform=\"translate(-1.5,0)\">  <svg x=\"11.615843163274503%\" y=\"40\" height=\"18\" overflow=\"visible\" width=\"30\">    <path d=\"M 0 -9 l 6 18 L 0 25\" fill=\"none\" style=\"stroke:rgb(255, 195, 213);stroke-width:2\" />  </svg></g><rect x=\"10.477433032202475%\" y=\"40\" height=\"20\" width=\"1.1384101310720283%\"      onmouseover=\"document.getElementById('_tp_usieyiccwpusnzjovqwp_ind_10').style.textDecoration = 'underline';document.getElementById('_fs_usieyiccwpusnzjovqwp_ind_10').style.opacity = 1;document.getElementById('_fb_usieyiccwpusnzjovqwp_ind_10').style.opacity = 1;\"      onmouseout=\"document.getElementById('_tp_usieyiccwpusnzjovqwp_ind_10').style.textDecoration = 'none';document.getElementById('_fs_usieyiccwpusnzjovqwp_ind_10').style.opacity = 0;document.getElementById('_fb_usieyiccwpusnzjovqwp_ind_10').style.opacity = 0;\" style=\"fill:rgb(0,0,0,0)\" /><g transform=\"translate(-1.5,0)\">  <svg x=\"10.477433032202475%\" y=\"40\" height=\"18\" overflow=\"visible\" width=\"30\">    <path d=\"M 0 -9 l 6 18 L 0 25\" fill=\"none\" style=\"stroke:rgb(255, 195, 213);stroke-width:2\" />  </svg></g><rect x=\"9.371240106083293%\" y=\"40\" height=\"20\" width=\"1.1061929261191814%\"      onmouseover=\"document.getElementById('_tp_usieyiccwpusnzjovqwp_ind_4').style.textDecoration = 'underline';document.getElementById('_fs_usieyiccwpusnzjovqwp_ind_4').style.opacity = 1;document.getElementById('_fb_usieyiccwpusnzjovqwp_ind_4').style.opacity = 1;\"      onmouseout=\"document.getElementById('_tp_usieyiccwpusnzjovqwp_ind_4').style.textDecoration = 'none';document.getElementById('_fs_usieyiccwpusnzjovqwp_ind_4').style.opacity = 0;document.getElementById('_fb_usieyiccwpusnzjovqwp_ind_4').style.opacity = 0;\" style=\"fill:rgb(0,0,0,0)\" /><g transform=\"translate(-1.5,0)\">  <svg x=\"9.371240106083293%\" y=\"40\" height=\"18\" overflow=\"visible\" width=\"30\">    <path d=\"M 0 -9 l 6 18 L 0 25\" fill=\"none\" style=\"stroke:rgb(255, 195, 213);stroke-width:2\" />  </svg></g><rect x=\"8.432144545460492%\" y=\"40\" height=\"20\" width=\"0.9390955606228015%\"      onmouseover=\"document.getElementById('_tp_usieyiccwpusnzjovqwp_ind_16').style.textDecoration = 'underline';document.getElementById('_fs_usieyiccwpusnzjovqwp_ind_16').style.opacity = 1;document.getElementById('_fb_usieyiccwpusnzjovqwp_ind_16').style.opacity = 1;\"      onmouseout=\"document.getElementById('_tp_usieyiccwpusnzjovqwp_ind_16').style.textDecoration = 'none';document.getElementById('_fs_usieyiccwpusnzjovqwp_ind_16').style.opacity = 0;document.getElementById('_fb_usieyiccwpusnzjovqwp_ind_16').style.opacity = 0;\" style=\"fill:rgb(0,0,0,0)\" /><g transform=\"translate(-1.5,0)\">  <svg x=\"8.432144545460492%\" y=\"40\" height=\"18\" overflow=\"visible\" width=\"30\">    <path d=\"M 0 -9 l 6 18 L 0 25\" fill=\"none\" style=\"stroke:rgb(255, 195, 213);stroke-width:2\" />  </svg></g><rect x=\"8.341784634478627%\" y=\"40\" height=\"20\" width=\"0.09035991098186535%\"      onmouseover=\"document.getElementById('_tp_usieyiccwpusnzjovqwp_ind_0').style.textDecoration = 'underline';document.getElementById('_fs_usieyiccwpusnzjovqwp_ind_0').style.opacity = 1;document.getElementById('_fb_usieyiccwpusnzjovqwp_ind_0').style.opacity = 1;\"      onmouseout=\"document.getElementById('_tp_usieyiccwpusnzjovqwp_ind_0').style.textDecoration = 'none';document.getElementById('_fs_usieyiccwpusnzjovqwp_ind_0').style.opacity = 0;document.getElementById('_fb_usieyiccwpusnzjovqwp_ind_0').style.opacity = 0;\" style=\"fill:rgb(0,0,0,0)\" /><rect x=\"8.333331541511674%\" y=\"40\" height=\"20\" width=\"0.008453092966952624%\"      onmouseover=\"document.getElementById('_tp_usieyiccwpusnzjovqwp_ind_3').style.textDecoration = 'underline';document.getElementById('_fs_usieyiccwpusnzjovqwp_ind_3').style.opacity = 1;document.getElementById('_fb_usieyiccwpusnzjovqwp_ind_3').style.opacity = 1;\"      onmouseout=\"document.getElementById('_tp_usieyiccwpusnzjovqwp_ind_3').style.textDecoration = 'none';document.getElementById('_fs_usieyiccwpusnzjovqwp_ind_3').style.opacity = 0;document.getElementById('_fb_usieyiccwpusnzjovqwp_ind_3').style.opacity = 0;\" style=\"fill:rgb(0,0,0,0)\" /><rect x=\"79.70348681729779%\" width=\"11.963160139330713%\" y=\"40\" height=\"18\" style=\"fill:rgb(0.0, 138.56128015770727, 250.76166088685727); stroke-width:0; stroke:rgb(0,0,0)\" /><line x1=\"79.70348681729779%\" x2=\"86.18078806475971%\" y1=\"60\" y2=\"60\" id=\"_fb_usieyiccwpusnzjovqwp_ind_18\" style=\"stroke:rgb(0.0, 138.56128015770727, 250.76166088685727);stroke-width:2; opacity: 0\"/><text x=\"82.94213744102875%\" y=\"71\" font-size=\"12px\" fill=\"rgb(0.0, 138.56128015770727, 250.76166088685727)\" id=\"_fs_usieyiccwpusnzjovqwp_ind_18\" style=\"opacity: 0\" dominant-baseline=\"middle\" text-anchor=\"middle\">-0.003</text><svg x=\"79.70348681729779%\" y=\"40\" height=\"20\" width=\"6.477301247461924%\">  <svg x=\"0\" y=\"0\" width=\"100%\" height=\"100%\">    <text x=\"50%\" y=\"9\" font-size=\"12px\" fill=\"rgb(255,255,255)\" dominant-baseline=\"middle\" text-anchor=\"middle\">People.</text>  </svg></svg><line x1=\"86.18078806475971%\" x2=\"89.90439198769826%\" y1=\"60\" y2=\"60\" id=\"_fb_usieyiccwpusnzjovqwp_ind_6\" style=\"stroke:rgb(0.0, 138.56128015770727, 250.76166088685727);stroke-width:2; opacity: 0\"/><text x=\"88.04259002622899%\" y=\"71\" font-size=\"12px\" fill=\"rgb(0.0, 138.56128015770727, 250.76166088685727)\" id=\"_fs_usieyiccwpusnzjovqwp_ind_6\" style=\"opacity: 0\" dominant-baseline=\"middle\" text-anchor=\"middle\">-0.002</text><svg x=\"86.18078806475971%\" y=\"40\" height=\"20\" width=\"3.723603922938551%\">  <svg x=\"0\" y=\"0\" width=\"100%\" height=\"100%\">    <text x=\"50%\" y=\"9\" font-size=\"12px\" fill=\"rgb(255,255,255)\" dominant-baseline=\"middle\" text-anchor=\"middle\">Cops,</text>  </svg></svg><line x1=\"89.90439198769826%\" x2=\"91.2762249578082%\" y1=\"60\" y2=\"60\" id=\"_fb_usieyiccwpusnzjovqwp_ind_13\" style=\"stroke:rgb(0.0, 138.56128015770727, 250.76166088685727);stroke-width:2; opacity: 0\"/><text x=\"90.59030847275324%\" y=\"71\" font-size=\"12px\" fill=\"rgb(0.0, 138.56128015770727, 250.76166088685727)\" id=\"_fs_usieyiccwpusnzjovqwp_ind_13\" style=\"opacity: 0\" dominant-baseline=\"middle\" text-anchor=\"middle\">-0.001</text><svg x=\"89.90439198769826%\" y=\"40\" height=\"20\" width=\"1.371832970109935%\">  <svg x=\"0\" y=\"0\" width=\"100%\" height=\"100%\">    <text x=\"50%\" y=\"9\" font-size=\"12px\" fill=\"rgb(255,255,255)\" dominant-baseline=\"middle\" text-anchor=\"middle\">For</text>  </svg></svg><line x1=\"91.2762249578082%\" x2=\"91.6666469566285%\" y1=\"60\" y2=\"60\" id=\"_fb_usieyiccwpusnzjovqwp_ind_1\" style=\"stroke:rgb(0.0, 138.56128015770727, 250.76166088685727);stroke-width:2; opacity: 0\"/><text x=\"91.47143595721835%\" y=\"71\" font-size=\"12px\" fill=\"rgb(0.0, 138.56128015770727, 250.76166088685727)\" id=\"_fs_usieyiccwpusnzjovqwp_ind_1\" style=\"opacity: 0\" dominant-baseline=\"middle\" text-anchor=\"middle\">-0.0</text><svg x=\"91.2762249578082%\" y=\"40\" height=\"20\" width=\"0.39042199882030104%\">  <svg x=\"0\" y=\"0\" width=\"100%\" height=\"100%\">    <text x=\"50%\" y=\"9\" font-size=\"12px\" fill=\"rgb(255,255,255)\" dominant-baseline=\"middle\" text-anchor=\"middle\">s</text>  </svg></svg><g transform=\"translate(-8,0)\">  <svg x=\"86.18078806475971%\" y=\"40\" height=\"18\" overflow=\"visible\" width=\"30\">    <path d=\"M 8 -9 l -6 18 L 8 25\" fill=\"none\" style=\"stroke:rgb(0.0, 138.56128015770727, 250.76166088685727);stroke-width:2\" />  </svg></g><g transform=\"translate(-10,0)\">  <svg x=\"86.18078806475971%\" y=\"40\" height=\"18\" overflow=\"visible\" width=\"30\">    <path d=\"M 8 -9 l -6 18 L 8 25\" fill=\"none\" style=\"stroke:rgb(0.0, 138.56128015770727, 250.76166088685727);stroke-width:2\" />  </svg></g><g transform=\"translate(-12,0)\">  <svg x=\"86.18078806475971%\" y=\"40\" height=\"18\" overflow=\"visible\" width=\"30\">    <path d=\"M 8 -9 l -6 18 L 8 25\" fill=\"none\" style=\"stroke:rgb(0.0, 138.56128015770727, 250.76166088685727);stroke-width:2\" />  </svg></g><g transform=\"translate(-14,0)\">  <svg x=\"86.18078806475971%\" y=\"40\" height=\"18\" overflow=\"visible\" width=\"30\">    <path d=\"M 8 -9 l -6 18 L 8 25\" fill=\"none\" style=\"stroke:rgb(0.0, 138.56128015770727, 250.76166088685727);stroke-width:2\" />  </svg></g><g transform=\"translate(2,0)\">  <svg x=\"86.18078806475971%\" y=\"40\" height=\"18\" overflow=\"visible\" width=\"30\">    <path d=\"M 8 -9 l -6 18 L 8 25\" fill=\"none\" style=\"stroke:rgb(0.0, 138.56128015770727, 250.76166088685727);stroke-width:2\" />  </svg></g><g transform=\"translate(0,0)\">  <svg x=\"86.18078806475971%\" y=\"40\" height=\"18\" overflow=\"visible\" width=\"30\">    <path d=\"M 8 -9 l -6 18 L 8 25\" fill=\"none\" style=\"stroke:rgb(0.0, 138.56128015770727, 250.76166088685727);stroke-width:2\" />  </svg></g><g transform=\"translate(-2,0)\">  <svg x=\"86.18078806475971%\" y=\"40\" height=\"18\" overflow=\"visible\" width=\"30\">    <path d=\"M 8 -9 l -6 18 L 8 25\" fill=\"none\" style=\"stroke:rgb(0.0, 138.56128015770727, 250.76166088685727);stroke-width:2\" />  </svg></g><g transform=\"translate(-4,0)\">  <svg x=\"86.18078806475971%\" y=\"40\" height=\"18\" overflow=\"visible\" width=\"30\">    <path d=\"M 8 -9 l -6 18 L 8 25\" fill=\"none\" style=\"stroke:rgb(0.0, 138.56128015770727, 250.76166088685727);stroke-width:2\" />  </svg></g><g transform=\"translate(-8,0)\">  <svg x=\"89.90439198769826%\" y=\"40\" height=\"18\" overflow=\"visible\" width=\"30\">    <path d=\"M 8 -9 l -6 18 L 8 25\" fill=\"none\" style=\"stroke:rgb(0.0, 138.56128015770727, 250.76166088685727);stroke-width:2\" />  </svg></g><g transform=\"translate(-10,0)\">  <svg x=\"89.90439198769826%\" y=\"40\" height=\"18\" overflow=\"visible\" width=\"30\">    <path d=\"M 8 -9 l -6 18 L 8 25\" fill=\"none\" style=\"stroke:rgb(0.0, 138.56128015770727, 250.76166088685727);stroke-width:2\" />  </svg></g><g transform=\"translate(-12,0)\">  <svg x=\"89.90439198769826%\" y=\"40\" height=\"18\" overflow=\"visible\" width=\"30\">    <path d=\"M 8 -9 l -6 18 L 8 25\" fill=\"none\" style=\"stroke:rgb(0.0, 138.56128015770727, 250.76166088685727);stroke-width:2\" />  </svg></g><g transform=\"translate(-14,0)\">  <svg x=\"89.90439198769826%\" y=\"40\" height=\"18\" overflow=\"visible\" width=\"30\">    <path d=\"M 8 -9 l -6 18 L 8 25\" fill=\"none\" style=\"stroke:rgb(0.0, 138.56128015770727, 250.76166088685727);stroke-width:2\" />  </svg></g><g transform=\"translate(2,0)\">  <svg x=\"89.90439198769826%\" y=\"40\" height=\"18\" overflow=\"visible\" width=\"30\">    <path d=\"M 8 -9 l -6 18 L 8 25\" fill=\"none\" style=\"stroke:rgb(0.0, 138.56128015770727, 250.76166088685727);stroke-width:2\" />  </svg></g><g transform=\"translate(0,0)\">  <svg x=\"89.90439198769826%\" y=\"40\" height=\"18\" overflow=\"visible\" width=\"30\">    <path d=\"M 8 -9 l -6 18 L 8 25\" fill=\"none\" style=\"stroke:rgb(0.0, 138.56128015770727, 250.76166088685727);stroke-width:2\" />  </svg></g><g transform=\"translate(-2,0)\">  <svg x=\"89.90439198769826%\" y=\"40\" height=\"18\" overflow=\"visible\" width=\"30\">    <path d=\"M 8 -9 l -6 18 L 8 25\" fill=\"none\" style=\"stroke:rgb(0.0, 138.56128015770727, 250.76166088685727);stroke-width:2\" />  </svg></g><g transform=\"translate(-4,0)\">  <svg x=\"89.90439198769826%\" y=\"40\" height=\"18\" overflow=\"visible\" width=\"30\">    <path d=\"M 8 -9 l -6 18 L 8 25\" fill=\"none\" style=\"stroke:rgb(0.0, 138.56128015770727, 250.76166088685727);stroke-width:2\" />  </svg></g><g transform=\"translate(-8,0)\">  <svg x=\"91.2762249578082%\" y=\"40\" height=\"18\" overflow=\"visible\" width=\"30\">    <path d=\"M 8 -9 l -6 18 L 8 25\" fill=\"none\" style=\"stroke:rgb(0.0, 138.56128015770727, 250.76166088685727);stroke-width:2\" />  </svg></g><g transform=\"translate(-10,0)\">  <svg x=\"91.2762249578082%\" y=\"40\" height=\"18\" overflow=\"visible\" width=\"30\">    <path d=\"M 8 -9 l -6 18 L 8 25\" fill=\"none\" style=\"stroke:rgb(0.0, 138.56128015770727, 250.76166088685727);stroke-width:2\" />  </svg></g><g transform=\"translate(-12,0)\">  <svg x=\"91.2762249578082%\" y=\"40\" height=\"18\" overflow=\"visible\" width=\"30\">    <path d=\"M 8 -9 l -6 18 L 8 25\" fill=\"none\" style=\"stroke:rgb(0.0, 138.56128015770727, 250.76166088685727);stroke-width:2\" />  </svg></g><g transform=\"translate(-14,0)\">  <svg x=\"91.2762249578082%\" y=\"40\" height=\"18\" overflow=\"visible\" width=\"30\">    <path d=\"M 8 -9 l -6 18 L 8 25\" fill=\"none\" style=\"stroke:rgb(0.0, 138.56128015770727, 250.76166088685727);stroke-width:2\" />  </svg></g><g transform=\"translate(2,0)\">  <svg x=\"91.2762249578082%\" y=\"40\" height=\"18\" overflow=\"visible\" width=\"30\">    <path d=\"M 8 -9 l -6 18 L 8 25\" fill=\"none\" style=\"stroke:rgb(0.0, 138.56128015770727, 250.76166088685727);stroke-width:2\" />  </svg></g><g transform=\"translate(0,0)\">  <svg x=\"91.2762249578082%\" y=\"40\" height=\"18\" overflow=\"visible\" width=\"30\">    <path d=\"M 8 -9 l -6 18 L 8 25\" fill=\"none\" style=\"stroke:rgb(0.0, 138.56128015770727, 250.76166088685727);stroke-width:2\" />  </svg></g><g transform=\"translate(-2,0)\">  <svg x=\"91.2762249578082%\" y=\"40\" height=\"18\" overflow=\"visible\" width=\"30\">    <path d=\"M 8 -9 l -6 18 L 8 25\" fill=\"none\" style=\"stroke:rgb(0.0, 138.56128015770727, 250.76166088685727);stroke-width:2\" />  </svg></g><g transform=\"translate(-4,0)\">  <svg x=\"91.2762249578082%\" y=\"40\" height=\"18\" overflow=\"visible\" width=\"30\">    <path d=\"M 8 -9 l -6 18 L 8 25\" fill=\"none\" style=\"stroke:rgb(0.0, 138.56128015770727, 250.76166088685727);stroke-width:2\" />  </svg></g><rect transform=\"translate(0,0)\" x=\"79.70348681729779%\" y=\"40\" width=\"8\" height=\"18\" style=\"fill:rgb(0.0, 138.56128015770727, 250.76166088685727)\"/><g transform=\"translate(-6.0,0)\">  <svg x=\"91.6666469566285%\" y=\"40\" height=\"18\" overflow=\"visible\" width=\"30\">    <path d=\"M 8 -9 l -6 18 L 8 25 L 20 25 L 20 -9\" fill=\"#ffffff\" style=\"stroke:rgb(255,255,255);stroke-width:2\" />  </svg></g><g transform=\"translate(-6.0,0)\">  <svg x=\"86.18078806475971%\" y=\"40\" height=\"18\" overflow=\"visible\" width=\"30\">    <path d=\"M 8 -9 l -6 18 L 8 25\" fill=\"none\" style=\"stroke:rgb(208, 230, 250);stroke-width:2\" />  </svg></g><rect x=\"79.70348681729779%\" y=\"40\" height=\"20\" width=\"6.477301247461924%\"      onmouseover=\"document.getElementById('_tp_usieyiccwpusnzjovqwp_ind_18').style.textDecoration = 'underline';document.getElementById('_fs_usieyiccwpusnzjovqwp_ind_18').style.opacity = 1;document.getElementById('_fb_usieyiccwpusnzjovqwp_ind_18').style.opacity = 1;\"      onmouseout=\"document.getElementById('_tp_usieyiccwpusnzjovqwp_ind_18').style.textDecoration = 'none';document.getElementById('_fs_usieyiccwpusnzjovqwp_ind_18').style.opacity = 0;document.getElementById('_fb_usieyiccwpusnzjovqwp_ind_18').style.opacity = 0;\" style=\"fill:rgb(0,0,0,0)\" /><g transform=\"translate(-6.0,0)\">  <svg x=\"89.90439198769826%\" y=\"40\" height=\"18\" overflow=\"visible\" width=\"30\">    <path d=\"M 8 -9 l -6 18 L 8 25\" fill=\"none\" style=\"stroke:rgb(208, 230, 250);stroke-width:2\" />  </svg></g><rect x=\"86.18078806475971%\" y=\"40\" height=\"20\" width=\"3.723603922938551%\"      onmouseover=\"document.getElementById('_tp_usieyiccwpusnzjovqwp_ind_6').style.textDecoration = 'underline';document.getElementById('_fs_usieyiccwpusnzjovqwp_ind_6').style.opacity = 1;document.getElementById('_fb_usieyiccwpusnzjovqwp_ind_6').style.opacity = 1;\"      onmouseout=\"document.getElementById('_tp_usieyiccwpusnzjovqwp_ind_6').style.textDecoration = 'none';document.getElementById('_fs_usieyiccwpusnzjovqwp_ind_6').style.opacity = 0;document.getElementById('_fb_usieyiccwpusnzjovqwp_ind_6').style.opacity = 0;\" style=\"fill:rgb(0,0,0,0)\" /><g transform=\"translate(-6.0,0)\">  <svg x=\"91.2762249578082%\" y=\"40\" height=\"18\" overflow=\"visible\" width=\"30\">    <path d=\"M 8 -9 l -6 18 L 8 25\" fill=\"none\" style=\"stroke:rgb(208, 230, 250);stroke-width:2\" />  </svg></g><rect x=\"89.90439198769826%\" y=\"40\" height=\"20\" width=\"1.371832970109935%\"      onmouseover=\"document.getElementById('_tp_usieyiccwpusnzjovqwp_ind_13').style.textDecoration = 'underline';document.getElementById('_fs_usieyiccwpusnzjovqwp_ind_13').style.opacity = 1;document.getElementById('_fb_usieyiccwpusnzjovqwp_ind_13').style.opacity = 1;\"      onmouseout=\"document.getElementById('_tp_usieyiccwpusnzjovqwp_ind_13').style.textDecoration = 'none';document.getElementById('_fs_usieyiccwpusnzjovqwp_ind_13').style.opacity = 0;document.getElementById('_fb_usieyiccwpusnzjovqwp_ind_13').style.opacity = 0;\" style=\"fill:rgb(0,0,0,0)\" /><rect x=\"91.2762249578082%\" y=\"40\" height=\"20\" width=\"0.39042199882030104%\"      onmouseover=\"document.getElementById('_tp_usieyiccwpusnzjovqwp_ind_1').style.textDecoration = 'underline';document.getElementById('_fs_usieyiccwpusnzjovqwp_ind_1').style.opacity = 1;document.getElementById('_fb_usieyiccwpusnzjovqwp_ind_1').style.opacity = 1;\"      onmouseout=\"document.getElementById('_tp_usieyiccwpusnzjovqwp_ind_1').style.textDecoration = 'none';document.getElementById('_fs_usieyiccwpusnzjovqwp_ind_1').style.opacity = 0;document.getElementById('_fb_usieyiccwpusnzjovqwp_ind_1').style.opacity = 0;\" style=\"fill:rgb(0,0,0,0)\" /></svg><div align='center'><div style=\"color: rgb(120,120,120); font-size: 12px; margin-top: -15px;\">inputs</div><div style='display: inline; text-align: center;'\n",
       "    ><div style='display: none; color: #999; padding-top: 0px; font-size: 12px;'>0.0</div\n",
       "        ><div id='_tp_usieyiccwpusnzjovqwp_ind_0'\n",
       "            style='display: inline; background: rgba(230.2941176470614, 26.505882352939775, 102.59215686274348, 0.0); border-radius: 3px; padding: 0px'\n",
       "            onclick=\"\n",
       "            if (this.previousSibling.style.display == 'none') {\n",
       "                this.previousSibling.style.display = 'block';\n",
       "                this.parentNode.style.display = 'inline-block';\n",
       "            } else {\n",
       "                this.previousSibling.style.display = 'none';\n",
       "                this.parentNode.style.display = 'inline';\n",
       "            }\"\n",
       "            onmouseover=\"document.getElementById('_fb_usieyiccwpusnzjovqwp_ind_0').style.opacity = 1; document.getElementById('_fs_usieyiccwpusnzjovqwp_ind_0').style.opacity = 1;\"\n",
       "            onmouseout=\"document.getElementById('_fb_usieyiccwpusnzjovqwp_ind_0').style.opacity = 0; document.getElementById('_fs_usieyiccwpusnzjovqwp_ind_0').style.opacity = 0;\"\n",
       "        >Let’</div></div><div style='display: inline; text-align: center;'\n",
       "    ><div style='display: none; color: #999; padding-top: 0px; font-size: 12px;'>-0.0</div\n",
       "        ><div id='_tp_usieyiccwpusnzjovqwp_ind_1'\n",
       "            style='display: inline; background: rgba(30.0, 136.0, 229.0, 0.022539116656763607); border-radius: 3px; padding: 0px'\n",
       "            onclick=\"\n",
       "            if (this.previousSibling.style.display == 'none') {\n",
       "                this.previousSibling.style.display = 'block';\n",
       "                this.parentNode.style.display = 'inline-block';\n",
       "            } else {\n",
       "                this.previousSibling.style.display = 'none';\n",
       "                this.parentNode.style.display = 'inline';\n",
       "            }\"\n",
       "            onmouseover=\"document.getElementById('_fb_usieyiccwpusnzjovqwp_ind_1').style.opacity = 1; document.getElementById('_fs_usieyiccwpusnzjovqwp_ind_1').style.opacity = 1;\"\n",
       "            onmouseout=\"document.getElementById('_fb_usieyiccwpusnzjovqwp_ind_1').style.opacity = 0; document.getElementById('_fs_usieyiccwpusnzjovqwp_ind_1').style.opacity = 0;\"\n",
       "        >s </div></div><div style='display: inline; text-align: center;'\n",
       "    ><div style='display: none; color: #999; padding-top: 0px; font-size: 12px;'>0.002</div\n",
       "        ><div id='_tp_usieyiccwpusnzjovqwp_ind_2'\n",
       "            style='display: inline; background: rgba(255.0, 13.0, 87.0, 0.3299663299663301); border-radius: 3px; padding: 0px'\n",
       "            onclick=\"\n",
       "            if (this.previousSibling.style.display == 'none') {\n",
       "                this.previousSibling.style.display = 'block';\n",
       "                this.parentNode.style.display = 'inline-block';\n",
       "            } else {\n",
       "                this.previousSibling.style.display = 'none';\n",
       "                this.parentNode.style.display = 'inline';\n",
       "            }\"\n",
       "            onmouseover=\"document.getElementById('_fb_usieyiccwpusnzjovqwp_ind_2').style.opacity = 1; document.getElementById('_fs_usieyiccwpusnzjovqwp_ind_2').style.opacity = 1;\"\n",
       "            onmouseout=\"document.getElementById('_fb_usieyiccwpusnzjovqwp_ind_2').style.opacity = 0; document.getElementById('_fs_usieyiccwpusnzjovqwp_ind_2').style.opacity = 0;\"\n",
       "        >See </div></div><div style='display: inline; text-align: center;'\n",
       "    ><div style='display: none; color: #999; padding-top: 0px; font-size: 12px;'>0.0</div\n",
       "        ><div id='_tp_usieyiccwpusnzjovqwp_ind_3'\n",
       "            style='display: inline; background: rgba(230.2941176470614, 26.505882352939775, 102.59215686274348, 0.0); border-radius: 3px; padding: 0px'\n",
       "            onclick=\"\n",
       "            if (this.previousSibling.style.display == 'none') {\n",
       "                this.previousSibling.style.display = 'block';\n",
       "                this.parentNode.style.display = 'inline-block';\n",
       "            } else {\n",
       "                this.previousSibling.style.display = 'none';\n",
       "                this.parentNode.style.display = 'inline';\n",
       "            }\"\n",
       "            onmouseover=\"document.getElementById('_fb_usieyiccwpusnzjovqwp_ind_3').style.opacity = 1; document.getElementById('_fs_usieyiccwpusnzjovqwp_ind_3').style.opacity = 1;\"\n",
       "            onmouseout=\"document.getElementById('_fb_usieyiccwpusnzjovqwp_ind_3').style.opacity = 0; document.getElementById('_fs_usieyiccwpusnzjovqwp_ind_3').style.opacity = 0;\"\n",
       "        >…</div></div><div style='display: inline; text-align: center;'\n",
       "    ><div style='display: none; color: #999; padding-top: 0px; font-size: 12px;'>0.001</div\n",
       "        ><div id='_tp_usieyiccwpusnzjovqwp_ind_4'\n",
       "            style='display: inline; background: rgba(255.0, 13.0, 87.0, 0.06983561101208159); border-radius: 3px; padding: 0px'\n",
       "            onclick=\"\n",
       "            if (this.previousSibling.style.display == 'none') {\n",
       "                this.previousSibling.style.display = 'block';\n",
       "                this.parentNode.style.display = 'inline-block';\n",
       "            } else {\n",
       "                this.previousSibling.style.display = 'none';\n",
       "                this.parentNode.style.display = 'inline';\n",
       "            }\"\n",
       "            onmouseover=\"document.getElementById('_fb_usieyiccwpusnzjovqwp_ind_4').style.opacity = 1; document.getElementById('_fs_usieyiccwpusnzjovqwp_ind_4').style.opacity = 1;\"\n",
       "            onmouseout=\"document.getElementById('_fb_usieyiccwpusnzjovqwp_ind_4').style.opacity = 0; document.getElementById('_fs_usieyiccwpusnzjovqwp_ind_4').style.opacity = 0;\"\n",
       "        > </div></div><div style='display: inline; text-align: center;'\n",
       "    ><div style='display: none; color: #999; padding-top: 0px; font-size: 12px;'>0.001</div\n",
       "        ><div id='_tp_usieyiccwpusnzjovqwp_ind_5'\n",
       "            style='display: inline; background: rgba(255.0, 13.0, 87.0, 0.06983561101208159); border-radius: 3px; padding: 0px'\n",
       "            onclick=\"\n",
       "            if (this.previousSibling.style.display == 'none') {\n",
       "                this.previousSibling.style.display = 'block';\n",
       "                this.parentNode.style.display = 'inline-block';\n",
       "            } else {\n",
       "                this.previousSibling.style.display = 'none';\n",
       "                this.parentNode.style.display = 'inline';\n",
       "            }\"\n",
       "            onmouseover=\"document.getElementById('_fb_usieyiccwpusnzjovqwp_ind_5').style.opacity = 1; document.getElementById('_fs_usieyiccwpusnzjovqwp_ind_5').style.opacity = 1;\"\n",
       "            onmouseout=\"document.getElementById('_fb_usieyiccwpusnzjovqwp_ind_5').style.opacity = 0; document.getElementById('_fs_usieyiccwpusnzjovqwp_ind_5').style.opacity = 0;\"\n",
       "        >Hire </div></div><div style='display: inline; text-align: center;'\n",
       "    ><div style='display: none; color: #999; padding-top: 0px; font-size: 12px;'>-0.002</div\n",
       "        ><div id='_tp_usieyiccwpusnzjovqwp_ind_6'\n",
       "            style='display: inline; background: rgba(30.0, 136.0, 229.0, 0.23537334125569417); border-radius: 3px; padding: 0px'\n",
       "            onclick=\"\n",
       "            if (this.previousSibling.style.display == 'none') {\n",
       "                this.previousSibling.style.display = 'block';\n",
       "                this.parentNode.style.display = 'inline-block';\n",
       "            } else {\n",
       "                this.previousSibling.style.display = 'none';\n",
       "                this.parentNode.style.display = 'inline';\n",
       "            }\"\n",
       "            onmouseover=\"document.getElementById('_fb_usieyiccwpusnzjovqwp_ind_6').style.opacity = 1; document.getElementById('_fs_usieyiccwpusnzjovqwp_ind_6').style.opacity = 1;\"\n",
       "            onmouseout=\"document.getElementById('_fb_usieyiccwpusnzjovqwp_ind_6').style.opacity = 0; document.getElementById('_fs_usieyiccwpusnzjovqwp_ind_6').style.opacity = 0;\"\n",
       "        >Cops,</div></div><div style='display: inline; text-align: center;'\n",
       "    ><div style='display: none; color: #999; padding-top: 0px; font-size: 12px;'>0.001</div\n",
       "        ><div id='_tp_usieyiccwpusnzjovqwp_ind_7'\n",
       "            style='display: inline; background: rgba(255.0, 13.0, 87.0, 0.06983561101208159); border-radius: 3px; padding: 0px'\n",
       "            onclick=\"\n",
       "            if (this.previousSibling.style.display == 'none') {\n",
       "                this.previousSibling.style.display = 'block';\n",
       "                this.parentNode.style.display = 'inline-block';\n",
       "            } else {\n",
       "                this.previousSibling.style.display = 'none';\n",
       "                this.parentNode.style.display = 'inline';\n",
       "            }\"\n",
       "            onmouseover=\"document.getElementById('_fb_usieyiccwpusnzjovqwp_ind_7').style.opacity = 1; document.getElementById('_fs_usieyiccwpusnzjovqwp_ind_7').style.opacity = 1;\"\n",
       "            onmouseout=\"document.getElementById('_fb_usieyiccwpusnzjovqwp_ind_7').style.opacity = 0; document.getElementById('_fs_usieyiccwpusnzjovqwp_ind_7').style.opacity = 0;\"\n",
       "        > </div></div><div style='display: inline; text-align: center;'\n",
       "    ><div style='display: none; color: #999; padding-top: 0px; font-size: 12px;'>0.001</div\n",
       "        ><div id='_tp_usieyiccwpusnzjovqwp_ind_8'\n",
       "            style='display: inline; background: rgba(255.0, 13.0, 87.0, 0.07771836007130124); border-radius: 3px; padding: 0px'\n",
       "            onclick=\"\n",
       "            if (this.previousSibling.style.display == 'none') {\n",
       "                this.previousSibling.style.display = 'block';\n",
       "                this.parentNode.style.display = 'inline-block';\n",
       "            } else {\n",
       "                this.previousSibling.style.display = 'none';\n",
       "                this.parentNode.style.display = 'inline';\n",
       "            }\"\n",
       "            onmouseover=\"document.getElementById('_fb_usieyiccwpusnzjovqwp_ind_8').style.opacity = 1; document.getElementById('_fs_usieyiccwpusnzjovqwp_ind_8').style.opacity = 1;\"\n",
       "            onmouseout=\"document.getElementById('_fb_usieyiccwpusnzjovqwp_ind_8').style.opacity = 0; document.getElementById('_fs_usieyiccwpusnzjovqwp_ind_8').style.opacity = 0;\"\n",
       "        >Pay </div></div><div style='display: inline; text-align: center;'\n",
       "    ><div style='display: none; color: #999; padding-top: 0px; font-size: 12px;'>0.001</div\n",
       "        ><div id='_tp_usieyiccwpusnzjovqwp_ind_9'\n",
       "            style='display: inline; background: rgba(255.0, 13.0, 87.0, 0.10924935630817992); border-radius: 3px; padding: 0px'\n",
       "            onclick=\"\n",
       "            if (this.previousSibling.style.display == 'none') {\n",
       "                this.previousSibling.style.display = 'block';\n",
       "                this.parentNode.style.display = 'inline-block';\n",
       "            } else {\n",
       "                this.previousSibling.style.display = 'none';\n",
       "                this.parentNode.style.display = 'inline';\n",
       "            }\"\n",
       "            onmouseover=\"document.getElementById('_fb_usieyiccwpusnzjovqwp_ind_9').style.opacity = 1; document.getElementById('_fs_usieyiccwpusnzjovqwp_ind_9').style.opacity = 1;\"\n",
       "            onmouseout=\"document.getElementById('_fb_usieyiccwpusnzjovqwp_ind_9').style.opacity = 0; document.getElementById('_fs_usieyiccwpusnzjovqwp_ind_9').style.opacity = 0;\"\n",
       "        >Teachers,</div></div><div style='display: inline; text-align: center;'\n",
       "    ><div style='display: none; color: #999; padding-top: 0px; font-size: 12px;'>0.001</div\n",
       "        ><div id='_tp_usieyiccwpusnzjovqwp_ind_10'\n",
       "            style='display: inline; background: rgba(255.0, 13.0, 87.0, 0.06983561101208159); border-radius: 3px; padding: 0px'\n",
       "            onclick=\"\n",
       "            if (this.previousSibling.style.display == 'none') {\n",
       "                this.previousSibling.style.display = 'block';\n",
       "                this.parentNode.style.display = 'inline-block';\n",
       "            } else {\n",
       "                this.previousSibling.style.display = 'none';\n",
       "                this.parentNode.style.display = 'inline';\n",
       "            }\"\n",
       "            onmouseover=\"document.getElementById('_fb_usieyiccwpusnzjovqwp_ind_10').style.opacity = 1; document.getElementById('_fs_usieyiccwpusnzjovqwp_ind_10').style.opacity = 1;\"\n",
       "            onmouseout=\"document.getElementById('_fb_usieyiccwpusnzjovqwp_ind_10').style.opacity = 0; document.getElementById('_fs_usieyiccwpusnzjovqwp_ind_10').style.opacity = 0;\"\n",
       "        > </div></div><div style='display: inline; text-align: center;'\n",
       "    ><div style='display: none; color: #999; padding-top: 0px; font-size: 12px;'>0.001</div\n",
       "        ><div id='_tp_usieyiccwpusnzjovqwp_ind_11'\n",
       "            style='display: inline; background: rgba(255.0, 13.0, 87.0, 0.09348385818974037); border-radius: 3px; padding: 0px'\n",
       "            onclick=\"\n",
       "            if (this.previousSibling.style.display == 'none') {\n",
       "                this.previousSibling.style.display = 'block';\n",
       "                this.parentNode.style.display = 'inline-block';\n",
       "            } else {\n",
       "                this.previousSibling.style.display = 'none';\n",
       "                this.parentNode.style.display = 'inline';\n",
       "            }\"\n",
       "            onmouseover=\"document.getElementById('_fb_usieyiccwpusnzjovqwp_ind_11').style.opacity = 1; document.getElementById('_fs_usieyiccwpusnzjovqwp_ind_11').style.opacity = 1;\"\n",
       "            onmouseout=\"document.getElementById('_fb_usieyiccwpusnzjovqwp_ind_11').style.opacity = 0; document.getElementById('_fs_usieyiccwpusnzjovqwp_ind_11').style.opacity = 0;\"\n",
       "        >Buy </div></div><div style='display: inline; text-align: center;'\n",
       "    ><div style='display: none; color: #999; padding-top: 0px; font-size: 12px;'>0.002</div\n",
       "        ><div id='_tp_usieyiccwpusnzjovqwp_ind_12'\n",
       "            style='display: inline; background: rgba(255.0, 13.0, 87.0, 0.29843533372945136); border-radius: 3px; padding: 0px'\n",
       "            onclick=\"\n",
       "            if (this.previousSibling.style.display == 'none') {\n",
       "                this.previousSibling.style.display = 'block';\n",
       "                this.parentNode.style.display = 'inline-block';\n",
       "            } else {\n",
       "                this.previousSibling.style.display = 'none';\n",
       "                this.parentNode.style.display = 'inline';\n",
       "            }\"\n",
       "            onmouseover=\"document.getElementById('_fb_usieyiccwpusnzjovqwp_ind_12').style.opacity = 1; document.getElementById('_fs_usieyiccwpusnzjovqwp_ind_12').style.opacity = 1;\"\n",
       "            onmouseout=\"document.getElementById('_fb_usieyiccwpusnzjovqwp_ind_12').style.opacity = 0; document.getElementById('_fs_usieyiccwpusnzjovqwp_ind_12').style.opacity = 0;\"\n",
       "        >Books </div></div><div style='display: inline; text-align: center;'\n",
       "    ><div style='display: none; color: #999; padding-top: 0px; font-size: 12px;'>-0.001</div\n",
       "        ><div id='_tp_usieyiccwpusnzjovqwp_ind_13'\n",
       "            style='display: inline; background: rgba(30.0, 136.0, 229.0, 0.08560110913052085); border-radius: 3px; padding: 0px'\n",
       "            onclick=\"\n",
       "            if (this.previousSibling.style.display == 'none') {\n",
       "                this.previousSibling.style.display = 'block';\n",
       "                this.parentNode.style.display = 'inline-block';\n",
       "            } else {\n",
       "                this.previousSibling.style.display = 'none';\n",
       "                this.parentNode.style.display = 'inline';\n",
       "            }\"\n",
       "            onmouseover=\"document.getElementById('_fb_usieyiccwpusnzjovqwp_ind_13').style.opacity = 1; document.getElementById('_fs_usieyiccwpusnzjovqwp_ind_13').style.opacity = 1;\"\n",
       "            onmouseout=\"document.getElementById('_fb_usieyiccwpusnzjovqwp_ind_13').style.opacity = 0; document.getElementById('_fs_usieyiccwpusnzjovqwp_ind_13').style.opacity = 0;\"\n",
       "        >For </div></div><div style='display: inline; text-align: center;'\n",
       "    ><div style='display: none; color: #999; padding-top: 0px; font-size: 12px;'>0.002</div\n",
       "        ><div id='_tp_usieyiccwpusnzjovqwp_ind_14'\n",
       "            style='display: inline; background: rgba(255.0, 13.0, 87.0, 0.2747870865517925); border-radius: 3px; padding: 0px'\n",
       "            onclick=\"\n",
       "            if (this.previousSibling.style.display == 'none') {\n",
       "                this.previousSibling.style.display = 'block';\n",
       "                this.parentNode.style.display = 'inline-block';\n",
       "            } else {\n",
       "                this.previousSibling.style.display = 'none';\n",
       "                this.parentNode.style.display = 'inline';\n",
       "            }\"\n",
       "            onmouseover=\"document.getElementById('_fb_usieyiccwpusnzjovqwp_ind_14').style.opacity = 1; document.getElementById('_fs_usieyiccwpusnzjovqwp_ind_14').style.opacity = 1;\"\n",
       "            onmouseout=\"document.getElementById('_fb_usieyiccwpusnzjovqwp_ind_14').style.opacity = 0; document.getElementById('_fs_usieyiccwpusnzjovqwp_ind_14').style.opacity = 0;\"\n",
       "        >Schools.</div></div><div style='display: inline; text-align: center;'\n",
       "    ><div style='display: none; color: #999; padding-top: 0px; font-size: 12px;'>0.001</div\n",
       "        ><div id='_tp_usieyiccwpusnzjovqwp_ind_15'\n",
       "            style='display: inline; background: rgba(255.0, 13.0, 87.0, 0.1171321053673995); border-radius: 3px; padding: 0px'\n",
       "            onclick=\"\n",
       "            if (this.previousSibling.style.display == 'none') {\n",
       "                this.previousSibling.style.display = 'block';\n",
       "                this.parentNode.style.display = 'inline-block';\n",
       "            } else {\n",
       "                this.previousSibling.style.display = 'none';\n",
       "                this.parentNode.style.display = 'inline';\n",
       "            }\"\n",
       "            onmouseover=\"document.getElementById('_fb_usieyiccwpusnzjovqwp_ind_15').style.opacity = 1; document.getElementById('_fs_usieyiccwpusnzjovqwp_ind_15').style.opacity = 1;\"\n",
       "            onmouseout=\"document.getElementById('_fb_usieyiccwpusnzjovqwp_ind_15').style.opacity = 0; document.getElementById('_fs_usieyiccwpusnzjovqwp_ind_15').style.opacity = 0;\"\n",
       "        > </div></div><div style='display: inline; text-align: center;'\n",
       "    ><div style='display: none; color: #999; padding-top: 0px; font-size: 12px;'>0.0</div\n",
       "        ><div id='_tp_usieyiccwpusnzjovqwp_ind_16'\n",
       "            style='display: inline; background: rgba(255.0, 13.0, 87.0, 0.05407011289364243); border-radius: 3px; padding: 0px'\n",
       "            onclick=\"\n",
       "            if (this.previousSibling.style.display == 'none') {\n",
       "                this.previousSibling.style.display = 'block';\n",
       "                this.parentNode.style.display = 'inline-block';\n",
       "            } else {\n",
       "                this.previousSibling.style.display = 'none';\n",
       "                this.parentNode.style.display = 'inline';\n",
       "            }\"\n",
       "            onmouseover=\"document.getElementById('_fb_usieyiccwpusnzjovqwp_ind_16').style.opacity = 1; document.getElementById('_fs_usieyiccwpusnzjovqwp_ind_16').style.opacity = 1;\"\n",
       "            onmouseout=\"document.getElementById('_fb_usieyiccwpusnzjovqwp_ind_16').style.opacity = 0; document.getElementById('_fs_usieyiccwpusnzjovqwp_ind_16').style.opacity = 0;\"\n",
       "        >Or </div></div><div style='display: inline; text-align: center;'\n",
       "    ><div style='display: none; color: #999; padding-top: 0px; font-size: 12px;'>0.007</div\n",
       "        ><div id='_tp_usieyiccwpusnzjovqwp_ind_17'\n",
       "            style='display: inline; background: rgba(255.0, 13.0, 87.0, 1.0); border-radius: 3px; padding: 0px'\n",
       "            onclick=\"\n",
       "            if (this.previousSibling.style.display == 'none') {\n",
       "                this.previousSibling.style.display = 'block';\n",
       "                this.parentNode.style.display = 'inline-block';\n",
       "            } else {\n",
       "                this.previousSibling.style.display = 'none';\n",
       "                this.parentNode.style.display = 'inline';\n",
       "            }\"\n",
       "            onmouseover=\"document.getElementById('_fb_usieyiccwpusnzjovqwp_ind_17').style.opacity = 1; document.getElementById('_fs_usieyiccwpusnzjovqwp_ind_17').style.opacity = 1;\"\n",
       "            onmouseout=\"document.getElementById('_fb_usieyiccwpusnzjovqwp_ind_17').style.opacity = 0; document.getElementById('_fs_usieyiccwpusnzjovqwp_ind_17').style.opacity = 0;\"\n",
       "        >Kill </div></div><div style='display: inline; text-align: center;'\n",
       "    ><div style='display: none; color: #999; padding-top: 0px; font-size: 12px;'>-0.003</div\n",
       "        ><div id='_tp_usieyiccwpusnzjovqwp_ind_18'\n",
       "            style='display: inline; background: rgba(30.0, 136.0, 229.0, 0.41667656961774613); border-radius: 3px; padding: 0px'\n",
       "            onclick=\"\n",
       "            if (this.previousSibling.style.display == 'none') {\n",
       "                this.previousSibling.style.display = 'block';\n",
       "                this.parentNode.style.display = 'inline-block';\n",
       "            } else {\n",
       "                this.previousSibling.style.display = 'none';\n",
       "                this.parentNode.style.display = 'inline';\n",
       "            }\"\n",
       "            onmouseover=\"document.getElementById('_fb_usieyiccwpusnzjovqwp_ind_18').style.opacity = 1; document.getElementById('_fs_usieyiccwpusnzjovqwp_ind_18').style.opacity = 1;\"\n",
       "            onmouseout=\"document.getElementById('_fb_usieyiccwpusnzjovqwp_ind_18').style.opacity = 0; document.getElementById('_fs_usieyiccwpusnzjovqwp_ind_18').style.opacity = 0;\"\n",
       "        >People.</div></div><div style='display: inline; text-align: center;'\n",
       "    ><div style='display: none; color: #999; padding-top: 0px; font-size: 12px;'>0.001</div\n",
       "        ><div id='_tp_usieyiccwpusnzjovqwp_ind_19'\n",
       "            style='display: inline; background: rgba(255.0, 13.0, 87.0, 0.17231134878193693); border-radius: 3px; padding: 0px'\n",
       "            onclick=\"\n",
       "            if (this.previousSibling.style.display == 'none') {\n",
       "                this.previousSibling.style.display = 'block';\n",
       "                this.parentNode.style.display = 'inline-block';\n",
       "            } else {\n",
       "                this.previousSibling.style.display = 'none';\n",
       "                this.parentNode.style.display = 'inline';\n",
       "            }\"\n",
       "            onmouseover=\"document.getElementById('_fb_usieyiccwpusnzjovqwp_ind_19').style.opacity = 1; document.getElementById('_fs_usieyiccwpusnzjovqwp_ind_19').style.opacity = 1;\"\n",
       "            onmouseout=\"document.getElementById('_fb_usieyiccwpusnzjovqwp_ind_19').style.opacity = 0; document.getElementById('_fs_usieyiccwpusnzjovqwp_ind_19').style.opacity = 0;\"\n",
       "        > </div></div><div style='display: inline; text-align: center;'\n",
       "    ><div style='display: none; color: #999; padding-top: 0px; font-size: 12px;'>0.005</div\n",
       "        ><div id='_tp_usieyiccwpusnzjovqwp_ind_20'\n",
       "            style='display: inline; background: rgba(255.0, 13.0, 87.0, 0.6610417904535549); border-radius: 3px; padding: 0px'\n",
       "            onclick=\"\n",
       "            if (this.previousSibling.style.display == 'none') {\n",
       "                this.previousSibling.style.display = 'block';\n",
       "                this.parentNode.style.display = 'inline-block';\n",
       "            } else {\n",
       "                this.previousSibling.style.display = 'none';\n",
       "                this.parentNode.style.display = 'inline';\n",
       "            }\"\n",
       "            onmouseover=\"document.getElementById('_fb_usieyiccwpusnzjovqwp_ind_20').style.opacity = 1; document.getElementById('_fs_usieyiccwpusnzjovqwp_ind_20').style.opacity = 1;\"\n",
       "            onmouseout=\"document.getElementById('_fb_usieyiccwpusnzjovqwp_ind_20').style.opacity = 0; document.getElementById('_fs_usieyiccwpusnzjovqwp_ind_20').style.opacity = 0;\"\n",
       "        >Hard </div></div><div style='display: inline; text-align: center;'\n",
       "    ><div style='display: none; color: #999; padding-top: 0px; font-size: 12px;'>0.004</div\n",
       "        ><div id='_tp_usieyiccwpusnzjovqwp_ind_21'\n",
       "            style='display: inline; background: rgba(255.0, 13.0, 87.0, 0.5822142998613588); border-radius: 3px; padding: 0px'\n",
       "            onclick=\"\n",
       "            if (this.previousSibling.style.display == 'none') {\n",
       "                this.previousSibling.style.display = 'block';\n",
       "                this.parentNode.style.display = 'inline-block';\n",
       "            } else {\n",
       "                this.previousSibling.style.display = 'none';\n",
       "                this.parentNode.style.display = 'inline';\n",
       "            }\"\n",
       "            onmouseover=\"document.getElementById('_fb_usieyiccwpusnzjovqwp_ind_21').style.opacity = 1; document.getElementById('_fs_usieyiccwpusnzjovqwp_ind_21').style.opacity = 1;\"\n",
       "            onmouseout=\"document.getElementById('_fb_usieyiccwpusnzjovqwp_ind_21').style.opacity = 0; document.getElementById('_fs_usieyiccwpusnzjovqwp_ind_21').style.opacity = 0;\"\n",
       "        >Choice,</div></div><div style='display: inline; text-align: center;'\n",
       "    ><div style='display: none; color: #999; padding-top: 0px; font-size: 12px;'>0.001</div\n",
       "        ><div id='_tp_usieyiccwpusnzjovqwp_ind_22'\n",
       "            style='display: inline; background: rgba(255.0, 13.0, 87.0, 0.1959595959595959); border-radius: 3px; padding: 0px'\n",
       "            onclick=\"\n",
       "            if (this.previousSibling.style.display == 'none') {\n",
       "                this.previousSibling.style.display = 'block';\n",
       "                this.parentNode.style.display = 'inline-block';\n",
       "            } else {\n",
       "                this.previousSibling.style.display = 'none';\n",
       "                this.parentNode.style.display = 'inline';\n",
       "            }\"\n",
       "            onmouseover=\"document.getElementById('_fb_usieyiccwpusnzjovqwp_ind_22').style.opacity = 1; document.getElementById('_fs_usieyiccwpusnzjovqwp_ind_22').style.opacity = 1;\"\n",
       "            onmouseout=\"document.getElementById('_fb_usieyiccwpusnzjovqwp_ind_22').style.opacity = 0; document.getElementById('_fs_usieyiccwpusnzjovqwp_ind_22').style.opacity = 0;\"\n",
       "        > </div></div><div style='display: inline; text-align: center;'\n",
       "    ><div style='display: none; color: #999; padding-top: 0px; font-size: 12px;'>0.002</div\n",
       "        ><div id='_tp_usieyiccwpusnzjovqwp_ind_23'\n",
       "            style='display: inline; background: rgba(255.0, 13.0, 87.0, 0.3142008318478907); border-radius: 3px; padding: 0px'\n",
       "            onclick=\"\n",
       "            if (this.previousSibling.style.display == 'none') {\n",
       "                this.previousSibling.style.display = 'block';\n",
       "                this.parentNode.style.display = 'inline-block';\n",
       "            } else {\n",
       "                this.previousSibling.style.display = 'none';\n",
       "                this.parentNode.style.display = 'inline';\n",
       "            }\"\n",
       "            onmouseover=\"document.getElementById('_fb_usieyiccwpusnzjovqwp_ind_23').style.opacity = 1; document.getElementById('_fs_usieyiccwpusnzjovqwp_ind_23').style.opacity = 1;\"\n",
       "            onmouseout=\"document.getElementById('_fb_usieyiccwpusnzjovqwp_ind_23').style.opacity = 0; document.getElementById('_fs_usieyiccwpusnzjovqwp_ind_23').style.opacity = 0;\"\n",
       "        >Right</div></div></div>"
      ],
      "text/plain": [
       "<IPython.core.display.HTML object>"
      ]
     },
     "metadata": {},
     "output_type": "display_data"
    }
   ],
   "source": [
    "shap.plots.text(shap_values)"
   ]
  }
 ],
 "metadata": {
  "kernelspec": {
   "display_name": "Python 3 (ipykernel)",
   "language": "python",
   "name": "python3"
  },
  "language_info": {
   "codemirror_mode": {
    "name": "ipython",
    "version": 3
   },
   "file_extension": ".py",
   "mimetype": "text/x-python",
   "name": "python",
   "nbconvert_exporter": "python",
   "pygments_lexer": "ipython3",
   "version": "3.10.13"
  }
 },
 "nbformat": 4,
 "nbformat_minor": 5
}
