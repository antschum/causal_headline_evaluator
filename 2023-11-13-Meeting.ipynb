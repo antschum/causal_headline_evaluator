{
 "cells": [
  {
   "cell_type": "markdown",
   "metadata": {},
   "source": [
    "13.11.2023 Meeting\n",
    "\n",
    "Overview:\n",
    "\n",
    "1. \n",
    "   - encode headlines with S-BERT\n",
    "   - predict number of clicks based on the S-BERT encodings using ridge regression\n",
    "2. \n",
    "   - take the encodings for headlines A and B in a pair, compute vec(diff) = vec(A) - vec(B) and classify the outcome Y = A has more clicks based on vec(diff), using logistic regression\n",
    "3. \n",
    "   - compute the diff of Y = A’s clicks - B’s clicks. predict that using vec(diff) using ridge regression.  "
   ]
  },
  {
   "cell_type": "code",
   "execution_count": 1,
   "metadata": {},
   "outputs": [
    {
     "name": "stdout",
     "output_type": "stream",
     "text": [
      "Intel MKL WARNING: Support of Intel(R) Streaming SIMD Extensions 4.2 (Intel(R) SSE4.2) enabled only processors has been deprecated. Intel oneAPI Math Kernel Library 2025.0 will require Intel(R) Advanced Vector Extensions (Intel(R) AVX) instructions.\n",
      "Intel MKL WARNING: Support of Intel(R) Streaming SIMD Extensions 4.2 (Intel(R) SSE4.2) enabled only processors has been deprecated. Intel oneAPI Math Kernel Library 2025.0 will require Intel(R) Advanced Vector Extensions (Intel(R) AVX) instructions.\n"
     ]
    }
   ],
   "source": [
    "\n",
    "from sentence_transformers import SentenceTransformer\n",
    "import pandas as pd\n",
    "from torch.utils.data import TensorDataset, random_split\n",
    "from torch.utils.data import DataLoader, RandomSampler, SequentialSampler\n",
    "from sklearn.model_selection import train_test_split\n",
    "from sklearn.metrics import mean_squared_error, r2_score, mean_squared_error, mean_absolute_error\n",
    "import numpy as np\n",
    "from sklearn.linear_model import RidgeCV, LogisticRegression, LinearRegression\n",
    "from torch.utils.data import DataLoader, TensorDataset\n",
    "import csv\n",
    "import torch \n",
    "import pickle\n",
    "import random\n",
    "from sklearn.metrics import accuracy_score"
   ]
  },
  {
   "cell_type": "code",
   "execution_count": 2,
   "metadata": {},
   "outputs": [
    {
     "name": "stdout",
     "output_type": "stream",
     "text": [
      "No GPU available, using the CPU instead.\n"
     ]
    }
   ],
   "source": [
    "#cpu/gpu\n",
    "if torch.cuda.is_available():    \n",
    "\n",
    "    # Tell PyTorch to use the GPU.    \n",
    "    device = torch.device(\"cuda\")\n",
    "\n",
    "    print('There are %d GPU(s) available.' % torch.cuda.device_count())\n",
    "\n",
    "    print('We will use the GPU:', torch.cuda.get_device_name(0))\n",
    "\n",
    "# If not...\n",
    "else:\n",
    "    print('No GPU available, using the CPU instead.')\n",
    "    device = torch.device(\"cpu\")\n",
    "\n",
    "# Set random seed\n",
    "seed = 42\n",
    "torch.manual_seed(seed)\n",
    "np.random.seed(seed)\n",
    "random.seed(seed)"
   ]
  },
  {
   "cell_type": "code",
   "execution_count": 3,
   "metadata": {},
   "outputs": [],
   "source": [
    "#Define model - pretrained\n",
    "model = SentenceTransformer('paraphrase-MiniLM-L6-v2')"
   ]
  },
  {
   "cell_type": "code",
   "execution_count": 4,
   "metadata": {},
   "outputs": [],
   "source": [
    "#Load data\n",
    "df = pd.read_csv(\"../osfstorage-archive/upworthy-archive-datasets/upworthy-archive-confirmatory-packages-03.12.2020.csv\", low_memory=False)\n",
    "#Delete some unnecessary columns\n",
    "df.columns\n",
    "delete_cols = [\"created_at\",\"updated_at\",\"share_text\",\"square\"]\n",
    "df = df.drop(columns=delete_cols)\n",
    "#Create a new column for clickrate\n",
    "df[\"clickrate\"] = round((df[\"clicks\"]/ df[\"impressions\"]),ndigits=3)\n",
    "\n",
    "clicks =torch.tensor(df.clicks.values)"
   ]
  },
  {
   "cell_type": "code",
   "execution_count": 5,
   "metadata": {},
   "outputs": [],
   "source": [
    "#Load embeddings\n",
    "with open('full_embeddings.pkl', \"rb\") as fIn:\n",
    "    stored_data = pickle.load(fIn)\n",
    "    stored_sentences = stored_data['headlines']\n",
    "    stored_embeddings = stored_data['embeddings']"
   ]
  },
  {
   "cell_type": "markdown",
   "metadata": {},
   "source": [
    "# 1. Predicting clicks from headline embeddings with ridge regression (incl. comparison with linear)"
   ]
  },
  {
   "cell_type": "code",
   "execution_count": 6,
   "metadata": {},
   "outputs": [],
   "source": [
    "# Model\n",
    "X_train, X_test, y_train, y_test = train_test_split(stored_embeddings, clicks, test_size=0.2)"
   ]
  },
  {
   "cell_type": "code",
   "execution_count": 7,
   "metadata": {},
   "outputs": [
    {
     "name": "stdout",
     "output_type": "stream",
     "text": [
      "Ridge Regression MSE for click difference: 40.996492449829226\n",
      "Ridge Regression R2 for click difference: 0.1563075208628737\n"
     ]
    }
   ],
   "source": [
    "# Ridge Model\n",
    "ridge_model =RidgeCV(alphas=[0.001,0.002,0.005,0.01,0.05,0.07,0.2,0.4,0.6, 1, 10],store_cv_values=True)\n",
    "ridge_model.fit(X_train, y_train)\n",
    "ridge_model.score(X_train,y_train) #0.1629\n",
    "predictions = ridge_model.predict(X_test) #alpha = 10\n",
    "rmse = mean_squared_error(y_test, predictions, squared=False)\n",
    "print(\"Ridge Regression MSE for click difference:\", rmse)\n",
    "print(\"Ridge Regression R2 for click difference:\", r2_score(y_true=y_test, y_pred=predictions))"
   ]
  },
  {
   "cell_type": "code",
   "execution_count": 8,
   "metadata": {},
   "outputs": [
    {
     "name": "stdout",
     "output_type": "stream",
     "text": [
      "Linear Regression MSE for clicks: 40.99965911616589\n",
      "Linear Regression R2 for clicks: 0.15617717821176114\n"
     ]
    }
   ],
   "source": [
    "# Linear Model\n",
    "linear_model =LinearRegression()\n",
    "linear_model.fit(X_train, y_train)\n",
    "linear_model.score(X_train,y_train) #0.1643\n",
    "predictions = linear_model.predict(X_test)\n",
    "rmse = mean_squared_error(y_test, predictions, squared=False)\n",
    "print(\"Linear Regression MSE for clicks:\", rmse)\n",
    "print(\"Linear Regression R2 for clicks:\", r2_score(y_true=y_test, y_pred=predictions))"
   ]
  },
  {
   "cell_type": "code",
   "execution_count": 9,
   "metadata": {},
   "outputs": [],
   "source": [
    "#Pair headlines based on clickability_test_id and eyecatcher_id\n",
    "#Import dataset with pairs\n",
    "df_pairs = pd.read_csv(\"headline_pair_indices.csv\")\n",
    "#Compute vector difference\n",
    "embedding_diff = torch.stack(df_pairs.apply(lambda row: stored_embeddings[row['Idx_Headline1']] - stored_embeddings[row['Idx_Headline2']], axis=1).tolist()) \n",
    "#because we have a column where each row is a tensor so we kinda unpack them.\n",
    "#Sort pairs s.t. headline1 is headline with more clicks. \n",
    "df_sorted_pairs = df_pairs.copy()\n",
    "df_sorted_pairs.loc[~df_sorted_pairs[\"headline1_more_clicks\"], ['Idx_Headline1', 'Idx_Headline2']] = df_sorted_pairs.loc[~df_sorted_pairs[\"headline1_more_clicks\"], ['Idx_Headline2', 'Idx_Headline1']].values   "
   ]
  },
  {
   "cell_type": "markdown",
   "metadata": {},
   "source": [
    "# 2 Predicting Headline-Winner based on SBert Embeddings with Logistic Regression"
   ]
  },
  {
   "cell_type": "code",
   "execution_count": 10,
   "metadata": {},
   "outputs": [
    {
     "name": "stdout",
     "output_type": "stream",
     "text": [
      "Accuracy predicting winner: 0.6226262217045627\n"
     ]
    }
   ],
   "source": [
    "headline1_more_clicks = torch.tensor(df_pairs['headline1_more_clicks'])\n",
    "X_train, X_test, y_train, y_test = train_test_split(embedding_diff, headline1_more_clicks, test_size=0.2)\n",
    "logistic = LogisticRegression(max_iter=200)\n",
    "logistic.fit(X_train, y_train)\n",
    "predicted_logistic = logistic.predict(X_test)\n",
    "accuracy_logistic = accuracy_score(predicted_logistic,y_test)\n",
    "print(\"Accuracy predicting winner:\", accuracy_logistic)"
   ]
  },
  {
   "cell_type": "markdown",
   "metadata": {},
   "source": [
    "# 3 Predicting Click difference based on SBert embeddings with Ridge Regression"
   ]
  },
  {
   "cell_type": "code",
   "execution_count": 11,
   "metadata": {},
   "outputs": [],
   "source": [
    "#check shape matching and turning into tensors to work\n",
    "clicks_diff = torch.tensor(abs(df_pairs['click_difference']))\n",
    "#take sorted embeddings \n",
    "sorted_embedding_diff = torch.stack(df_sorted_pairs.apply(lambda row: stored_embeddings[row['Idx_Headline1']] - stored_embeddings[row['Idx_Headline2']], axis=1).tolist()) "
   ]
  },
  {
   "cell_type": "code",
   "execution_count": 12,
   "metadata": {},
   "outputs": [
    {
     "name": "stdout",
     "output_type": "stream",
     "text": [
      "Ridge Regression MSE for clicks difference: 250.273134679967\n",
      "Ridge Regression R2 for click difference: 0.038498093425581414\n"
     ]
    }
   ],
   "source": [
    "#Based on difference vector\n",
    "X_train, X_test, y_train, y_test = train_test_split(sorted_embedding_diff, clicks_diff, test_size=0.2, random_state=seed)\n",
    "ridge_model_diff =RidgeCV(alphas=[0.001,0.002,0.005,0.01,0.05,0.07,0.2,0.4,0.6, 1, 10],store_cv_values=True)\n",
    "ridge_fit_diff = ridge_model_diff.fit(X_train, y_train)\n",
    "ridge_fit_diff.score(X_train,y_train) #0.09528\n",
    "ridge_predictions_diff = ridge_model_diff.predict(X_test)\n",
    "ridge_rmse_diff = mean_squared_error(y_test, ridge_predictions_diff)\n",
    "print(\"Ridge Regression MSE for clicks difference:\", ridge_rmse_diff)\n",
    "print(\"Ridge Regression R2 for click difference:\", r2_score(y_true=y_test, y_pred=ridge_predictions_diff)) "
   ]
  },
  {
   "cell_type": "markdown",
   "metadata": {},
   "source": [
    "# Extra: Prediction based on concatenated full embeddings"
   ]
  },
  {
   "cell_type": "code",
   "execution_count": 14,
   "metadata": {
    "scrolled": true
   },
   "outputs": [],
   "source": [
    "## Here we need to make sure the headline ordering is correct so we use sorted pairs \n",
    "#Compute concatenated embeddings of the pairs\n",
    "vec1 = df_sorted_pairs.apply(lambda row:(stored_embeddings[row['Idx_Headline1']]), axis=1)\n",
    "vec1= torch.stack(vec1.tolist())\n",
    "vec2 = df_sorted_pairs.apply(lambda row:(stored_embeddings[row['Idx_Headline2']]), axis=1)\n",
    "vec2= torch.stack(vec2.tolist())\n",
    "concatenated_vector = torch.cat([vec1, vec2], dim=1)\n",
    "print(concatenated_vector.shape)"
   ]
  },
  {
   "cell_type": "code",
   "execution_count": 15,
   "metadata": {},
   "outputs": [],
   "source": [
    "#Based on concatenated full embeddings\n",
    "X_train, X_test, y_train, y_test = train_test_split(concatenated_vector, clicks_diff, test_size=0.2)"
   ]
  },
  {
   "cell_type": "code",
   "execution_count": 16,
   "metadata": {},
   "outputs": [
    {
     "name": "stdout",
     "output_type": "stream",
     "text": [
      "Ridge Regression MSE for clicks difference: 236.46021599657888\n",
      "Ridge Regression R2 for click difference: 0.07570439579390464\n"
     ]
    }
   ],
   "source": [
    "# Ridge Model\n",
    "ridge_model_diff =RidgeCV(alphas=[0.001,0.002,0.005,0.01,0.05,0.07,0.2,0.4,0.6, 1, 10],store_cv_values=True)\n",
    "ridge_fit_diff = ridge_model_diff.fit(X_train, y_train)\n",
    "ridge_fit_diff.score(X_train,y_train) #0.01513\n",
    "ridge_predictions_diff = ridge_model_diff.predict(X_test)\n",
    "ridge_rmse_diff = mean_squared_error(y_test, ridge_predictions_diff)\n",
    "print(\"Ridge Regression MSE for clicks difference:\", ridge_rmse_diff)\n",
    "print(\"Ridge Regression R2 for click difference:\", r2_score(y_true=y_test, y_pred=ridge_predictions_diff)) \n"
   ]
  },
  {
   "cell_type": "code",
   "execution_count": null,
   "metadata": {},
   "outputs": [],
   "source": [
    "# Linear Model\n",
    "lin_model_diff = LinearRegression()\n",
    "lin_fit_diff = lin_model_diff.fit(X_train, y_train)\n",
    "lin_fit_diff.score(X_train,y_train)\n",
    "lin_predictions_diff = lin_model_diff.predict(X_test)\n",
    "lin_rmse_diff = mean_squared_error(y_test, lin_predictions_diff)\n",
    "print(\"Linear Regression MSE for clicks difference:\", lin_rmse_diff) #Result is better with linear regression\n",
    "print(\"Linear Regression R2 for click difference:\", r2_score(y_true=y_test, y_pred=lin_predictions_diff)) "
   ]
  }
 ],
 "metadata": {
  "kernelspec": {
   "display_name": "Python 3 (ipykernel)",
   "language": "python",
   "name": "python3"
  },
  "language_info": {
   "codemirror_mode": {
    "name": "ipython",
    "version": 3
   },
   "file_extension": ".py",
   "mimetype": "text/x-python",
   "name": "python",
   "nbconvert_exporter": "python",
   "pygments_lexer": "ipython3",
   "version": "3.10.13"
  }
 },
 "nbformat": 4,
 "nbformat_minor": 2
}
