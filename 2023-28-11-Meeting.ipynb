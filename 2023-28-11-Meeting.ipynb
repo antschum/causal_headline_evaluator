{
 "cells": [
  {
   "cell_type": "markdown",
   "metadata": {},
   "source": [
    "28.11.2023 Meeting\n",
    "\n",
    "Overview:\n",
    "\n",
    "[x] Visualize predicted vs true values (scatterplot with seaborn) of model predicting click difference from difference embedding (true difference - predicted difference)\n",
    "\n",
    "[x] show headlines that scored highly and compare with headlines scored low \n",
    "\n",
    "[ ] compare ranking between model using embeddings and embedding difference to predict clicks / click difference\n",
    "\n",
    "[x] make list of potential explanations of what the model is capturing (speech text / punctuation)\n",
    "\n",
    "[x] introducing click rate\n",
    "\n",
    " "
   ]
  },
  {
   "cell_type": "code",
   "execution_count": 1,
   "metadata": {},
   "outputs": [],
   "source": [
    "from sentence_transformers import SentenceTransformer\n",
    "import pandas as pd\n",
    "from torch.utils.data import TensorDataset, random_split\n",
    "from torch.utils.data import DataLoader, RandomSampler, SequentialSampler\n",
    "from sklearn.model_selection import train_test_split\n",
    "from sklearn.metrics import mean_squared_error, r2_score, mean_squared_error, mean_absolute_error\n",
    "import numpy as np\n",
    "from sklearn.linear_model import RidgeCV, LogisticRegression, LinearRegression\n",
    "from torch.utils.data import DataLoader, TensorDataset\n",
    "import csv\n",
    "import torch \n",
    "import pickle\n",
    "import random\n",
    "from sklearn.metrics import accuracy_score\n",
    "from scipy.stats import spearmanr\n",
    "import math"
   ]
  },
  {
   "cell_type": "code",
   "execution_count": 2,
   "metadata": {},
   "outputs": [
    {
     "name": "stdout",
     "output_type": "stream",
     "text": [
      "No GPU available, using the CPU instead.\n"
     ]
    }
   ],
   "source": [
    "#cpu/gpu\n",
    "if torch.cuda.is_available():    \n",
    "\n",
    "    # Tell PyTorch to use the GPU.    \n",
    "    device = torch.device(\"cuda\")\n",
    "\n",
    "    print('There are %d GPU(s) available.' % torch.cuda.device_count())\n",
    "\n",
    "    print('We will use the GPU:', torch.cuda.get_device_name(0))\n",
    "\n",
    "# If not...\n",
    "else:\n",
    "    print('No GPU available, using the CPU instead.')\n",
    "    device = torch.device(\"cpu\")\n",
    "\n",
    "# Set random seed\n",
    "seed = 42\n",
    "torch.manual_seed(seed)\n",
    "np.random.seed(seed)\n",
    "random.seed(seed)"
   ]
  },
  {
   "cell_type": "code",
   "execution_count": 3,
   "metadata": {},
   "outputs": [],
   "source": [
    "#Define model - pretrained\n",
    "model = SentenceTransformer('paraphrase-MiniLM-L6-v2')\n",
    "#model = SentenceTransformer('multi-qa-mpnet-base-dot-v1')\n"
   ]
  },
  {
   "cell_type": "code",
   "execution_count": 4,
   "metadata": {},
   "outputs": [
    {
     "name": "stdout",
     "output_type": "stream",
     "text": [
      "Index(['Unnamed: 0', 'created_at', 'updated_at', 'clickability_test_id',\n",
      "       'excerpt', 'headline', 'lede', 'slug', 'eyecatcher_id', 'impressions',\n",
      "       'clicks', 'significance', 'first_place', 'winner', 'share_text',\n",
      "       'square', 'test_week'],\n",
      "      dtype='object')\n",
      "Unnamed: 0       4.641032\n",
      "excerpt          4.147870\n",
      "headline         4.641032\n",
      "lede             4.638130\n",
      "slug             4.641032\n",
      "eyecatcher_id    4.635272\n",
      "impressions      4.641032\n",
      "clicks           4.641032\n",
      "significance     4.641032\n",
      "first_place      4.641032\n",
      "winner           4.641032\n",
      "test_week        4.641032\n",
      "clickrate        4.641032\n",
      "dtype: float64\n",
      "Unnamed: 0      2.117931\n",
      "excerpt         1.892597\n",
      "headline        2.117931\n",
      "lede            2.116605\n",
      "slug            2.117931\n",
      "impressions     2.117931\n",
      "clicks          2.117931\n",
      "significance    2.117931\n",
      "first_place     2.117931\n",
      "winner          2.117931\n",
      "test_week       2.117931\n",
      "clickrate       2.117931\n",
      "dtype: float64\n"
     ]
    }
   ],
   "source": [
    "#Load data\n",
    "df = pd.read_csv(\"C:/Users/mldem/Downloads/upworthy-archive-datasets/upworthy-archive-confirmatory-packages-03.12.2020.csv\", low_memory=False)\n",
    "#Delete some unnecessary columns\n",
    "print(df.columns)\n",
    "delete_cols = [\"created_at\",\"updated_at\",\"share_text\",\"square\"]\n",
    "df = df.drop(columns=delete_cols)\n",
    "#Create a new column for clickrate\n",
    "df[\"clickrate\"] = round((df[\"clicks\"]/ df[\"impressions\"]),ndigits=3)\n",
    "print(df.groupby([\"clickability_test_id\"]).count().mean()) #average of 4.64 packages within one test\n",
    "print(df.groupby([\"clickability_test_id\",\"eyecatcher_id\"]).count().mean()) #average of 2.11 packages with the same eyecatcher id and same clickability_test_id\n",
    "clicks =torch.tensor(df.clicks.values)"
   ]
  },
  {
   "cell_type": "code",
   "execution_count": 5,
   "metadata": {},
   "outputs": [],
   "source": [
    "#Load embeddings\n",
    "with open('full_embeddings.pkl', \"rb\") as fIn:\n",
    "    stored_data = pickle.load(fIn)\n",
    "    stored_sentences = stored_data['headlines']\n",
    "    stored_embeddings = stored_data['embeddings']\n",
    "\n"
   ]
  },
  {
   "cell_type": "markdown",
   "metadata": {},
   "source": [
    "# 1. Predicting clicks from headline embeddings with ridge regression (incl. comparison with linear)"
   ]
  },
  {
   "cell_type": "code",
   "execution_count": 6,
   "metadata": {},
   "outputs": [],
   "source": [
    "# Model\n",
    "X_train, X_test, y_train, y_test = train_test_split(stored_embeddings, clicks, test_size=0.2)"
   ]
  },
  {
   "cell_type": "code",
   "execution_count": 7,
   "metadata": {},
   "outputs": [
    {
     "name": "stdout",
     "output_type": "stream",
     "text": [
      "Ridge Regression MSE for click difference: 1680.7123980704882\n",
      "Ridge Regression R2 for click difference: 0.15630751841239166\n",
      "Spearman correlation: SignificanceResult(statistic=-0.0003500375600872288, pvalue=0.909458959910692)\n"
     ]
    }
   ],
   "source": [
    "# Ridge Model\n",
    "ridge_model =RidgeCV(alphas=[0.001,0.002,0.005,0.01,0.05,0.07,0.2,0.4,0.6, 1, 10],store_cv_values=True)\n",
    "ridge_model.fit(X_train, y_train)\n",
    "ridge_model.score(X_train,y_train) #0.1629\n",
    "predictions = ridge_model.predict(X_test) #alpha = 10\n",
    "rmse = mean_squared_error(y_test, predictions)\n",
    "print(\"Ridge Regression MSE for click difference:\", rmse)\n",
    "print(\"Ridge Regression R2 for click difference:\", r2_score(y_true=y_test, y_pred=predictions))\n",
    "df[\"predictions\"] = ridge_model.predict(stored_embeddings)\n",
    "print(\"Spearman correlation:\",spearmanr(df.sort_values([\"predictions\"]).loc[:,\"headline\"],df.sort_values([\"clicks\"]).loc[:,\"headline\"]))\n",
    "\n"
   ]
  },
  {
   "cell_type": "markdown",
   "metadata": {},
   "source": [
    "### Last 20"
   ]
  },
  {
   "cell_type": "code",
   "execution_count": 8,
   "metadata": {},
   "outputs": [
    {
     "data": {
      "application/vnd.jupyter.widget-view+json": {
       "model_id": "c3f8e90bdf4f40cb983e64a050a4f386",
       "version_major": 2,
       "version_minor": 0
      },
      "text/plain": [
       "HBox(children=(Output(), Output()), layout=Layout(display='flex', flex_flow='row', justify_content='space-arou…"
      ]
     },
     "execution_count": 8,
     "metadata": {},
     "output_type": "execute_result"
    }
   ],
   "source": [
    "from ipywidgets import widgets, Layout\n",
    "from IPython import display\n",
    "\n",
    "last20_pred = df.sort_values([\"predictions\"],ascending=True).loc[:,['headline']][:20]\n",
    "last20_true = df.sort_values([\"clicks\"],ascending=True).loc[:,['headline']][:20]\n",
    "widget1 = widgets.Output()\n",
    "widget2 = widgets.Output()\n",
    "\n",
    "# render in output widgets\n",
    "with widget1:\n",
    "    display.display(last20_pred.style.set_caption('Last 20 Predicted'))\n",
    "    last20_pred.info()\n",
    "with widget2:\n",
    "    display.display(last20_true.style.set_caption('Last 20 True'))\n",
    "    last20_true.info()\n",
    "\n",
    "\n",
    "# add some CSS styles to distribute free space\n",
    "box_layout = Layout(display='flex',\n",
    "                    flex_flow='row',\n",
    "                    justify_content='space-around',\n",
    "                    width='auto'\n",
    "                   )\n",
    "    \n",
    "\n",
    "box = widgets.HBox([widget1, widget2], layout=box_layout)\n",
    "box"
   ]
  },
  {
   "cell_type": "code",
   "execution_count": 9,
   "metadata": {},
   "outputs": [
    {
     "data": {
      "text/plain": [
       "array([], dtype=object)"
      ]
     },
     "execution_count": 9,
     "metadata": {},
     "output_type": "execute_result"
    }
   ],
   "source": [
    "#Checking for intersection\n",
    "np.intersect1d(last20_pred.values,last20_true.values)"
   ]
  },
  {
   "cell_type": "markdown",
   "metadata": {},
   "source": [
    "#### Potential explanations: PREDICTED\n",
    "#### 1. Short sentences\n",
    "#### 2. Capital letters\n",
    "#### 3. Punctuation - exlamation marks, question marks\n",
    "\n",
    "#### Potential explanations: TRUE\n",
    "#### 1. No famous names\n",
    "#### 2. Focus on the reader - imagine if, what would happen if you"
   ]
  },
  {
   "cell_type": "markdown",
   "metadata": {},
   "source": [
    "## Top 20"
   ]
  },
  {
   "cell_type": "code",
   "execution_count": 10,
   "metadata": {},
   "outputs": [
    {
     "data": {
      "application/vnd.jupyter.widget-view+json": {
       "model_id": "1d07206bdfe44545ace534c13818e122",
       "version_major": 2,
       "version_minor": 0
      },
      "text/plain": [
       "HBox(children=(Output(), Output()), layout=Layout(display='flex', flex_flow='row', justify_content='space-arou…"
      ]
     },
     "execution_count": 10,
     "metadata": {},
     "output_type": "execute_result"
    }
   ],
   "source": [
    "top20_pred = df.sort_values([\"predictions\"],ascending=False).loc[:,['headline']][:20]\n",
    "top20_true = df.sort_values([\"clicks\"],ascending=False).loc[:,['headline']][:20]\n",
    "widget1 = widgets.Output()\n",
    "widget2 = widgets.Output()\n",
    "\n",
    "# render in output widgets\n",
    "with widget1:\n",
    "    display.display(top20_pred.style.set_caption('Top 20 Predicted'))\n",
    "    last20_pred.info()\n",
    "with widget2:\n",
    "    display.display(top20_true.style.set_caption('Top 20 True'))\n",
    "    last20_true.info()\n",
    "\n",
    "\n",
    "# add some CSS styles to distribute free space\n",
    "box_layout = Layout(display='flex',\n",
    "                    flex_flow='row',\n",
    "                    justify_content='space-around',\n",
    "                    width='auto'\n",
    "                   )\n",
    "    \n",
    "\n",
    "box = widgets.HBox([widget1, widget2], layout=box_layout)\n",
    "box\n"
   ]
  },
  {
   "cell_type": "code",
   "execution_count": 11,
   "metadata": {},
   "outputs": [
    {
     "data": {
      "text/plain": [
       "array([], dtype=object)"
      ]
     },
     "execution_count": 11,
     "metadata": {},
     "output_type": "execute_result"
    }
   ],
   "source": [
    "#Checking for intersection\n",
    "np.intersect1d(top20_pred.values,top20_true.values)"
   ]
  },
  {
   "cell_type": "markdown",
   "metadata": {},
   "source": [
    "#### Potential explanations:\n",
    "#### 1. Call to action words - \"Watch\"\n",
    "#### 2. Capital letters"
   ]
  },
  {
   "cell_type": "markdown",
   "metadata": {},
   "source": [
    "### Ridge with clickrate instead of clicks"
   ]
  },
  {
   "cell_type": "code",
   "execution_count": 12,
   "metadata": {},
   "outputs": [
    {
     "name": "stdout",
     "output_type": "stream",
     "text": [
      "105551\n",
      "Ridge Regression MSE for click difference: 0.0001322246962630962\n",
      "Ridge Regression R2 for click difference: 0.168094577567668\n"
     ]
    }
   ],
   "source": [
    "\n",
    "clickrate =torch.tensor(df.clickrate.values)\n",
    "\n",
    "X_train, X_test, y_train, y_test = train_test_split(stored_embeddings,clickrate, test_size=0.2)\n",
    "# Ridge Model\n",
    "\n",
    "ridge_model_clickrate =RidgeCV(alphas=[0.001,0.002,0.005,0.01,0.05,0.07,0.2,0.4,0.6, 1, 10],store_cv_values=True)\n",
    "ridge_model_clickrate.fit(X_train, y_train)\n",
    "ridge_model_clickrate.score(X_train,y_train) #0.1629\n",
    "predictions_clickrate = ridge_model_clickrate.predict(X_test) #alpha = 10\n",
    "rmse_clickrate = mean_squared_error(y_test, predictions_clickrate)\n",
    "\n",
    "predictions_clickrate_all = ridge_model_clickrate.predict(stored_embeddings)\n",
    "print(predictions_clickrate_all.shape[0])\n",
    "\n",
    "\n",
    "for i in range(predictions_clickrate_all.shape[0]):\n",
    "    if predictions_clickrate_all[i] < 0:\n",
    "        predictions_clickrate_all[i] = 0\n",
    "        \n",
    "df[\"predictions_clickrate_all\"] = predictions_clickrate_all\n",
    "\n",
    "print(\"Ridge Regression MSE for click difference:\", rmse_clickrate)\n",
    "print(\"Ridge Regression R2 for click difference:\", r2_score(y_true=y_test, y_pred=predictions_clickrate))\n",
    "\n",
    "\n",
    "\n",
    "\n"
   ]
  },
  {
   "cell_type": "markdown",
   "metadata": {},
   "source": [
    "### Last 20 clickrate"
   ]
  },
  {
   "cell_type": "code",
   "execution_count": 13,
   "metadata": {},
   "outputs": [
    {
     "data": {
      "application/vnd.jupyter.widget-view+json": {
       "model_id": "1d01afded47d42dd844c8bf9e8c205d2",
       "version_major": 2,
       "version_minor": 0
      },
      "text/plain": [
       "HBox(children=(Output(), Output()), layout=Layout(display='flex', flex_flow='row', justify_content='space-arou…"
      ]
     },
     "execution_count": 13,
     "metadata": {},
     "output_type": "execute_result"
    }
   ],
   "source": [
    "last20_pred = df.sort_values([\"predictions_clickrate_all\"],ascending=True).loc[:,['headline']][:20]\n",
    "last20_true = df.sort_values([\"clickrate\"],ascending=True).loc[:,['headline']][:20]\n",
    "widget1 = widgets.Output()\n",
    "widget2 = widgets.Output()\n",
    "\n",
    "# render in output widgets\n",
    "with widget1:\n",
    "    display.display(last20_pred.style.set_caption('Last 20 Predicted'))\n",
    "    last20_pred.info()\n",
    "with widget2:\n",
    "    display.display(last20_true.style.set_caption('Last 20 True'))\n",
    "    last20_true.info()\n",
    "\n",
    "\n",
    "# add some CSS styles to distribute free space\n",
    "box_layout = Layout(display='flex',\n",
    "                    flex_flow='row',\n",
    "                    justify_content='space-around',\n",
    "                    width='auto'\n",
    "                   )\n",
    "    \n",
    "\n",
    "box = widgets.HBox([widget1, widget2], layout=box_layout)\n",
    "box\n"
   ]
  },
  {
   "cell_type": "code",
   "execution_count": 14,
   "metadata": {},
   "outputs": [
    {
     "data": {
      "text/plain": [
       "array([], dtype=object)"
      ]
     },
     "execution_count": 14,
     "metadata": {},
     "output_type": "execute_result"
    }
   ],
   "source": [
    "#Checking for intersection\n",
    "np.intersect1d(last20_pred.values,last20_true.values)"
   ]
  },
  {
   "cell_type": "markdown",
   "metadata": {},
   "source": [
    "#### Potential explanations:\n",
    "#### 1. Questions\n",
    "#### 2. Topics about the future - i.e food shortage, water supply, preparing for tornadoes"
   ]
  },
  {
   "cell_type": "markdown",
   "metadata": {},
   "source": [
    "### Top 20 clickrate\n"
   ]
  },
  {
   "cell_type": "code",
   "execution_count": 15,
   "metadata": {},
   "outputs": [
    {
     "data": {
      "application/vnd.jupyter.widget-view+json": {
       "model_id": "8f9cb256c3034f2f9b3fe5c78b452346",
       "version_major": 2,
       "version_minor": 0
      },
      "text/plain": [
       "HBox(children=(Output(), Output()), layout=Layout(display='flex', flex_flow='row', justify_content='space-arou…"
      ]
     },
     "execution_count": 15,
     "metadata": {},
     "output_type": "execute_result"
    }
   ],
   "source": [
    "top20_pred = df.sort_values([\"predictions_clickrate_all\"],ascending=False).loc[:,['headline']][:20]\n",
    "top20_true = df.sort_values([\"clickrate\"],ascending=False).loc[:,['headline']][:20]\n",
    "widget1 = widgets.Output()\n",
    "widget2 = widgets.Output()\n",
    "\n",
    "# render in output widgets\n",
    "with widget1:\n",
    "    display.display(top20_pred.style.set_caption('Top 20 Predicted'))\n",
    "    last20_pred.info()\n",
    "with widget2:\n",
    "    display.display(top20_true.style.set_caption('Top 20 True'))\n",
    "    last20_true.info()\n",
    "\n",
    "\n",
    "# add some CSS styles to distribute free space\n",
    "box_layout = Layout(display='flex',\n",
    "                    flex_flow='row',\n",
    "                    justify_content='space-around',\n",
    "                    width='auto'\n",
    "                   )\n",
    "    \n",
    "\n",
    "box = widgets.HBox([widget1, widget2], layout=box_layout)\n",
    "box"
   ]
  },
  {
   "cell_type": "code",
   "execution_count": 16,
   "metadata": {},
   "outputs": [
    {
     "data": {
      "text/plain": [
       "array([], dtype=object)"
      ]
     },
     "execution_count": 16,
     "metadata": {},
     "output_type": "execute_result"
    }
   ],
   "source": [
    "#Checking for intersection\n",
    "np.intersect1d(top20_pred.values,top20_true.values)"
   ]
  },
  {
   "cell_type": "markdown",
   "metadata": {},
   "source": [
    "#### Potential explanations:\n",
    "#### 1. Call to action words - \"Watch\"\n",
    "#### 2. Capital letters"
   ]
  },
  {
   "cell_type": "markdown",
   "metadata": {},
   "source": [
    "## Linear Model"
   ]
  },
  {
   "cell_type": "code",
   "execution_count": 17,
   "metadata": {},
   "outputs": [
    {
     "name": "stdout",
     "output_type": "stream",
     "text": [
      "Linear Regression MSE for clicks: 42.04184700400173\n",
      "Linear Regression R2 for clicks: 0.1547277546761353\n"
     ]
    }
   ],
   "source": [
    "# Linear Model\n",
    "X_train, X_test, y_train, y_test = train_test_split(stored_embeddings, clicks, test_size=0.2)\n",
    "linear_model =LinearRegression()\n",
    "linear_model.fit(X_train, y_train)\n",
    "linear_model.score(X_train,y_train) #0.1643\n",
    "predictions = linear_model.predict(X_test)\n",
    "rmse = mean_squared_error(y_test, predictions, squared=False)\n",
    "print(\"Linear Regression MSE for clicks:\", rmse)\n",
    "print(\"Linear Regression R2 for clicks:\", r2_score(y_true=y_test, y_pred=predictions))"
   ]
  },
  {
   "cell_type": "markdown",
   "metadata": {},
   "source": [
    "### Visualizing predicted clicks vs actual clicks"
   ]
  },
  {
   "cell_type": "code",
   "execution_count": 18,
   "metadata": {},
   "outputs": [
    {
     "name": "stdout",
     "output_type": "stream",
     "text": [
      "143.6074240705225\n"
     ]
    },
    {
     "data": {
      "text/plain": [
       "(-100.0, 800.0)"
      ]
     },
     "execution_count": 18,
     "metadata": {},
     "output_type": "execute_result"
    },
    {
     "data": {
      "image/png": "[encoded data removed]",
      "text/plain": [
       "<Figure size 640x480 with 1 Axes>"
      ]
     },
     "metadata": {},
     "output_type": "display_data"
    }
   ],
   "source": [
    "import seaborn as sns\n",
    "import matplotlib.pyplot as plt\n",
    "import warnings\n",
    "warnings.filterwarnings(\"ignore\", \"is_categorical_dtype\")\n",
    "# print stuff. \n",
    "predictions = ridge_model.predict(stored_embeddings)\n",
    "print(predictions.max())\n",
    "# visualize real and predicted values\n",
    "fig, ax = plt.subplots()\n",
    "sns.scatterplot(x = predictions, y = df['clicks'], ax=ax)\n",
    "ax.set_xlim(-100,800)\n"
   ]
  },
  {
   "cell_type": "markdown",
   "metadata": {},
   "source": [
    "## Extra:MLP Regressor model "
   ]
  },
  {
   "cell_type": "code",
   "execution_count": 19,
   "metadata": {
    "scrolled": true
   },
   "outputs": [
    {
     "name": "stderr",
     "output_type": "stream",
     "text": [
      "C:\\Users\\mldem\\anaconda3\\envs\\causalclicker\\lib\\site-packages\\sklearn\\neural_network\\_multilayer_perceptron.py:691: ConvergenceWarning: Stochastic Optimizer: Maximum iterations (500) reached and the optimization hasn't converged yet.\n",
      "  warnings.warn(\n"
     ]
    },
    {
     "data": {
      "text/plain": [
       "0.5275308844437705"
      ]
     },
     "execution_count": 19,
     "metadata": {},
     "output_type": "execute_result"
    }
   ],
   "source": [
    "from sklearn.neural_network import MLPRegressor\n",
    "MLP_regressor = MLPRegressor(random_state=1, max_iter=500).fit(X_train, y_train)\n",
    "predictions_mlp = MLP_regressor.predict(X_test)\n",
    "r2_score(y_true=y_test,y_pred=predictions_mlp)\n"
   ]
  },
  {
   "cell_type": "code",
   "execution_count": 20,
   "metadata": {},
   "outputs": [
    {
     "data": {
      "text/plain": [
       "(-100.0, 800.0)"
      ]
     },
     "execution_count": 20,
     "metadata": {},
     "output_type": "execute_result"
    },
    {
     "data": {
      "image/png": "[encoded data removed]",
      "text/plain": [
       "<Figure size 640x480 with 1 Axes>"
      ]
     },
     "metadata": {},
     "output_type": "display_data"
    }
   ],
   "source": [
    "\n",
    "predictions_all = MLP_regressor.predict(stored_embeddings)\n",
    "\n",
    "# visualize real and predicted values\n",
    "fig, ax = plt.subplots()\n",
    "sns.scatterplot(x = predictions_all, y = df['clicks'], ax=ax)\n",
    "ax.set_xlim(-100,800)\n"
   ]
  },
  {
   "cell_type": "code",
   "execution_count": 21,
   "metadata": {},
   "outputs": [],
   "source": [
    "#Pair headlines based on clickability_test_id and eyecatcher_id\n",
    "#Import dataset with pairs\n",
    "df_pairs = pd.read_csv(\"headline_pair_indices.csv\")\n",
    "#Compute vector difference\n",
    "embedding_diff = torch.stack(df_pairs.apply(lambda row: stored_embeddings[row['Idx_Headline1']] - stored_embeddings[row['Idx_Headline2']], axis=1).tolist()) \n",
    "#because we have a column where each row is a tensor so we kinda unpack them.\n",
    "#Sort pairs s.t. headline1 is headline with more clicks. \n",
    "df_sorted_pairs = df_pairs.copy()\n",
    "df_sorted_pairs.loc[~df_sorted_pairs[\"headline1_more_clicks\"], ['Idx_Headline1', 'Idx_Headline2']] = df_sorted_pairs.loc[~df_sorted_pairs[\"headline1_more_clicks\"], ['Idx_Headline2', 'Idx_Headline1']].values\n",
    "df_sorted_pairs['click_difference'] = abs(df_pairs['click_difference'])"
   ]
  },
  {
   "cell_type": "markdown",
   "metadata": {},
   "source": [
    "# 2 Predicting Headline-Winner based on SBert Embeddings with Logistic Regression"
   ]
  },
  {
   "cell_type": "code",
   "execution_count": 22,
   "metadata": {},
   "outputs": [
    {
     "name": "stdout",
     "output_type": "stream",
     "text": [
      "Accuracy predicting winner: 0.6270825948245303\n"
     ]
    }
   ],
   "source": [
    "headline1_more_clicks = torch.tensor(df_pairs['headline1_more_clicks'])\n",
    "X_train, X_test, y_train, y_test = train_test_split(embedding_diff, headline1_more_clicks, test_size=0.2)\n",
    "logistic = LogisticRegression(max_iter=200)\n",
    "logistic.fit(X_train, y_train)\n",
    "predicted_logistic = logistic.predict(X_test)\n",
    "accuracy_logistic = accuracy_score(predicted_logistic,y_test)\n",
    "print(\"Accuracy predicting winner:\", accuracy_logistic)"
   ]
  },
  {
   "cell_type": "markdown",
   "metadata": {},
   "source": [
    "# 3 Predicting Click difference based on SBert embeddings with Ridge Regression"
   ]
  },
  {
   "cell_type": "code",
   "execution_count": 23,
   "metadata": {},
   "outputs": [],
   "source": [
    "#check shape matching and turning into tensors to work\n",
    "clicks_diff = torch.tensor(df_sorted_pairs['click_difference'])\n",
    "\n",
    "#take sorted embeddings \n",
    "sorted_embedding_diff = torch.stack(df_sorted_pairs.apply(lambda row: stored_embeddings[row['Idx_Headline1']] - stored_embeddings[row['Idx_Headline2']], axis=1).tolist()) "
   ]
  },
  {
   "cell_type": "code",
   "execution_count": 24,
   "metadata": {},
   "outputs": [
    {
     "name": "stdout",
     "output_type": "stream",
     "text": [
      "Ridge Regression MSE for clicks difference: 250.27313508886158\n",
      "Ridge Regression R2 for click difference: 0.03849809185468611\n"
     ]
    }
   ],
   "source": [
    "#Based on difference vector\n",
    "X_train, X_test, y_train, y_test = train_test_split(sorted_embedding_diff, clicks_diff, test_size=0.2, random_state=seed)\n",
    "ridge_model_diff =RidgeCV(alphas=[0.001,0.002,0.005,0.01,0.05,0.07,0.2,0.4,0.6, 1, 10],store_cv_values=True)\n",
    "ridge_fit_diff = ridge_model_diff.fit(X_train, y_train)\n",
    "ridge_fit_diff.score(X_train,y_train) #0.09528\n",
    "ridge_predictions_diff = ridge_model_diff.predict(X_test)\n",
    "ridge_rmse_diff = mean_squared_error(y_test, ridge_predictions_diff)\n",
    "df_sorted_pairs[\"predictions\"] = ridge_model_diff.predict(sorted_embedding_diff)\n",
    "print(\"Ridge Regression MSE for clicks difference:\", ridge_rmse_diff)\n",
    "print(\"Ridge Regression R2 for click difference:\", r2_score(y_true=y_test, y_pred=ridge_predictions_diff)) "
   ]
  },
  {
   "cell_type": "markdown",
   "metadata": {},
   "source": [
    "### Last 20 winners with the smallest click difference"
   ]
  },
  {
   "cell_type": "code",
   "execution_count": 25,
   "metadata": {},
   "outputs": [
    {
     "data": {
      "application/vnd.jupyter.widget-view+json": {
       "model_id": "3964e08b4ab744f4a0378dffdf465829",
       "version_major": 2,
       "version_minor": 0
      },
      "text/plain": [
       "HBox(children=(Output(), Output()), layout=Layout(display='flex', flex_flow='row', justify_content='space-arou…"
      ]
     },
     "execution_count": 25,
     "metadata": {},
     "output_type": "execute_result"
    }
   ],
   "source": [
    "last20_pred = df.loc[df_sorted_pairs.sort_values([\"predictions\"], ascending=True).loc[:,'Idx_Headline1'][:20], ['headline']]\n",
    "last20_true =df.loc[df_sorted_pairs.sort_values([\"click_difference\"], ascending=True).loc[:,'Idx_Headline1'][:20], ['headline']]\n",
    "widget1 = widgets.Output()\n",
    "widget2 = widgets.Output()\n",
    "\n",
    "# render in output widgets\n",
    "with widget1:\n",
    "    display.display(last20_pred.style.set_caption('Last 20 Predicted'))\n",
    "    last20_pred.info()\n",
    "with widget2:\n",
    "    display.display(last20_true.style.set_caption('Last 20 True'))\n",
    "    last20_true.info()\n",
    "\n",
    "\n",
    "# add some CSS styles to distribute free space\n",
    "box_layout = Layout(display='flex',\n",
    "                    flex_flow='row',\n",
    "                    justify_content='space-around',\n",
    "                    width='auto'\n",
    "                   )\n",
    "    \n",
    "\n",
    "box = widgets.HBox([widget1, widget2], layout=box_layout)\n",
    "box\n",
    "\n",
    "\n"
   ]
  },
  {
   "cell_type": "code",
   "execution_count": 26,
   "metadata": {},
   "outputs": [
    {
     "data": {
      "text/plain": [
       "array([], dtype=object)"
      ]
     },
     "execution_count": 26,
     "metadata": {},
     "output_type": "execute_result"
    }
   ],
   "source": [
    "## checking for intersection\n",
    "# looking at top 200 we get 3 overlaps.\n",
    "np.intersect1d(last20_pred.values,last20_true.values)"
   ]
  },
  {
   "cell_type": "code",
   "execution_count": 27,
   "metadata": {},
   "outputs": [],
   "source": [
    "#### Possible explanations:\n",
    "#### 1.\n",
    "#### 2."
   ]
  },
  {
   "cell_type": "markdown",
   "metadata": {},
   "source": [
    "### Top 20 - winners with highest click difference\n"
   ]
  },
  {
   "cell_type": "code",
   "execution_count": 28,
   "metadata": {},
   "outputs": [
    {
     "data": {
      "application/vnd.jupyter.widget-view+json": {
       "model_id": "5ae0b749a4f8457aa05b043552b70b79",
       "version_major": 2,
       "version_minor": 0
      },
      "text/plain": [
       "HBox(children=(Output(), Output()), layout=Layout(display='flex', flex_flow='row', justify_content='space-arou…"
      ]
     },
     "execution_count": 28,
     "metadata": {},
     "output_type": "execute_result"
    }
   ],
   "source": [
    "top20_pred = df.loc[df_sorted_pairs.sort_values([\"predictions\"], ascending=False).loc[:,'Idx_Headline1'][:20], ['headline', 'clicks']]\n",
    "top20_true = df.loc[df_sorted_pairs.sort_values([\"click_difference\"], ascending=False).loc[:,'Idx_Headline1'][:20], ['headline', 'clicks']]\n",
    "widget1 = widgets.Output()\n",
    "widget2 = widgets.Output()\n",
    "\n",
    "# render in output widgets\n",
    "with widget1:\n",
    "    display.display(top20_pred.style.set_caption('Top 20 Predicted'))\n",
    "    last20_pred.info()\n",
    "with widget2:\n",
    "    display.display(top20_true.style.set_caption('Top 20 True'))\n",
    "    last20_true.info()\n",
    "\n",
    "\n",
    "# add some CSS styles to distribute free space\n",
    "box_layout = Layout(display='flex',\n",
    "                    flex_flow='row',\n",
    "                    justify_content='space-around',\n",
    "                    width='auto'\n",
    "                   )\n",
    "    \n",
    "\n",
    "box = widgets.HBox([widget1, widget2], layout=box_layout)\n",
    "box\n",
    "\n"
   ]
  },
  {
   "cell_type": "markdown",
   "metadata": {},
   "source": [
    "#### Posible explanations:\n",
    "#### 1. Beginning of a story - i.e a man screamed, an interviewer asks..\n",
    "#### 2. Capital letters"
   ]
  },
  {
   "cell_type": "code",
   "execution_count": 29,
   "metadata": {},
   "outputs": [
    {
     "data": {
      "text/plain": [
       "(-100.0, 450.0)"
      ]
     },
     "execution_count": 29,
     "metadata": {},
     "output_type": "execute_result"
    },
    {
     "data": {
      "image/png": "[encoded data removed]",
      "text/plain": [
       "<Figure size 640x480 with 1 Axes>"
      ]
     },
     "metadata": {},
     "output_type": "display_data"
    }
   ],
   "source": [
    "import seaborn as sns\n",
    "import matplotlib.pyplot as plt\n",
    "import warnings\n",
    "warnings.filterwarnings(\"ignore\", \"is_categorical_dtype\")\n",
    "# visualize real and predicted values\n",
    "fig, ax = plt.subplots()\n",
    "sns.scatterplot(x = df_sorted_pairs['predictions'], y = clicks_diff, ax=ax)\n",
    "ax.set_xlim(-100,450)\n",
    "## this is super sketchy. "
   ]
  },
  {
   "cell_type": "markdown",
   "metadata": {},
   "source": [
    "### Compare headline ranking between true click difference and predicted click difference"
   ]
  },
  {
   "cell_type": "code",
   "execution_count": 30,
   "metadata": {},
   "outputs": [
    {
     "name": "stdout",
     "output_type": "stream",
     "text": [
      "Spearman correlation is SignificanceResult(statistic=0.0024772582321204713, pvalue=0.43634106792463767)\n"
     ]
    }
   ],
   "source": [
    "\n",
    "\n",
    "# there has to be a better way!\n",
    "predicted_ranking = df_sorted_pairs.sort_values(['predictions'])['Idx_Headline1'].astype(str).values+df_sorted_pairs.sort_values(['predictions'])['Idx_Headline2'].astype(str).values\n",
    "true_ranking = df_sorted_pairs.sort_values(['click_difference'])['Idx_Headline1'].astype(str).values+df_sorted_pairs.sort_values(['click_difference'])['Idx_Headline2'].astype(str).values\n",
    "\n",
    "print(\"Spearman correlation is\",spearmanr(predicted_ranking, true_ranking))"
   ]
  },
  {
   "cell_type": "markdown",
   "metadata": {},
   "source": [
    "# Extra: Prediction based on concatenated full embeddings"
   ]
  },
  {
   "cell_type": "code",
   "execution_count": 31,
   "metadata": {
    "scrolled": true
   },
   "outputs": [
    {
     "name": "stdout",
     "output_type": "stream",
     "text": [
      "tensor([[-0.0639,  0.1315, -0.1852,  ...,  0.1781,  0.1700, -0.2824],\n",
      "        [ 0.0265,  0.0478,  0.2955,  ...,  0.1285, -0.0735, -0.2070],\n",
      "        [ 0.0265,  0.0478,  0.2955,  ..., -0.5914,  0.7509, -0.2418],\n",
      "        ...,\n",
      "        [ 0.2242, -0.0074, -0.0443,  ...,  0.0541, -0.1859, -0.2557],\n",
      "        [ 0.1863, -0.0445, -0.3540,  ...,  0.0511,  0.0482, -0.0710],\n",
      "        [ 0.2242, -0.0074, -0.0443,  ...,  0.0511,  0.0482, -0.0710]])\n"
     ]
    }
   ],
   "source": [
    "## Here we need to make sure the headline ordering is correct so we use sorted pairs \n",
    "#Compute concatenated embeddings of the pairs\n",
    "vec1 = df_sorted_pairs.apply(lambda row:(stored_embeddings[row['Idx_Headline1']]), axis=1)\n",
    "vec1= torch.stack(vec1.tolist())\n",
    "vec2 = df_sorted_pairs.apply(lambda row:(stored_embeddings[row['Idx_Headline2']]), axis=1)\n",
    "vec2= torch.stack(vec2.tolist())\n",
    "concatenated_vector = torch.cat([vec1, vec2], dim=1)\n",
    "print(concatenated_vector)"
   ]
  },
  {
   "cell_type": "code",
   "execution_count": 32,
   "metadata": {},
   "outputs": [],
   "source": [
    "#Based on concatenated full embeddings\n",
    "X_train, X_test, y_train, y_test = train_test_split(concatenated_vector, clicks_diff, test_size=0.2)"
   ]
  },
  {
   "cell_type": "code",
   "execution_count": 33,
   "metadata": {},
   "outputs": [
    {
     "name": "stdout",
     "output_type": "stream",
     "text": [
      "Ridge Regression MSE for clicks difference: 238.4444706903468\n",
      "Ridge Regression R2 for click difference: 0.08570904061331208\n"
     ]
    }
   ],
   "source": [
    "# Ridge Model\n",
    "ridge_model_diff =RidgeCV(alphas=[0.001,0.002,0.005,0.01,0.05,0.07,0.2,0.4,0.6, 1, 10],store_cv_values=True)\n",
    "ridge_fit_diff = ridge_model_diff.fit(X_train, y_train)\n",
    "ridge_fit_diff.score(X_train,y_train) #0.01513\n",
    "ridge_predictions_diff = ridge_model_diff.predict(X_test)\n",
    "ridge_rmse_diff = mean_squared_error(y_test, ridge_predictions_diff)\n",
    "print(\"Ridge Regression MSE for clicks difference:\", ridge_rmse_diff)\n",
    "print(\"Ridge Regression R2 for click difference:\", r2_score(y_true=y_test, y_pred=ridge_predictions_diff)) \n"
   ]
  },
  {
   "cell_type": "code",
   "execution_count": 34,
   "metadata": {},
   "outputs": [
    {
     "name": "stdout",
     "output_type": "stream",
     "text": [
      "Linear Regression MSE for clicks difference: 238.509803371365\n",
      "Linear Regression R2 for click difference: 0.08545852912342733\n"
     ]
    }
   ],
   "source": [
    "# Linear Model\n",
    "lin_model_diff = LinearRegression()\n",
    "lin_fit_diff = lin_model_diff.fit(X_train, y_train)\n",
    "lin_fit_diff.score(X_train,y_train)\n",
    "lin_predictions_diff = lin_model_diff.predict(X_test)\n",
    "lin_rmse_diff = mean_squared_error(y_test, lin_predictions_diff)\n",
    "print(\"Linear Regression MSE for clicks difference:\", lin_rmse_diff) #Result is better with linear regression\n",
    "print(\"Linear Regression R2 for click difference:\", r2_score(y_true=y_test, y_pred=lin_predictions_diff)) "
   ]
  }
 ],
 "metadata": {
  "kernelspec": {
   "display_name": "Python 3 (ipykernel)",
   "language": "python",
   "name": "python3"
  },
  "language_info": {
   "codemirror_mode": {
    "name": "ipython",
    "version": 3
   },
   "file_extension": ".py",
   "mimetype": "text/x-python",
   "name": "python",
   "nbconvert_exporter": "python",
   "pygments_lexer": "ipython3",
   "version": "3.10.13"
  }
 },
 "nbformat": 4,
 "nbformat_minor": 4
}
