{
 "cells": [
  {
   "cell_type": "markdown",
   "metadata": {},
   "source": [
    "28.11.2023 Meeting\n",
    "\n",
    "Overview:\n",
    "\n",
    "[x] Visualize predicted vs true values (scatterplot with seaborn) of model predicting click difference from difference embedding (true difference - predicted difference)\n",
    "\n",
    "[x] show headlines that scored highly and compare with headlines scored low \n",
    "\n",
    "[ ] compare ranking between model using embeddings and embedding difference to predict clicks / click difference\n",
    "\n",
    "[ ] make list of potential explanations of what the model is capturing (speech text / punctuation)\n",
    "\n",
    "[ ] introducing click rate\n",
    "\n",
    " "
   ]
  },
  {
   "cell_type": "code",
   "execution_count": 31,
   "metadata": {},
   "outputs": [],
   "source": [
    "\n",
    "from sentence_transformers import SentenceTransformer\n",
    "import pandas as pd\n",
    "from torch.utils.data import TensorDataset, random_split\n",
    "from torch.utils.data import DataLoader, RandomSampler, SequentialSampler\n",
    "from sklearn.model_selection import train_test_split\n",
    "from sklearn.metrics import mean_squared_error, r2_score, mean_squared_error, mean_absolute_error\n",
    "import numpy as np\n",
    "from sklearn.linear_model import RidgeCV, LogisticRegression, LinearRegression\n",
    "from torch.utils.data import DataLoader, TensorDataset\n",
    "import csv\n",
    "import torch \n",
    "import pickle\n",
    "import random\n",
    "from sklearn.metrics import accuracy_score\n",
    "from scipy.stats import spearmanr\n",
    "import math"
   ]
  },
  {
   "cell_type": "code",
   "execution_count": 2,
   "metadata": {},
   "outputs": [
    {
     "name": "stdout",
     "output_type": "stream",
     "text": [
      "No GPU available, using the CPU instead.\n"
     ]
    }
   ],
   "source": [
    "#cpu/gpu\n",
    "if torch.cuda.is_available():    \n",
    "\n",
    "    # Tell PyTorch to use the GPU.    \n",
    "    device = torch.device(\"cuda\")\n",
    "\n",
    "    print('There are %d GPU(s) available.' % torch.cuda.device_count())\n",
    "\n",
    "    print('We will use the GPU:', torch.cuda.get_device_name(0))\n",
    "\n",
    "# If not...\n",
    "else:\n",
    "    print('No GPU available, using the CPU instead.')\n",
    "    device = torch.device(\"cpu\")\n",
    "\n",
    "# Set random seed\n",
    "seed = 42\n",
    "torch.manual_seed(seed)\n",
    "np.random.seed(seed)\n",
    "random.seed(seed)"
   ]
  },
  {
   "cell_type": "code",
   "execution_count": 3,
   "metadata": {},
   "outputs": [],
   "source": [
    "#Define model - pretrained\n",
    "model = SentenceTransformer('paraphrase-MiniLM-L6-v2')"
   ]
  },
  {
   "cell_type": "code",
   "execution_count": 65,
   "metadata": {},
   "outputs": [
    {
     "name": "stdout",
     "output_type": "stream",
     "text": [
      "0.0\n"
     ]
    }
   ],
   "source": [
    "#Load data\n",
    "df = pd.read_csv(\"C:/Users/mldem/Downloads/upworthy-archive-datasets/upworthy-archive-confirmatory-packages-03.12.2020.csv\", low_memory=False)\n",
    "#Delete some unnecessary columns\n",
    "df.columns\n",
    "delete_cols = [\"created_at\",\"updated_at\",\"share_text\",\"square\"]\n",
    "df = df.drop(columns=delete_cols)\n",
    "#Create a new column for clickrate\n",
    "df[\"clickrate\"] = round((df[\"clicks\"]/ df[\"impressions\"]),ndigits=3)\n",
    "clicks =torch.tensor(df.clicks.values)"
   ]
  },
  {
   "cell_type": "code",
   "execution_count": 6,
   "metadata": {},
   "outputs": [],
   "source": [
    "#Load embeddings\n",
    "with open('full_embeddings.pkl', \"rb\") as fIn:\n",
    "    stored_data = pickle.load(fIn)\n",
    "    stored_sentences = stored_data['headlines']\n",
    "    stored_embeddings = stored_data['embeddings']"
   ]
  },
  {
   "cell_type": "markdown",
   "metadata": {},
   "source": [
    "# 1. Predicting clicks from headline embeddings with ridge regression (incl. comparison with linear)"
   ]
  },
  {
   "cell_type": "code",
   "execution_count": 7,
   "metadata": {},
   "outputs": [],
   "source": [
    "# Model\n",
    "X_train, X_test, y_train, y_test = train_test_split(stored_embeddings, clicks, test_size=0.2)"
   ]
  },
  {
   "cell_type": "code",
   "execution_count": 8,
   "metadata": {},
   "outputs": [
    {
     "name": "stdout",
     "output_type": "stream",
     "text": [
      "Ridge Regression MSE for click difference: 40.99649250936582\n",
      "Ridge Regression R2 for click difference: 0.15630751841239166\n",
      "Spearman correlation: SignificanceResult(statistic=-0.0003500375600872288, pvalue=0.909458959910692)\n"
     ]
    }
   ],
   "source": [
    "# Ridge Model\n",
    "ridge_model =RidgeCV(alphas=[0.001,0.002,0.005,0.01,0.05,0.07,0.2,0.4,0.6, 1, 10],store_cv_values=True)\n",
    "ridge_model.fit(X_train, y_train)\n",
    "ridge_model.score(X_train,y_train) #0.1629\n",
    "predictions = ridge_model.predict(X_test) #alpha = 10\n",
    "rmse = mean_squared_error(y_test, predictions)\n",
    "print(\"Ridge Regression MSE for click difference:\", rmse)\n",
    "print(\"Ridge Regression R2 for click difference:\", r2_score(y_true=y_test, y_pred=predictions))\n",
    "df[\"predictions\"] = ridge_model.predict(stored_embeddings)\n",
    "print(\"Spearman correlation:\",spearmanr(df.sort_values([\"predictions\"]).loc[:,\"headline\"],df.sort_values([\"clicks\"]).loc[:,\"headline\"]))\n",
    "\n"
   ]
  },
  {
   "cell_type": "markdown",
   "metadata": {},
   "source": [
    "### Last 20 predicted"
   ]
  },
  {
   "cell_type": "code",
   "execution_count": 18,
   "metadata": {},
   "outputs": [
    {
     "name": "stdout",
     "output_type": "stream",
     "text": [
      "                                                 headline\n",
      "43935   Technology that sorts frogs from green beans o...\n",
      "54644   Some Household Tips That Make Sense And Save W...\n",
      "21085   How To Change Lives? Partnership. Encouragemen...\n",
      "100883  Good water here is so precious that they learn...\n",
      "32489       Music Is Power. Here's How We Can Harness It.\n",
      "35245                        Water Poverty Has A Zip Code\n",
      "31121   What Do You Call A School With No Libraries, S...\n",
      "2599               Water is a job creator. It's big time.\n",
      "9273    Some quick ideas on how we can win the war on ...\n",
      "33485   Struggling To Provide Opportunities In The Dev...\n",
      "2548    What does throwing a pebble into a pond have t...\n",
      "21862       Want A Garden Full Of Butterflies? Go Native.\n",
      "64071           Gun Control? How About Palm Tree Control.\n",
      "2596    They used to have to try so hard to find water...\n",
      "84214   How Embracing Your Creativity Has More To Do W...\n",
      "25344              5 Ways To Save Water Every Day At Home\n",
      "15879   Is This The Future Of Preparing For Tornadoes?...\n",
      "5631    Is Your Money Playing On Team Good, Or Team Evil?\n",
      "30745              Want to Help Food Workers Afford Food?\n",
      "104390  For All Of You Hoping For Some Good News About...\n"
     ]
    }
   ],
   "source": [
    "print(df.sort_values([\"predictions\"]).loc[:,['headline']][:20])\n"
   ]
  },
  {
   "cell_type": "markdown",
   "metadata": {},
   "source": [
    "### Last 20 true"
   ]
  },
  {
   "cell_type": "code",
   "execution_count": 11,
   "metadata": {},
   "outputs": [
    {
     "data": {
      "text/html": [
       "<div>\n",
       "<style scoped>\n",
       "    .dataframe tbody tr th:only-of-type {\n",
       "        vertical-align: middle;\n",
       "    }\n",
       "\n",
       "    .dataframe tbody tr th {\n",
       "        vertical-align: top;\n",
       "    }\n",
       "\n",
       "    .dataframe thead th {\n",
       "        text-align: right;\n",
       "    }\n",
       "</style>\n",
       "<table border=\"1\" class=\"dataframe\">\n",
       "  <thead>\n",
       "    <tr style=\"text-align: right;\">\n",
       "      <th></th>\n",
       "      <th>headline</th>\n",
       "      <th>clicks</th>\n",
       "    </tr>\n",
       "  </thead>\n",
       "  <tbody>\n",
       "    <tr>\n",
       "      <th>99145</th>\n",
       "      <td>There's a lot to be happy about. For example, ...</td>\n",
       "      <td>0</td>\n",
       "    </tr>\n",
       "    <tr>\n",
       "      <th>8063</th>\n",
       "      <td>Folks in this city survive on $3 per day. He c...</td>\n",
       "      <td>0</td>\n",
       "    </tr>\n",
       "    <tr>\n",
       "      <th>99577</th>\n",
       "      <td>They're saying some pretty brave things in thi...</td>\n",
       "      <td>0</td>\n",
       "    </tr>\n",
       "    <tr>\n",
       "      <th>99574</th>\n",
       "      <td>Yes! This is the brave, all-inclusive, pro-cho...</td>\n",
       "      <td>0</td>\n",
       "    </tr>\n",
       "    <tr>\n",
       "      <th>9940</th>\n",
       "      <td>This is what deforestation can do to your city...</td>\n",
       "      <td>0</td>\n",
       "    </tr>\n",
       "    <tr>\n",
       "      <th>33840</th>\n",
       "      <td>It Only Took Rachel Maddow 48 Seconds To Debun...</td>\n",
       "      <td>0</td>\n",
       "    </tr>\n",
       "    <tr>\n",
       "      <th>33839</th>\n",
       "      <td>It Only Took Rachel Maddow 48 Seconds To Shut ...</td>\n",
       "      <td>0</td>\n",
       "    </tr>\n",
       "    <tr>\n",
       "      <th>37170</th>\n",
       "      <td>In Case You Missed It, Here's What The Trayvon...</td>\n",
       "      <td>0</td>\n",
       "    </tr>\n",
       "    <tr>\n",
       "      <th>37172</th>\n",
       "      <td>In Case You Missed It, Here's What The Trayvon...</td>\n",
       "      <td>0</td>\n",
       "    </tr>\n",
       "    <tr>\n",
       "      <th>37175</th>\n",
       "      <td>In Case You Missed It, Here's What The Trayvon...</td>\n",
       "      <td>0</td>\n",
       "    </tr>\n",
       "    <tr>\n",
       "      <th>37186</th>\n",
       "      <td>In Case You Missed It, Here's What The Trayvon...</td>\n",
       "      <td>0</td>\n",
       "    </tr>\n",
       "    <tr>\n",
       "      <th>86765</th>\n",
       "      <td>Why Having 1 Real Life Friend Is Way Better Th...</td>\n",
       "      <td>0</td>\n",
       "    </tr>\n",
       "    <tr>\n",
       "      <th>37188</th>\n",
       "      <td>In Case You Missed It, Here's What The Trayvon...</td>\n",
       "      <td>0</td>\n",
       "    </tr>\n",
       "    <tr>\n",
       "      <th>37206</th>\n",
       "      <td>In Case You Missed It, Here's What The Trayvon...</td>\n",
       "      <td>0</td>\n",
       "    </tr>\n",
       "    <tr>\n",
       "      <th>37207</th>\n",
       "      <td>Imagine If This Man Had Walked Down The Wrong ...</td>\n",
       "      <td>0</td>\n",
       "    </tr>\n",
       "    <tr>\n",
       "      <th>37208</th>\n",
       "      <td>Imagine If This Man Had Walked Down The Wrong ...</td>\n",
       "      <td>0</td>\n",
       "    </tr>\n",
       "    <tr>\n",
       "      <th>9152</th>\n",
       "      <td>People all over the world have so many reasons...</td>\n",
       "      <td>0</td>\n",
       "    </tr>\n",
       "    <tr>\n",
       "      <th>9155</th>\n",
       "      <td>They made history, but history forgot them. Un...</td>\n",
       "      <td>0</td>\n",
       "    </tr>\n",
       "    <tr>\n",
       "      <th>99578</th>\n",
       "      <td>They're sharing some brave thoughts and experi...</td>\n",
       "      <td>0</td>\n",
       "    </tr>\n",
       "    <tr>\n",
       "      <th>33665</th>\n",
       "      <td>What Would Happen If You Took Off Every Piece ...</td>\n",
       "      <td>0</td>\n",
       "    </tr>\n",
       "  </tbody>\n",
       "</table>\n",
       "</div>"
      ],
      "text/plain": [
       "                                                headline  clicks\n",
       "99145  There's a lot to be happy about. For example, ...       0\n",
       "8063   Folks in this city survive on $3 per day. He c...       0\n",
       "99577  They're saying some pretty brave things in thi...       0\n",
       "99574  Yes! This is the brave, all-inclusive, pro-cho...       0\n",
       "9940   This is what deforestation can do to your city...       0\n",
       "33840  It Only Took Rachel Maddow 48 Seconds To Debun...       0\n",
       "33839  It Only Took Rachel Maddow 48 Seconds To Shut ...       0\n",
       "37170  In Case You Missed It, Here's What The Trayvon...       0\n",
       "37172  In Case You Missed It, Here's What The Trayvon...       0\n",
       "37175  In Case You Missed It, Here's What The Trayvon...       0\n",
       "37186  In Case You Missed It, Here's What The Trayvon...       0\n",
       "86765  Why Having 1 Real Life Friend Is Way Better Th...       0\n",
       "37188  In Case You Missed It, Here's What The Trayvon...       0\n",
       "37206  In Case You Missed It, Here's What The Trayvon...       0\n",
       "37207  Imagine If This Man Had Walked Down The Wrong ...       0\n",
       "37208  Imagine If This Man Had Walked Down The Wrong ...       0\n",
       "9152   People all over the world have so many reasons...       0\n",
       "9155   They made history, but history forgot them. Un...       0\n",
       "99578  They're sharing some brave thoughts and experi...       0\n",
       "33665  What Would Happen If You Took Off Every Piece ...       0"
      ]
     },
     "execution_count": 11,
     "metadata": {},
     "output_type": "execute_result"
    }
   ],
   "source": [
    "\n",
    "df.sort_values([\"clicks\"]).loc[:,['headline',\"clicks\"]][:20]\n"
   ]
  },
  {
   "cell_type": "markdown",
   "metadata": {},
   "source": [
    "### Ridge with clickrate instead of clicks"
   ]
  },
  {
   "cell_type": "code",
   "execution_count": null,
   "metadata": {},
   "outputs": [],
   "source": []
  },
  {
   "cell_type": "code",
   "execution_count": 118,
   "metadata": {},
   "outputs": [
    {
     "name": "stdout",
     "output_type": "stream",
     "text": [
      "105551\n",
      "0.0\n",
      "0.0\n",
      "0.0\n",
      "0.0\n",
      "0.0\n",
      "0.0\n",
      "0.0\n",
      "0.0\n",
      "0.0\n",
      "0.0\n",
      "0.0\n",
      "0.0\n",
      "0.0\n",
      "0.0\n",
      "0.0\n",
      "0.0\n",
      "0.0\n",
      "0.0\n",
      "0.0\n",
      "0.0\n",
      "0.0\n",
      "0.0\n",
      "0.0\n",
      "0.0\n",
      "0.0\n",
      "0.0\n",
      "0.0\n",
      "0.0\n",
      "0.0\n",
      "0.0\n",
      "0.0\n",
      "0.0\n",
      "0.0\n",
      "0.0\n",
      "0.0\n",
      "0.0\n",
      "0.0\n",
      "0.0\n",
      "0.0\n",
      "0.0\n",
      "0.0\n",
      "0.0\n",
      "0.0\n",
      "0.0\n",
      "0.0\n",
      "0.0\n",
      "0.0\n",
      "0.0\n",
      "0.0\n",
      "0.0\n",
      "0.0\n",
      "0.0\n",
      "0.0\n",
      "0.0\n",
      "0.0\n",
      "0.0\n",
      "0.0\n",
      "0.0\n",
      "0.0\n",
      "0.0\n",
      "0.0\n",
      "0.0\n",
      "0.0\n",
      "0.0\n",
      "0.0\n",
      "0.0\n",
      "0.0\n",
      "Ridge Regression MSE for click difference: 0.00012682119477701849\n",
      "Ridge Regression R2 for click difference: 0.17715031350380062\n",
      "0.0\n"
     ]
    }
   ],
   "source": [
    "\n",
    "clickrate =torch.tensor(df.clickrate.values)\n",
    "\n",
    "\n",
    "X_train, X_test, y_train, y_test = train_test_split(stored_embeddings,clickrate, test_size=0.2)\n",
    "# Ridge Model\n",
    "\n",
    "ridge_model_clickrate =RidgeCV(alphas=[0.001,0.002,0.005,0.01,0.05,0.07,0.2,0.4,0.6, 1, 10],store_cv_values=True)\n",
    "ridge_model_clickrate.fit(X_train, y_train)\n",
    "ridge_model_clickrate.score(X_train,y_train) #0.1629\n",
    "predictions_clickrate = ridge_model_clickrate.predict(X_test) #alpha = 10\n",
    "rmse_clickrate = mean_squared_error(y_test, predictions_clickrate)\n",
    "\n",
    "predictions_clickrate_all = ridge_model_clickrate.predict(stored_embeddings)\n",
    "print(predictions_clickrate_all.shape[0])\n",
    "\n",
    "\n",
    "for i in range(predictions_clickrate_all.shape[0]):\n",
    "    if predictions_clickrate_all[i] < 0:\n",
    "        predictions_clickrate_all[i] = 0\n",
    "        \n",
    "df[\"predictions_clickrate_all\"] = predictions_clickrate_all\n",
    "\n",
    "print(\"Ridge Regression MSE for click difference:\", rmse_clickrate)\n",
    "print(\"Ridge Regression R2 for click difference:\", r2_score(y_true=y_test, y_pred=predictions_clickrate))\n",
    "print(predictions_clickrate_all.min())\n",
    "\n",
    "\n"
   ]
  },
  {
   "cell_type": "markdown",
   "metadata": {},
   "source": [
    "### Last 20 predicted"
   ]
  },
  {
   "cell_type": "code",
   "execution_count": 119,
   "metadata": {},
   "outputs": [
    {
     "data": {
      "text/html": [
       "<div>\n",
       "<style scoped>\n",
       "    .dataframe tbody tr th:only-of-type {\n",
       "        vertical-align: middle;\n",
       "    }\n",
       "\n",
       "    .dataframe tbody tr th {\n",
       "        vertical-align: top;\n",
       "    }\n",
       "\n",
       "    .dataframe thead th {\n",
       "        text-align: right;\n",
       "    }\n",
       "</style>\n",
       "<table border=\"1\" class=\"dataframe\">\n",
       "  <thead>\n",
       "    <tr style=\"text-align: right;\">\n",
       "      <th></th>\n",
       "      <th>headline</th>\n",
       "      <th>clickrate</th>\n",
       "      <th>predictions_clickrate_all</th>\n",
       "    </tr>\n",
       "  </thead>\n",
       "  <tbody>\n",
       "    <tr>\n",
       "      <th>104966</th>\n",
       "      <td>When The Holidays Become All About Spending Mo...</td>\n",
       "      <td>0.011</td>\n",
       "      <td>0.0</td>\n",
       "    </tr>\n",
       "    <tr>\n",
       "      <th>25344</th>\n",
       "      <td>5 Ways To Save Water Every Day At Home</td>\n",
       "      <td>0.008</td>\n",
       "      <td>0.0</td>\n",
       "    </tr>\n",
       "    <tr>\n",
       "      <th>92388</th>\n",
       "      <td>Batman And Superman May Be Able To Save Gotham...</td>\n",
       "      <td>0.006</td>\n",
       "      <td>0.0</td>\n",
       "    </tr>\n",
       "    <tr>\n",
       "      <th>100883</th>\n",
       "      <td>Good water here is so precious that they learn...</td>\n",
       "      <td>0.004</td>\n",
       "      <td>0.0</td>\n",
       "    </tr>\n",
       "    <tr>\n",
       "      <th>32104</th>\n",
       "      <td>What Do You Get When You Take A City And Add 1...</td>\n",
       "      <td>0.008</td>\n",
       "      <td>0.0</td>\n",
       "    </tr>\n",
       "    <tr>\n",
       "      <th>105126</th>\n",
       "      <td>How Some People Are Spending Time Instead Of M...</td>\n",
       "      <td>0.007</td>\n",
       "      <td>0.0</td>\n",
       "    </tr>\n",
       "    <tr>\n",
       "      <th>32105</th>\n",
       "      <td>What Do You Get When You Take A City And Add 1...</td>\n",
       "      <td>0.007</td>\n",
       "      <td>0.0</td>\n",
       "    </tr>\n",
       "    <tr>\n",
       "      <th>32106</th>\n",
       "      <td>What Do You Get When You Take A City And Add 1...</td>\n",
       "      <td>0.006</td>\n",
       "      <td>0.0</td>\n",
       "    </tr>\n",
       "    <tr>\n",
       "      <th>71083</th>\n",
       "      <td>Getting Money Out Of Politics In Under A Minute</td>\n",
       "      <td>0.005</td>\n",
       "      <td>0.0</td>\n",
       "    </tr>\n",
       "    <tr>\n",
       "      <th>2599</th>\n",
       "      <td>Water is a job creator. It's big time.</td>\n",
       "      <td>0.002</td>\n",
       "      <td>0.0</td>\n",
       "    </tr>\n",
       "    <tr>\n",
       "      <th>15879</th>\n",
       "      <td>Is This The Future Of Preparing For Tornadoes?...</td>\n",
       "      <td>0.006</td>\n",
       "      <td>0.0</td>\n",
       "    </tr>\n",
       "    <tr>\n",
       "      <th>2596</th>\n",
       "      <td>They used to have to try so hard to find water...</td>\n",
       "      <td>0.004</td>\n",
       "      <td>0.0</td>\n",
       "    </tr>\n",
       "    <tr>\n",
       "      <th>93770</th>\n",
       "      <td>When The Holidays Become All About Spending Mo...</td>\n",
       "      <td>0.007</td>\n",
       "      <td>0.0</td>\n",
       "    </tr>\n",
       "    <tr>\n",
       "      <th>2548</th>\n",
       "      <td>What does throwing a pebble into a pond have t...</td>\n",
       "      <td>0.002</td>\n",
       "      <td>0.0</td>\n",
       "    </tr>\n",
       "    <tr>\n",
       "      <th>5867</th>\n",
       "      <td>The River Runs Right Through Their City. A Dis...</td>\n",
       "      <td>0.002</td>\n",
       "      <td>0.0</td>\n",
       "    </tr>\n",
       "    <tr>\n",
       "      <th>84421</th>\n",
       "      <td>A Fascinating Story About Chasing Glaciers Thr...</td>\n",
       "      <td>0.002</td>\n",
       "      <td>0.0</td>\n",
       "    </tr>\n",
       "    <tr>\n",
       "      <th>24140</th>\n",
       "      <td>For 100 Years, This Organization Has Helped Mu...</td>\n",
       "      <td>0.002</td>\n",
       "      <td>0.0</td>\n",
       "    </tr>\n",
       "    <tr>\n",
       "      <th>27698</th>\n",
       "      <td>What Group Of People Is So Powerful No One Wan...</td>\n",
       "      <td>0.018</td>\n",
       "      <td>0.0</td>\n",
       "    </tr>\n",
       "    <tr>\n",
       "      <th>104064</th>\n",
       "      <td>Doing Something Seems Daunting. Doing Nothing ...</td>\n",
       "      <td>0.003</td>\n",
       "      <td>0.0</td>\n",
       "    </tr>\n",
       "    <tr>\n",
       "      <th>33485</th>\n",
       "      <td>Struggling To Provide Opportunities In The Dev...</td>\n",
       "      <td>0.001</td>\n",
       "      <td>0.0</td>\n",
       "    </tr>\n",
       "  </tbody>\n",
       "</table>\n",
       "</div>"
      ],
      "text/plain": [
       "                                                 headline  clickrate  \\\n",
       "104966  When The Holidays Become All About Spending Mo...      0.011   \n",
       "25344              5 Ways To Save Water Every Day At Home      0.008   \n",
       "92388   Batman And Superman May Be Able To Save Gotham...      0.006   \n",
       "100883  Good water here is so precious that they learn...      0.004   \n",
       "32104   What Do You Get When You Take A City And Add 1...      0.008   \n",
       "105126  How Some People Are Spending Time Instead Of M...      0.007   \n",
       "32105   What Do You Get When You Take A City And Add 1...      0.007   \n",
       "32106   What Do You Get When You Take A City And Add 1...      0.006   \n",
       "71083     Getting Money Out Of Politics In Under A Minute      0.005   \n",
       "2599               Water is a job creator. It's big time.      0.002   \n",
       "15879   Is This The Future Of Preparing For Tornadoes?...      0.006   \n",
       "2596    They used to have to try so hard to find water...      0.004   \n",
       "93770   When The Holidays Become All About Spending Mo...      0.007   \n",
       "2548    What does throwing a pebble into a pond have t...      0.002   \n",
       "5867    The River Runs Right Through Their City. A Dis...      0.002   \n",
       "84421   A Fascinating Story About Chasing Glaciers Thr...      0.002   \n",
       "24140   For 100 Years, This Organization Has Helped Mu...      0.002   \n",
       "27698   What Group Of People Is So Powerful No One Wan...      0.018   \n",
       "104064  Doing Something Seems Daunting. Doing Nothing ...      0.003   \n",
       "33485   Struggling To Provide Opportunities In The Dev...      0.001   \n",
       "\n",
       "        predictions_clickrate_all  \n",
       "104966                        0.0  \n",
       "25344                         0.0  \n",
       "92388                         0.0  \n",
       "100883                        0.0  \n",
       "32104                         0.0  \n",
       "105126                        0.0  \n",
       "32105                         0.0  \n",
       "32106                         0.0  \n",
       "71083                         0.0  \n",
       "2599                          0.0  \n",
       "15879                         0.0  \n",
       "2596                          0.0  \n",
       "93770                         0.0  \n",
       "2548                          0.0  \n",
       "5867                          0.0  \n",
       "84421                         0.0  \n",
       "24140                         0.0  \n",
       "27698                         0.0  \n",
       "104064                        0.0  \n",
       "33485                         0.0  "
      ]
     },
     "execution_count": 119,
     "metadata": {},
     "output_type": "execute_result"
    }
   ],
   "source": [
    "#last 20 predicted\n",
    "df.sort_values([\"predictions_clickrate_all\"]).loc[:,['headline',\"clickrate\",\"predictions_clickrate_all\"]][:20]\n",
    "\n"
   ]
  },
  {
   "cell_type": "markdown",
   "metadata": {},
   "source": [
    "#### Potential explanations:\n",
    "#### 1. Questions\n",
    "#### 2. Topics about the future - i.e food shortage, water supply, preparing for tornadoes"
   ]
  },
  {
   "cell_type": "raw",
   "metadata": {},
   "source": [
    "### Top 20 predicted"
   ]
  },
  {
   "cell_type": "code",
   "execution_count": 60,
   "metadata": {},
   "outputs": [
    {
     "data": {
      "text/html": [
       "<div>\n",
       "<style scoped>\n",
       "    .dataframe tbody tr th:only-of-type {\n",
       "        vertical-align: middle;\n",
       "    }\n",
       "\n",
       "    .dataframe tbody tr th {\n",
       "        vertical-align: top;\n",
       "    }\n",
       "\n",
       "    .dataframe thead th {\n",
       "        text-align: right;\n",
       "    }\n",
       "</style>\n",
       "<table border=\"1\" class=\"dataframe\">\n",
       "  <thead>\n",
       "    <tr style=\"text-align: right;\">\n",
       "      <th></th>\n",
       "      <th>headline</th>\n",
       "      <th>clickrate</th>\n",
       "      <th>predictions_clickrate</th>\n",
       "    </tr>\n",
       "  </thead>\n",
       "  <tbody>\n",
       "    <tr>\n",
       "      <th>85337</th>\n",
       "      <td>A Woman Asks A Random Dude Whether His Bulge I...</td>\n",
       "      <td>0.017</td>\n",
       "      <td>-3.144127</td>\n",
       "    </tr>\n",
       "    <tr>\n",
       "      <th>45859</th>\n",
       "      <td>Wow... Watch This Young Woman Render Jon Stewa...</td>\n",
       "      <td>0.057</td>\n",
       "      <td>-3.004779</td>\n",
       "    </tr>\n",
       "    <tr>\n",
       "      <th>45839</th>\n",
       "      <td>Watch This Incredible Young Woman Render Jon S...</td>\n",
       "      <td>0.062</td>\n",
       "      <td>-3.039925</td>\n",
       "    </tr>\n",
       "    <tr>\n",
       "      <th>45856</th>\n",
       "      <td>Watch This Incredible Young Woman Render Jon S...</td>\n",
       "      <td>0.059</td>\n",
       "      <td>-3.039925</td>\n",
       "    </tr>\n",
       "    <tr>\n",
       "      <th>48669</th>\n",
       "      <td>Watch This Incredible Young Woman Render Jon S...</td>\n",
       "      <td>0.023</td>\n",
       "      <td>-3.039925</td>\n",
       "    </tr>\n",
       "    <tr>\n",
       "      <th>48668</th>\n",
       "      <td>Watch This Incredible Young Woman Render Jon S...</td>\n",
       "      <td>0.016</td>\n",
       "      <td>-3.039925</td>\n",
       "    </tr>\n",
       "    <tr>\n",
       "      <th>48857</th>\n",
       "      <td>Watch This Incredible Young Woman Render Jon S...</td>\n",
       "      <td>0.019</td>\n",
       "      <td>-3.039925</td>\n",
       "    </tr>\n",
       "    <tr>\n",
       "      <th>48663</th>\n",
       "      <td>Watch This Incredible Young Woman Render Jon S...</td>\n",
       "      <td>0.026</td>\n",
       "      <td>-3.039925</td>\n",
       "    </tr>\n",
       "    <tr>\n",
       "      <th>48856</th>\n",
       "      <td>Watch This Incredible Young Woman Render Jon S...</td>\n",
       "      <td>0.010</td>\n",
       "      <td>-3.039925</td>\n",
       "    </tr>\n",
       "    <tr>\n",
       "      <th>48665</th>\n",
       "      <td>Watch This Incredible Young Woman Render Jon S...</td>\n",
       "      <td>0.014</td>\n",
       "      <td>-3.039925</td>\n",
       "    </tr>\n",
       "    <tr>\n",
       "      <th>48667</th>\n",
       "      <td>Watch This Incredible Young Woman Render Jon S...</td>\n",
       "      <td>0.020</td>\n",
       "      <td>-3.039925</td>\n",
       "    </tr>\n",
       "    <tr>\n",
       "      <th>48861</th>\n",
       "      <td>Watch This Incredible Young Woman Render Jon S...</td>\n",
       "      <td>0.027</td>\n",
       "      <td>-3.039925</td>\n",
       "    </tr>\n",
       "    <tr>\n",
       "      <th>48860</th>\n",
       "      <td>Watch This Incredible Young Woman Render Jon S...</td>\n",
       "      <td>0.021</td>\n",
       "      <td>-3.039925</td>\n",
       "    </tr>\n",
       "    <tr>\n",
       "      <th>48664</th>\n",
       "      <td>Watch This Incredible Young Woman Render Jon S...</td>\n",
       "      <td>0.009</td>\n",
       "      <td>-3.039925</td>\n",
       "    </tr>\n",
       "    <tr>\n",
       "      <th>48858</th>\n",
       "      <td>Watch This Incredible Young Woman Render Jon S...</td>\n",
       "      <td>0.023</td>\n",
       "      <td>-3.039925</td>\n",
       "    </tr>\n",
       "    <tr>\n",
       "      <th>48855</th>\n",
       "      <td>Watch This Incredible Young Woman Render Jon S...</td>\n",
       "      <td>0.034</td>\n",
       "      <td>-3.039925</td>\n",
       "    </tr>\n",
       "    <tr>\n",
       "      <th>48859</th>\n",
       "      <td>Watch This Incredible Young Woman Render Jon S...</td>\n",
       "      <td>0.026</td>\n",
       "      <td>-3.039925</td>\n",
       "    </tr>\n",
       "    <tr>\n",
       "      <th>48666</th>\n",
       "      <td>Watch This Incredible Young Woman Render Jon S...</td>\n",
       "      <td>0.017</td>\n",
       "      <td>-3.039925</td>\n",
       "    </tr>\n",
       "    <tr>\n",
       "      <th>45857</th>\n",
       "      <td>Watch This Amazing Young Woman Render Jon Stew...</td>\n",
       "      <td>0.056</td>\n",
       "      <td>-3.021371</td>\n",
       "    </tr>\n",
       "    <tr>\n",
       "      <th>45858</th>\n",
       "      <td>Watch This Remarkable Young Woman Render Jon S...</td>\n",
       "      <td>0.057</td>\n",
       "      <td>-3.021103</td>\n",
       "    </tr>\n",
       "  </tbody>\n",
       "</table>\n",
       "</div>"
      ],
      "text/plain": [
       "                                                headline  clickrate  \\\n",
       "85337  A Woman Asks A Random Dude Whether His Bulge I...      0.017   \n",
       "45859  Wow... Watch This Young Woman Render Jon Stewa...      0.057   \n",
       "45839  Watch This Incredible Young Woman Render Jon S...      0.062   \n",
       "45856  Watch This Incredible Young Woman Render Jon S...      0.059   \n",
       "48669  Watch This Incredible Young Woman Render Jon S...      0.023   \n",
       "48668  Watch This Incredible Young Woman Render Jon S...      0.016   \n",
       "48857  Watch This Incredible Young Woman Render Jon S...      0.019   \n",
       "48663  Watch This Incredible Young Woman Render Jon S...      0.026   \n",
       "48856  Watch This Incredible Young Woman Render Jon S...      0.010   \n",
       "48665  Watch This Incredible Young Woman Render Jon S...      0.014   \n",
       "48667  Watch This Incredible Young Woman Render Jon S...      0.020   \n",
       "48861  Watch This Incredible Young Woman Render Jon S...      0.027   \n",
       "48860  Watch This Incredible Young Woman Render Jon S...      0.021   \n",
       "48664  Watch This Incredible Young Woman Render Jon S...      0.009   \n",
       "48858  Watch This Incredible Young Woman Render Jon S...      0.023   \n",
       "48855  Watch This Incredible Young Woman Render Jon S...      0.034   \n",
       "48859  Watch This Incredible Young Woman Render Jon S...      0.026   \n",
       "48666  Watch This Incredible Young Woman Render Jon S...      0.017   \n",
       "45857  Watch This Amazing Young Woman Render Jon Stew...      0.056   \n",
       "45858  Watch This Remarkable Young Woman Render Jon S...      0.057   \n",
       "\n",
       "       predictions_clickrate  \n",
       "85337              -3.144127  \n",
       "45859              -3.004779  \n",
       "45839              -3.039925  \n",
       "45856              -3.039925  \n",
       "48669              -3.039925  \n",
       "48668              -3.039925  \n",
       "48857              -3.039925  \n",
       "48663              -3.039925  \n",
       "48856              -3.039925  \n",
       "48665              -3.039925  \n",
       "48667              -3.039925  \n",
       "48861              -3.039925  \n",
       "48860              -3.039925  \n",
       "48664              -3.039925  \n",
       "48858              -3.039925  \n",
       "48855              -3.039925  \n",
       "48859              -3.039925  \n",
       "48666              -3.039925  \n",
       "45857              -3.021371  \n",
       "45858              -3.021103  "
      ]
     },
     "execution_count": 60,
     "metadata": {},
     "output_type": "execute_result"
    }
   ],
   "source": [
    "\n",
    "df.sort_values([\"predictions\"]).loc[:,['headline',\"clickrate\",\"predictions_clickrate\"]][-20:]\n"
   ]
  },
  {
   "cell_type": "markdown",
   "metadata": {},
   "source": [
    "#### Potential explanations:\n",
    "#### 1. Call to action words - \"Watch\"\n",
    "#### 2. Capital letters"
   ]
  },
  {
   "cell_type": "code",
   "execution_count": 31,
   "metadata": {},
   "outputs": [
    {
     "name": "stdout",
     "output_type": "stream",
     "text": [
      "Linear Regression MSE for clicks: 0.01150009528231603\n",
      "Linear Regression R2 for clicks: 0.16792158841155258\n"
     ]
    }
   ],
   "source": [
    "# Linear Model\n",
    "linear_model =LinearRegression()\n",
    "linear_model.fit(X_train, y_train)\n",
    "linear_model.score(X_train,y_train) #0.1643\n",
    "predictions = linear_model.predict(X_test)\n",
    "rmse = mean_squared_error(y_test, predictions, squared=False)\n",
    "print(\"Linear Regression MSE for clicks:\", rmse)\n",
    "print(\"Linear Regression R2 for clicks:\", r2_score(y_true=y_test, y_pred=predictions))"
   ]
  },
  {
   "cell_type": "markdown",
   "metadata": {},
   "source": [
    "### Visualizing predicted clicks vs actual clicks"
   ]
  },
  {
   "cell_type": "code",
   "execution_count": 32,
   "metadata": {},
   "outputs": [
    {
     "data": {
      "text/plain": [
       "(0.0, 800.0)"
      ]
     },
     "execution_count": 32,
     "metadata": {},
     "output_type": "execute_result"
    },
    {
     "data": {
      "image/png": "[encoded data removed]",
      "text/plain": [
       "<Figure size 640x480 with 1 Axes>"
      ]
     },
     "metadata": {},
     "output_type": "display_data"
    }
   ],
   "source": [
    "import seaborn as sns\n",
    "import matplotlib.pyplot as plt\n",
    "import warnings\n",
    "warnings.filterwarnings(\"ignore\", \"is_categorical_dtype\")\n",
    "# print stuff. \n",
    "predictions = ridge_model.predict(stored_embeddings)\n",
    "\n",
    "# visualize real and predicted values\n",
    "fig, ax = plt.subplots()\n",
    "sns.scatterplot(x = predictions, y = df['clicks'], ax=ax)\n",
    "ax.set_xlim(0,800)\n"
   ]
  },
  {
   "cell_type": "code",
   "execution_count": 20,
   "metadata": {},
   "outputs": [],
   "source": [
    "#Pair headlines based on clickability_test_id and eyecatcher_id\n",
    "#Import dataset with pairs\n",
    "df_pairs = pd.read_csv(\"headline_pair_indices.csv\")\n",
    "#Compute vector difference\n",
    "embedding_diff = torch.stack(df_pairs.apply(lambda row: stored_embeddings[row['Idx_Headline1']] - stored_embeddings[row['Idx_Headline2']], axis=1).tolist()) \n",
    "#because we have a column where each row is a tensor so we kinda unpack them.\n",
    "#Sort pairs s.t. headline1 is headline with more clicks. \n",
    "df_sorted_pairs = df_pairs.copy()\n",
    "df_sorted_pairs.loc[~df_sorted_pairs[\"headline1_more_clicks\"], ['Idx_Headline1', 'Idx_Headline2']] = df_sorted_pairs.loc[~df_sorted_pairs[\"headline1_more_clicks\"], ['Idx_Headline2', 'Idx_Headline1']].values   "
   ]
  },
  {
   "cell_type": "markdown",
   "metadata": {},
   "source": [
    "# 2 Predicting Headline-Winner based on SBert Embeddings with Logistic Regression"
   ]
  },
  {
   "cell_type": "code",
   "execution_count": 21,
   "metadata": {},
   "outputs": [
    {
     "name": "stdout",
     "output_type": "stream",
     "text": [
      "Accuracy predicting winner: 0.6291588595736061\n"
     ]
    }
   ],
   "source": [
    "headline1_more_clicks = torch.tensor(df_pairs['headline1_more_clicks'])\n",
    "X_train, X_test, y_train, y_test = train_test_split(embedding_diff, headline1_more_clicks, test_size=0.2)\n",
    "logistic = LogisticRegression(max_iter=200)\n",
    "logistic.fit(X_train, y_train)\n",
    "predicted_logistic = logistic.predict(X_test)\n",
    "accuracy_logistic = accuracy_score(predicted_logistic,y_test)\n",
    "print(\"Accuracy predicting winner:\", accuracy_logistic)"
   ]
  },
  {
   "cell_type": "markdown",
   "metadata": {},
   "source": [
    "# 3 Predicting Click difference based on SBert embeddings with Ridge Regression"
   ]
  },
  {
   "cell_type": "code",
   "execution_count": 22,
   "metadata": {},
   "outputs": [],
   "source": [
    "#check shape matching and turning into tensors to work\n",
    "clicks_diff = torch.tensor(abs(df_pairs['click_difference']))\n",
    "#take sorted embeddings \n",
    "sorted_embedding_diff = torch.stack(df_sorted_pairs.apply(lambda row: stored_embeddings[row['Idx_Headline1']] - stored_embeddings[row['Idx_Headline2']], axis=1).tolist()) "
   ]
  },
  {
   "cell_type": "code",
   "execution_count": 23,
   "metadata": {},
   "outputs": [
    {
     "name": "stdout",
     "output_type": "stream",
     "text": [
      "Ridge Regression MSE for clicks difference: 250.27313508886158\n",
      "Ridge Regression R2 for click difference: 0.03849809185468611\n"
     ]
    }
   ],
   "source": [
    "#Based on difference vector\n",
    "X_train, X_test, y_train, y_test = train_test_split(sorted_embedding_diff, clicks_diff, test_size=0.2, random_state=seed)\n",
    "ridge_model_diff =RidgeCV(alphas=[0.001,0.002,0.005,0.01,0.05,0.07,0.2,0.4,0.6, 1, 10],store_cv_values=True)\n",
    "ridge_fit_diff = ridge_model_diff.fit(X_train, y_train)\n",
    "ridge_fit_diff.score(X_train,y_train) #0.09528\n",
    "ridge_predictions_diff = ridge_model_diff.predict(X_test)\n",
    "ridge_rmse_diff = mean_squared_error(y_test, ridge_predictions_diff)\n",
    "df_sorted_pairs[\"predictions\"] = ridge_model_diff.predict(sorted_embedding_diff)\n",
    "print(\"Ridge Regression MSE for clicks difference:\", ridge_rmse_diff)\n",
    "print(\"Ridge Regression R2 for click difference:\", r2_score(y_true=y_test, y_pred=ridge_predictions_diff)) "
   ]
  },
  {
   "cell_type": "markdown",
   "metadata": {},
   "source": [
    "### Last 20 predicted"
   ]
  },
  {
   "cell_type": "code",
   "execution_count": 24,
   "metadata": {},
   "outputs": [
    {
     "data": {
      "text/html": [
       "<div>\n",
       "<style scoped>\n",
       "    .dataframe tbody tr th:only-of-type {\n",
       "        vertical-align: middle;\n",
       "    }\n",
       "\n",
       "    .dataframe tbody tr th {\n",
       "        vertical-align: top;\n",
       "    }\n",
       "\n",
       "    .dataframe thead th {\n",
       "        text-align: right;\n",
       "    }\n",
       "</style>\n",
       "<table border=\"1\" class=\"dataframe\">\n",
       "  <thead>\n",
       "    <tr style=\"text-align: right;\">\n",
       "      <th></th>\n",
       "      <th>headline</th>\n",
       "      <th>clicks</th>\n",
       "    </tr>\n",
       "  </thead>\n",
       "  <tbody>\n",
       "    <tr>\n",
       "      <th>42159</th>\n",
       "      <td>So Now I'm Wondering If Toy Companies Even Wat...</td>\n",
       "      <td>94</td>\n",
       "    </tr>\n",
       "    <tr>\n",
       "      <th>16858</th>\n",
       "      <td>A Lesson On What *Not* To Say To Biracial People</td>\n",
       "      <td>72</td>\n",
       "    </tr>\n",
       "    <tr>\n",
       "      <th>99137</th>\n",
       "      <td>Giuliana Rancic proves it's possible to bounce...</td>\n",
       "      <td>23</td>\n",
       "    </tr>\n",
       "    <tr>\n",
       "      <th>16858</th>\n",
       "      <td>A Lesson On What *Not* To Say To Biracial People</td>\n",
       "      <td>72</td>\n",
       "    </tr>\n",
       "    <tr>\n",
       "      <th>77683</th>\n",
       "      <td>A Harvard Grad Turn Pro Wrestler Is Battling D...</td>\n",
       "      <td>20</td>\n",
       "    </tr>\n",
       "    <tr>\n",
       "      <th>30098</th>\n",
       "      <td>Do Mother's Day Like A Pro</td>\n",
       "      <td>11</td>\n",
       "    </tr>\n",
       "    <tr>\n",
       "      <th>32803</th>\n",
       "      <td>The Office Battle To End All Office Battles</td>\n",
       "      <td>34</td>\n",
       "    </tr>\n",
       "    <tr>\n",
       "      <th>4956</th>\n",
       "      <td>A New Way To See The World That's So Futuristi...</td>\n",
       "      <td>25</td>\n",
       "    </tr>\n",
       "    <tr>\n",
       "      <th>37090</th>\n",
       "      <td>Earth To Women: Stay Right There</td>\n",
       "      <td>65</td>\n",
       "    </tr>\n",
       "    <tr>\n",
       "      <th>56040</th>\n",
       "      <td>A Caricature Of Women, Care Of Yogurt Companies</td>\n",
       "      <td>31</td>\n",
       "    </tr>\n",
       "    <tr>\n",
       "      <th>37805</th>\n",
       "      <td>Meet The New Barbie, No Longer Burdened With T...</td>\n",
       "      <td>80</td>\n",
       "    </tr>\n",
       "    <tr>\n",
       "      <th>83278</th>\n",
       "      <td>He Slept With A Bat Under His Bed To Protect H...</td>\n",
       "      <td>59</td>\n",
       "    </tr>\n",
       "    <tr>\n",
       "      <th>93624</th>\n",
       "      <td>Given The Right Tools, See What A Bright South...</td>\n",
       "      <td>18</td>\n",
       "    </tr>\n",
       "    <tr>\n",
       "      <th>37804</th>\n",
       "      <td>Meet The Wannabe New Barbie, No Longer Burdene...</td>\n",
       "      <td>107</td>\n",
       "    </tr>\n",
       "    <tr>\n",
       "      <th>17397</th>\n",
       "      <td>How The Internet Looked At Father/Daughter Bon...</td>\n",
       "      <td>46</td>\n",
       "    </tr>\n",
       "    <tr>\n",
       "      <th>61547</th>\n",
       "      <td>Help! The Internet Made Another Beauty Standar...</td>\n",
       "      <td>57</td>\n",
       "    </tr>\n",
       "    <tr>\n",
       "      <th>20310</th>\n",
       "      <td>There's A High Price To Pay For Violence Again...</td>\n",
       "      <td>22</td>\n",
       "    </tr>\n",
       "    <tr>\n",
       "      <th>82413</th>\n",
       "      <td>A Story Of Abuse Comes From An Unexpected Plac...</td>\n",
       "      <td>31</td>\n",
       "    </tr>\n",
       "    <tr>\n",
       "      <th>61800</th>\n",
       "      <td>If This Inspires You, Then Congratulations, Yo...</td>\n",
       "      <td>32</td>\n",
       "    </tr>\n",
       "    <tr>\n",
       "      <th>28437</th>\n",
       "      <td>VIDEO: \"The Children Of Gay People Aren't Some...</td>\n",
       "      <td>46</td>\n",
       "    </tr>\n",
       "  </tbody>\n",
       "</table>\n",
       "</div>"
      ],
      "text/plain": [
       "                                                headline  clicks\n",
       "42159  So Now I'm Wondering If Toy Companies Even Wat...      94\n",
       "16858   A Lesson On What *Not* To Say To Biracial People      72\n",
       "99137  Giuliana Rancic proves it's possible to bounce...      23\n",
       "16858   A Lesson On What *Not* To Say To Biracial People      72\n",
       "77683  A Harvard Grad Turn Pro Wrestler Is Battling D...      20\n",
       "30098                         Do Mother's Day Like A Pro      11\n",
       "32803        The Office Battle To End All Office Battles      34\n",
       "4956   A New Way To See The World That's So Futuristi...      25\n",
       "37090                   Earth To Women: Stay Right There      65\n",
       "56040    A Caricature Of Women, Care Of Yogurt Companies      31\n",
       "37805  Meet The New Barbie, No Longer Burdened With T...      80\n",
       "83278  He Slept With A Bat Under His Bed To Protect H...      59\n",
       "93624  Given The Right Tools, See What A Bright South...      18\n",
       "37804  Meet The Wannabe New Barbie, No Longer Burdene...     107\n",
       "17397  How The Internet Looked At Father/Daughter Bon...      46\n",
       "61547  Help! The Internet Made Another Beauty Standar...      57\n",
       "20310  There's A High Price To Pay For Violence Again...      22\n",
       "82413  A Story Of Abuse Comes From An Unexpected Plac...      31\n",
       "61800  If This Inspires You, Then Congratulations, Yo...      32\n",
       "28437  VIDEO: \"The Children Of Gay People Aren't Some...      46"
      ]
     },
     "execution_count": 24,
     "metadata": {},
     "output_type": "execute_result"
    }
   ],
   "source": [
    "\n",
    "df.loc[df_sorted_pairs.sort_values([\"predictions\"], ascending=True).loc[:,'Idx_Headline1'][:20], ['headline', 'clicks']]\n",
    "\n"
   ]
  },
  {
   "cell_type": "code",
   "execution_count": null,
   "metadata": {},
   "outputs": [],
   "source": [
    "#### Possible explanations:\n",
    "#### 1.\n",
    "#### 2."
   ]
  },
  {
   "cell_type": "markdown",
   "metadata": {},
   "source": [
    "### Top 20 predicted"
   ]
  },
  {
   "cell_type": "code",
   "execution_count": 27,
   "metadata": {},
   "outputs": [
    {
     "data": {
      "text/html": [
       "<div>\n",
       "<style scoped>\n",
       "    .dataframe tbody tr th:only-of-type {\n",
       "        vertical-align: middle;\n",
       "    }\n",
       "\n",
       "    .dataframe tbody tr th {\n",
       "        vertical-align: top;\n",
       "    }\n",
       "\n",
       "    .dataframe thead th {\n",
       "        text-align: right;\n",
       "    }\n",
       "</style>\n",
       "<table border=\"1\" class=\"dataframe\">\n",
       "  <thead>\n",
       "    <tr style=\"text-align: right;\">\n",
       "      <th></th>\n",
       "      <th>headline</th>\n",
       "      <th>clicks</th>\n",
       "    </tr>\n",
       "  </thead>\n",
       "  <tbody>\n",
       "    <tr>\n",
       "      <th>78573</th>\n",
       "      <td>A Dad Took These Photos Of His Daughter. They'...</td>\n",
       "      <td>81</td>\n",
       "    </tr>\n",
       "    <tr>\n",
       "      <th>55951</th>\n",
       "      <td>You May Be Startled By Where This Girl Ends Up...</td>\n",
       "      <td>47</td>\n",
       "    </tr>\n",
       "    <tr>\n",
       "      <th>77299</th>\n",
       "      <td>The Sad Thing That Little Girl Told Him On The...</td>\n",
       "      <td>39</td>\n",
       "    </tr>\n",
       "    <tr>\n",
       "      <th>18920</th>\n",
       "      <td>The Doctors Thought His Mom Would Reject Him. ...</td>\n",
       "      <td>152</td>\n",
       "    </tr>\n",
       "    <tr>\n",
       "      <th>91090</th>\n",
       "      <td>A Funny Old Lady Finally Says What She Thinks ...</td>\n",
       "      <td>57</td>\n",
       "    </tr>\n",
       "    <tr>\n",
       "      <th>72482</th>\n",
       "      <td>A Camera Follows A Guy To Show Something We're...</td>\n",
       "      <td>57</td>\n",
       "    </tr>\n",
       "    <tr>\n",
       "      <th>74889</th>\n",
       "      <td>A Girl Said Something Really Racist To This Gu...</td>\n",
       "      <td>77</td>\n",
       "    </tr>\n",
       "    <tr>\n",
       "      <th>17114</th>\n",
       "      <td>A Girl Said Something Really Racist To This Gu...</td>\n",
       "      <td>96</td>\n",
       "    </tr>\n",
       "    <tr>\n",
       "      <th>41882</th>\n",
       "      <td>At 5pm The Mans Daughter Was Sick. By 7pm She ...</td>\n",
       "      <td>124</td>\n",
       "    </tr>\n",
       "    <tr>\n",
       "      <th>45379</th>\n",
       "      <td>A Dad Scolds His Homophobic Daughter In This B...</td>\n",
       "      <td>219</td>\n",
       "    </tr>\n",
       "    <tr>\n",
       "      <th>54370</th>\n",
       "      <td>Al Gore Told This Woman Something So Disturbin...</td>\n",
       "      <td>132</td>\n",
       "    </tr>\n",
       "    <tr>\n",
       "      <th>32801</th>\n",
       "      <td>When The Boss Said, 'Dance For Your Day Off' H...</td>\n",
       "      <td>46</td>\n",
       "    </tr>\n",
       "    <tr>\n",
       "      <th>97399</th>\n",
       "      <td>A Young Artist She Lost Her Sight. Then A Guy ...</td>\n",
       "      <td>40</td>\n",
       "    </tr>\n",
       "    <tr>\n",
       "      <th>45379</th>\n",
       "      <td>A Dad Scolds His Homophobic Daughter In This B...</td>\n",
       "      <td>219</td>\n",
       "    </tr>\n",
       "    <tr>\n",
       "      <th>67419</th>\n",
       "      <td>A Fast-Talking White Guy Goes To Africa And Fi...</td>\n",
       "      <td>45</td>\n",
       "    </tr>\n",
       "    <tr>\n",
       "      <th>71212</th>\n",
       "      <td>If You Have Ever Seen Porn, It's Really Import...</td>\n",
       "      <td>169</td>\n",
       "    </tr>\n",
       "    <tr>\n",
       "      <th>7885</th>\n",
       "      <td>A man screamed at her once because he thought ...</td>\n",
       "      <td>32</td>\n",
       "    </tr>\n",
       "    <tr>\n",
       "      <th>29862</th>\n",
       "      <td>An Interviewer Asks An Expert What We Can Do T...</td>\n",
       "      <td>58</td>\n",
       "    </tr>\n",
       "    <tr>\n",
       "      <th>64503</th>\n",
       "      <td>The Murder Was ... People ... With The Palm Tr...</td>\n",
       "      <td>27</td>\n",
       "    </tr>\n",
       "    <tr>\n",
       "      <th>58819</th>\n",
       "      <td>With One Simple Joke, Every Cocaine User Accid...</td>\n",
       "      <td>124</td>\n",
       "    </tr>\n",
       "  </tbody>\n",
       "</table>\n",
       "</div>"
      ],
      "text/plain": [
       "                                                headline  clicks\n",
       "78573  A Dad Took These Photos Of His Daughter. They'...      81\n",
       "55951  You May Be Startled By Where This Girl Ends Up...      47\n",
       "77299  The Sad Thing That Little Girl Told Him On The...      39\n",
       "18920  The Doctors Thought His Mom Would Reject Him. ...     152\n",
       "91090  A Funny Old Lady Finally Says What She Thinks ...      57\n",
       "72482  A Camera Follows A Guy To Show Something We're...      57\n",
       "74889  A Girl Said Something Really Racist To This Gu...      77\n",
       "17114  A Girl Said Something Really Racist To This Gu...      96\n",
       "41882  At 5pm The Mans Daughter Was Sick. By 7pm She ...     124\n",
       "45379  A Dad Scolds His Homophobic Daughter In This B...     219\n",
       "54370  Al Gore Told This Woman Something So Disturbin...     132\n",
       "32801  When The Boss Said, 'Dance For Your Day Off' H...      46\n",
       "97399  A Young Artist She Lost Her Sight. Then A Guy ...      40\n",
       "45379  A Dad Scolds His Homophobic Daughter In This B...     219\n",
       "67419  A Fast-Talking White Guy Goes To Africa And Fi...      45\n",
       "71212  If You Have Ever Seen Porn, It's Really Import...     169\n",
       "7885   A man screamed at her once because he thought ...      32\n",
       "29862  An Interviewer Asks An Expert What We Can Do T...      58\n",
       "64503  The Murder Was ... People ... With The Palm Tr...      27\n",
       "58819  With One Simple Joke, Every Cocaine User Accid...     124"
      ]
     },
     "execution_count": 27,
     "metadata": {},
     "output_type": "execute_result"
    }
   ],
   "source": [
    "df.loc[df_sorted_pairs.sort_values([\"predictions\"], ascending=False).loc[:,'Idx_Headline1'][:20], ['headline', 'clicks']]\n"
   ]
  },
  {
   "cell_type": "code",
   "execution_count": 28,
   "metadata": {},
   "outputs": [],
   "source": [
    "#### Posible explanations:\n",
    "#### 1. Beginning of a story - i.e a man screamer, an interviewer asks..\n",
    "#### 2. Capital letters"
   ]
  },
  {
   "cell_type": "code",
   "execution_count": 39,
   "metadata": {},
   "outputs": [
    {
     "data": {
      "text/plain": [
       "(0.0, 450.0)"
      ]
     },
     "execution_count": 39,
     "metadata": {},
     "output_type": "execute_result"
    },
    {
     "data": {
      "image/png": "[encoded data removed]",
      "text/plain": [
       "<Figure size 640x480 with 1 Axes>"
      ]
     },
     "metadata": {},
     "output_type": "display_data"
    }
   ],
   "source": [
    "import seaborn as sns\n",
    "import matplotlib.pyplot as plt\n",
    "import warnings\n",
    "warnings.filterwarnings(\"ignore\", \"is_categorical_dtype\")\n",
    "# visualize real and predicted values\n",
    "fig, ax = plt.subplots()\n",
    "sns.scatterplot(x = df_sorted_pairs['predictions'], y = clicks_diff, ax=ax)\n",
    "ax.set_xlim(0,450)\n",
    "## this is super sketchy. "
   ]
  },
  {
   "cell_type": "markdown",
   "metadata": {},
   "source": [
    "### Compare headline ranking between true click difference and predicted click difference"
   ]
  },
  {
   "cell_type": "code",
   "execution_count": 40,
   "metadata": {},
   "outputs": [
    {
     "name": "stdout",
     "output_type": "stream",
     "text": [
      "Spearman correlation is SignificanceResult(statistic=0.0035262837510733965, pvalue=0.267859265800468)\n"
     ]
    }
   ],
   "source": [
    "\n",
    "\n",
    "# there has to be a better way!\n",
    "predicted_ranking = df_sorted_pairs.sort_values(['predictions'])['Idx_Headline1'].astype(str).values+df_sorted_pairs.sort_values(['predictions'])['Idx_Headline2'].astype(str).values\n",
    "true_ranking = df_sorted_pairs.sort_values(['click_difference'])['Idx_Headline1'].astype(str).values+df_sorted_pairs.sort_values(['click_difference'])['Idx_Headline2'].astype(str).values\n",
    "\n",
    "print(\"Spearman correlation is\",spearmanr(predicted_ranking, true_ranking))"
   ]
  },
  {
   "cell_type": "markdown",
   "metadata": {},
   "source": [
    "# Extra: Prediction based on concatenated full embeddings"
   ]
  },
  {
   "cell_type": "code",
   "execution_count": 41,
   "metadata": {
    "scrolled": true
   },
   "outputs": [
    {
     "name": "stdout",
     "output_type": "stream",
     "text": [
      "tensor([[-0.0639,  0.1315, -0.1852,  ...,  0.1781,  0.1700, -0.2824],\n",
      "        [ 0.0265,  0.0478,  0.2955,  ...,  0.1285, -0.0735, -0.2070],\n",
      "        [ 0.0265,  0.0478,  0.2955,  ..., -0.5914,  0.7509, -0.2418],\n",
      "        ...,\n",
      "        [ 0.2242, -0.0074, -0.0443,  ...,  0.0541, -0.1859, -0.2557],\n",
      "        [ 0.1863, -0.0445, -0.3540,  ...,  0.0511,  0.0482, -0.0710],\n",
      "        [ 0.2242, -0.0074, -0.0443,  ...,  0.0511,  0.0482, -0.0710]])\n"
     ]
    }
   ],
   "source": [
    "## Here we need to make sure the headline ordering is correct so we use sorted pairs \n",
    "#Compute concatenated embeddings of the pairs\n",
    "vec1 = df_sorted_pairs.apply(lambda row:(stored_embeddings[row['Idx_Headline1']]), axis=1)\n",
    "vec1= torch.stack(vec1.tolist())\n",
    "vec2 = df_sorted_pairs.apply(lambda row:(stored_embeddings[row['Idx_Headline2']]), axis=1)\n",
    "vec2= torch.stack(vec2.tolist())\n",
    "concatenated_vector = torch.cat([vec1, vec2], dim=1)\n",
    "print(concatenated_vector)"
   ]
  },
  {
   "cell_type": "code",
   "execution_count": 42,
   "metadata": {},
   "outputs": [],
   "source": [
    "#Based on concatenated full embeddings\n",
    "X_train, X_test, y_train, y_test = train_test_split(concatenated_vector, clicks_diff, test_size=0.2)"
   ]
  },
  {
   "cell_type": "code",
   "execution_count": 43,
   "metadata": {},
   "outputs": [
    {
     "name": "stdout",
     "output_type": "stream",
     "text": [
      "Ridge Regression MSE for clicks difference: 238.06609479064062\n",
      "Ridge Regression R2 for click difference: 0.08656572836873122\n"
     ]
    }
   ],
   "source": [
    "# Ridge Model\n",
    "ridge_model_diff =RidgeCV(alphas=[0.001,0.002,0.005,0.01,0.05,0.07,0.2,0.4,0.6, 1, 10],store_cv_values=True)\n",
    "ridge_fit_diff = ridge_model_diff.fit(X_train, y_train)\n",
    "ridge_fit_diff.score(X_train,y_train) #0.01513\n",
    "ridge_predictions_diff = ridge_model_diff.predict(X_test)\n",
    "ridge_rmse_diff = mean_squared_error(y_test, ridge_predictions_diff)\n",
    "print(\"Ridge Regression MSE for clicks difference:\", ridge_rmse_diff)\n",
    "print(\"Ridge Regression R2 for click difference:\", r2_score(y_true=y_test, y_pred=ridge_predictions_diff)) \n"
   ]
  },
  {
   "cell_type": "code",
   "execution_count": 44,
   "metadata": {},
   "outputs": [
    {
     "name": "stdout",
     "output_type": "stream",
     "text": [
      "Linear Regression MSE for clicks difference: 238.84032497030378\n",
      "Linear Regression R2 for click difference: 0.08359508955996886\n"
     ]
    }
   ],
   "source": [
    "# Linear Model\n",
    "lin_model_diff = LinearRegression()\n",
    "lin_fit_diff = lin_model_diff.fit(X_train, y_train)\n",
    "lin_fit_diff.score(X_train,y_train)\n",
    "lin_predictions_diff = lin_model_diff.predict(X_test)\n",
    "lin_rmse_diff = mean_squared_error(y_test, lin_predictions_diff)\n",
    "print(\"Linear Regression MSE for clicks difference:\", lin_rmse_diff) #Result is better with linear regression\n",
    "print(\"Linear Regression R2 for click difference:\", r2_score(y_true=y_test, y_pred=lin_predictions_diff)) "
   ]
  }
 ],
 "metadata": {
  "kernelspec": {
   "display_name": "Python 3 (ipykernel)",
   "language": "python",
   "name": "python3"
  },
  "language_info": {
   "codemirror_mode": {
    "name": "ipython",
    "version": 3
   },
   "file_extension": ".py",
   "mimetype": "text/x-python",
   "name": "python",
   "nbconvert_exporter": "python",
   "pygments_lexer": "ipython3",
   "version": "3.10.13"
  }
 },
 "nbformat": 4,
 "nbformat_minor": 4
}
